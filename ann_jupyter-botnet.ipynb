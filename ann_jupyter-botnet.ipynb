{
 "cells": [
  {
   "cell_type": "code",
   "execution_count": 1,
   "metadata": {},
   "outputs": [],
   "source": [
    "import numpy as np\n",
    "import pandas as pd\n",
    "import matplotlib.pyplot as plt"
   ]
  },
  {
   "cell_type": "code",
   "execution_count": 2,
   "metadata": {},
   "outputs": [],
   "source": [
    "dataset = pd.read_csv('training.csv')"
   ]
  },
  {
   "cell_type": "code",
   "execution_count": 3,
   "metadata": {},
   "outputs": [
    {
     "data": {
      "text/html": [
       "<div>\n",
       "<style scoped>\n",
       "    .dataframe tbody tr th:only-of-type {\n",
       "        vertical-align: middle;\n",
       "    }\n",
       "\n",
       "    .dataframe tbody tr th {\n",
       "        vertical-align: top;\n",
       "    }\n",
       "\n",
       "    .dataframe thead th {\n",
       "        text-align: right;\n",
       "    }\n",
       "</style>\n",
       "<table border=\"1\" class=\"dataframe\">\n",
       "  <thead>\n",
       "    <tr style=\"text-align: right;\">\n",
       "      <th></th>\n",
       "      <th>APL</th>\n",
       "      <th>AvgPktPerSec</th>\n",
       "      <th>IAT</th>\n",
       "      <th>NumForward</th>\n",
       "      <th>BytesEx</th>\n",
       "      <th>BitsPerSec</th>\n",
       "      <th>NumPackets</th>\n",
       "      <th>StdDevLen</th>\n",
       "      <th>Duration</th>\n",
       "      <th>IOPR</th>\n",
       "      <th>isBot</th>\n",
       "    </tr>\n",
       "  </thead>\n",
       "  <tbody>\n",
       "    <tr>\n",
       "      <th>0</th>\n",
       "      <td>0.000</td>\n",
       "      <td>0.673102</td>\n",
       "      <td>1782790.0</td>\n",
       "      <td>6</td>\n",
       "      <td>0</td>\n",
       "      <td>0.0</td>\n",
       "      <td>6</td>\n",
       "      <td>0.0</td>\n",
       "      <td>8913955</td>\n",
       "      <td>0.00</td>\n",
       "      <td>1</td>\n",
       "    </tr>\n",
       "    <tr>\n",
       "      <th>1</th>\n",
       "      <td>0.000</td>\n",
       "      <td>0.124399</td>\n",
       "      <td>16100000.0</td>\n",
       "      <td>2</td>\n",
       "      <td>0</td>\n",
       "      <td>0.0</td>\n",
       "      <td>2</td>\n",
       "      <td>0.0</td>\n",
       "      <td>16077310</td>\n",
       "      <td>0.00</td>\n",
       "      <td>1</td>\n",
       "    </tr>\n",
       "    <tr>\n",
       "      <th>2</th>\n",
       "      <td>0.000</td>\n",
       "      <td>0.020882</td>\n",
       "      <td>95800000.0</td>\n",
       "      <td>2</td>\n",
       "      <td>0</td>\n",
       "      <td>0.0</td>\n",
       "      <td>2</td>\n",
       "      <td>0.0</td>\n",
       "      <td>95774697</td>\n",
       "      <td>0.00</td>\n",
       "      <td>0</td>\n",
       "    </tr>\n",
       "    <tr>\n",
       "      <th>3</th>\n",
       "      <td>119.714</td>\n",
       "      <td>80.688900</td>\n",
       "      <td>14458.8</td>\n",
       "      <td>4</td>\n",
       "      <td>838</td>\n",
       "      <td>77276.9</td>\n",
       "      <td>7</td>\n",
       "      <td>49.5</td>\n",
       "      <td>86753</td>\n",
       "      <td>0.75</td>\n",
       "      <td>1</td>\n",
       "    </tr>\n",
       "    <tr>\n",
       "      <th>4</th>\n",
       "      <td>0.000</td>\n",
       "      <td>11111.100000</td>\n",
       "      <td>180.0</td>\n",
       "      <td>2</td>\n",
       "      <td>0</td>\n",
       "      <td>0.0</td>\n",
       "      <td>2</td>\n",
       "      <td>0.0</td>\n",
       "      <td>180</td>\n",
       "      <td>0.00</td>\n",
       "      <td>1</td>\n",
       "    </tr>\n",
       "  </tbody>\n",
       "</table>\n",
       "</div>"
      ],
      "text/plain": [
       "       APL  AvgPktPerSec         IAT  NumForward  BytesEx  BitsPerSec  \\\n",
       "0    0.000      0.673102   1782790.0           6        0         0.0   \n",
       "1    0.000      0.124399  16100000.0           2        0         0.0   \n",
       "2    0.000      0.020882  95800000.0           2        0         0.0   \n",
       "3  119.714     80.688900     14458.8           4      838     77276.9   \n",
       "4    0.000  11111.100000       180.0           2        0         0.0   \n",
       "\n",
       "   NumPackets  StdDevLen  Duration  IOPR  isBot  \n",
       "0           6        0.0   8913955  0.00      1  \n",
       "1           2        0.0  16077310  0.00      1  \n",
       "2           2        0.0  95774697  0.00      0  \n",
       "3           7       49.5     86753  0.75      1  \n",
       "4           2        0.0       180  0.00      1  "
      ]
     },
     "execution_count": 3,
     "metadata": {},
     "output_type": "execute_result"
    }
   ],
   "source": [
    "dataset.head()"
   ]
  },
  {
   "cell_type": "code",
   "execution_count": 6,
   "metadata": {},
   "outputs": [],
   "source": [
    "X = dataset.iloc[:, 0:10].values\n",
    "Y = dataset.iloc[:,10].values"
   ]
  },
  {
   "cell_type": "code",
   "execution_count": 7,
   "metadata": {},
   "outputs": [
    {
     "data": {
      "text/plain": [
       "array([[  0.00000000e+00,   6.73102000e-01,   1.78279000e+06, ...,\n",
       "          0.00000000e+00,   8.91395500e+06,   0.00000000e+00],\n",
       "       [  0.00000000e+00,   1.24399000e-01,   1.61000000e+07, ...,\n",
       "          0.00000000e+00,   1.60773100e+07,   0.00000000e+00],\n",
       "       [  0.00000000e+00,   2.08823000e-02,   9.58000000e+07, ...,\n",
       "          0.00000000e+00,   9.57746970e+07,   0.00000000e+00],\n",
       "       ..., \n",
       "       [  9.30000000e+01,   1.91966000e+01,   1.04185000e+05, ...,\n",
       "          0.00000000e+00,   1.04185000e+05,   1.00000000e+00],\n",
       "       [  6.20000000e+01,   4.41055000e+00,   4.53458000e+05, ...,\n",
       "          0.00000000e+00,   4.53458000e+05,   1.00000000e+00],\n",
       "       [  8.79154000e+02,   2.28472000e+01,   4.39514000e+04, ...,\n",
       "          1.21602000e+01,   1.05483460e+07,   5.88571000e+00]])"
      ]
     },
     "execution_count": 7,
     "metadata": {},
     "output_type": "execute_result"
    }
   ],
   "source": [
    "X"
   ]
  },
  {
   "cell_type": "code",
   "execution_count": 8,
   "metadata": {},
   "outputs": [
    {
     "data": {
      "text/plain": [
       "array([1, 1, 0, ..., 1, 1, 0])"
      ]
     },
     "execution_count": 8,
     "metadata": {},
     "output_type": "execute_result"
    }
   ],
   "source": [
    "Y"
   ]
  },
  {
   "cell_type": "code",
   "execution_count": 9,
   "metadata": {},
   "outputs": [
    {
     "data": {
      "text/plain": [
       "numpy.ndarray"
      ]
     },
     "execution_count": 9,
     "metadata": {},
     "output_type": "execute_result"
    }
   ],
   "source": [
    "type(X)"
   ]
  },
  {
   "cell_type": "code",
   "execution_count": 10,
   "metadata": {},
   "outputs": [],
   "source": [
    "from sklearn.model_selection import train_test_split"
   ]
  },
  {
   "cell_type": "code",
   "execution_count": 11,
   "metadata": {},
   "outputs": [],
   "source": [
    "X_train, X_test, y_train, y_test = train_test_split(X,Y,test_size = 0.2, random_state = 0)"
   ]
  },
  {
   "cell_type": "raw",
   "metadata": {},
   "source": [
    "#Feature Scaling"
   ]
  },
  {
   "cell_type": "code",
   "execution_count": 12,
   "metadata": {},
   "outputs": [],
   "source": [
    "from sklearn.preprocessing import StandardScaler"
   ]
  },
  {
   "cell_type": "code",
   "execution_count": 13,
   "metadata": {},
   "outputs": [],
   "source": [
    "sc = StandardScaler()"
   ]
  },
  {
   "cell_type": "code",
   "execution_count": 31,
   "metadata": {},
   "outputs": [],
   "source": [
    "X_train = sc.fit_transform(X_train)\n",
    "X_test = sc.transform(X_test)"
   ]
  },
  {
   "cell_type": "code",
   "execution_count": 32,
   "metadata": {},
   "outputs": [],
   "source": [
    "import keras\n",
    "from keras.models import Sequential\n",
    "from keras.layers import Dense"
   ]
  },
  {
   "cell_type": "code",
   "execution_count": 33,
   "metadata": {},
   "outputs": [],
   "source": [
    "# Initializing the ANN\n",
    "classifier = Sequential()"
   ]
  },
  {
   "cell_type": "code",
   "execution_count": 34,
   "metadata": {},
   "outputs": [],
   "source": [
    "# first hidden layer\n",
    "classifier.add(Dense(units = 6, kernel_initializer = 'uniform',activation = 'relu', input_dim = 10))\n",
    "# Dense, just a regular fully connected NN layer"
   ]
  },
  {
   "cell_type": "code",
   "execution_count": 35,
   "metadata": {},
   "outputs": [],
   "source": [
    "# second hidden layer\n",
    "classifier.add(Dense(units = 6, kernel_initializer = 'uniform',activation = 'relu'))"
   ]
  },
  {
   "cell_type": "code",
   "execution_count": 36,
   "metadata": {},
   "outputs": [],
   "source": [
    "# the output layer\n",
    "classifier.add(Dense(units = 1, kernel_initializer = 'uniform',activation = 'sigmoid'))"
   ]
  },
  {
   "cell_type": "code",
   "execution_count": 37,
   "metadata": {},
   "outputs": [],
   "source": [
    "# compiling the ANN\n",
    "classifier.compile(optimizer = 'adam', loss = 'binary_crossentropy', metrics = ['accuracy'])"
   ]
  },
  {
   "cell_type": "code",
   "execution_count": 38,
   "metadata": {},
   "outputs": [
    {
     "name": "stdout",
     "output_type": "stream",
     "text": [
      "Epoch 1/10\n",
      "284924/284924 [==============================] - 117s 412us/step - loss: 0.6027 - acc: 0.6605\n",
      "Epoch 2/10\n",
      "284924/284924 [==============================] - 110s 387us/step - loss: 0.5663 - acc: 0.6837\n",
      "Epoch 3/10\n",
      "284924/284924 [==============================] - 113s 395us/step - loss: 0.5561 - acc: 0.6883\n",
      "Epoch 4/10\n",
      "284924/284924 [==============================] - 116s 407us/step - loss: 0.5483 - acc: 0.6956\n",
      "Epoch 5/10\n",
      "284924/284924 [==============================] - 114s 400us/step - loss: 0.5438 - acc: 0.6996\n",
      "Epoch 6/10\n",
      "284924/284924 [==============================] - 114s 399us/step - loss: 0.5421 - acc: 0.7006\n",
      "Epoch 7/10\n",
      "284924/284924 [==============================] - 114s 400us/step - loss: 0.5405 - acc: 0.7027\n",
      "Epoch 8/10\n",
      "284924/284924 [==============================] - 117s 410us/step - loss: 0.5393 - acc: 0.7071\n",
      "Epoch 9/10\n",
      "284924/284924 [==============================] - 113s 398us/step - loss: 0.5389 - acc: 0.7069\n",
      "Epoch 10/10\n",
      "284924/284924 [==============================] - 112s 393us/step - loss: 0.5379 - acc: 0.7086\n"
     ]
    },
    {
     "data": {
      "text/plain": [
       "<keras.callbacks.History at 0x7f33609a2c50>"
      ]
     },
     "execution_count": 38,
     "metadata": {},
     "output_type": "execute_result"
    }
   ],
   "source": [
    "# fitting the ANN to training set\n",
    "classifier.fit(X_train, y_train, batch_size = 10, epochs = 10)"
   ]
  },
  {
   "cell_type": "code",
   "execution_count": null,
   "metadata": {},
   "outputs": [],
   "source": [
    "y_predict = classifier.predict(X_test)"
   ]
  },
  {
   "cell_type": "code",
   "execution_count": null,
   "metadata": {},
   "outputs": [],
   "source": [
    "from sklearn.metrics import confusion_matrix\n",
    "cm = confusion_matrix(y_test, y_predict)"
   ]
  },
  {
   "cell_type": "code",
   "execution_count": null,
   "metadata": {},
   "outputs": [],
   "source": []
  }
 ],
 "metadata": {
  "kernelspec": {
   "display_name": "Python 3",
   "language": "python",
   "name": "python3"
  },
  "language_info": {
   "codemirror_mode": {
    "name": "ipython",
    "version": 3
   },
   "file_extension": ".py",
   "mimetype": "text/x-python",
   "name": "python",
   "nbconvert_exporter": "python",
   "pygments_lexer": "ipython3",
   "version": "3.6.5"
  }
 },
 "nbformat": 4,
 "nbformat_minor": 2
}
