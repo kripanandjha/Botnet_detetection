{
 "cells": [
  {
   "cell_type": "code",
   "execution_count": 1,
   "metadata": {},
   "outputs": [
    {
     "name": "stderr",
     "output_type": "stream",
     "text": [
      "/usr/lib/python3/dist-packages/h5py/__init__.py:36: FutureWarning: Conversion of the second argument of issubdtype from `float` to `np.floating` is deprecated. In future, it will be treated as `np.float64 == np.dtype(float).type`.\n",
      "  from ._conv import register_converters as _register_converters\n",
      "/usr/local/lib/python3.6/dist-packages/tensorflow/python/framework/ops.py:875: DeprecationWarning: builtin type EagerTensor has no __module__ attribute\n",
      "  EagerTensor = c_api.TFE_Py_InitEagerTensor(_EagerTensorBase)\n",
      "/usr/local/lib/python3.6/dist-packages/tensorflow/python/util/tf_inspect.py:45: DeprecationWarning: inspect.getargspec() is deprecated, use inspect.signature() or inspect.getfullargspec()\n",
      "  if d.decorator_argspec is not None), _inspect.getargspec(target))\n"
     ]
    }
   ],
   "source": [
    "import turicreate as gl\n",
    "import tensorflow as tf\n",
    "import matplotlib.pyplot as plt\n",
    "from turicreate_cross_validation.cross_validation import shuffle_sframe, StratifiedKFold, cross_val_score"
   ]
  },
  {
   "cell_type": "code",
   "execution_count": 2,
   "metadata": {},
   "outputs": [
    {
     "name": "stdout",
     "output_type": "stream",
     "text": [
      "Done reading\n"
     ]
    },
    {
     "data": {
      "text/plain": [
       "<bound method SFrame.head of Columns:\n",
       "\tAPL\tfloat\n",
       "\tAvgPktPerSec\tfloat\n",
       "\tIAT\tfloat\n",
       "\tNumForward\tint\n",
       "\tBytesEx\tint\n",
       "\tBitsPerSec\tfloat\n",
       "\tNumPackets\tint\n",
       "\tStdDevLen\tfloat\n",
       "\tDuration\tint\n",
       "\tIOPR\tfloat\n",
       "\tisBot\tint\n",
       "\n",
       "Rows: 356156\n",
       "\n",
       "Data:\n",
       "+---------+--------------+------------+------------+---------+------------+------------+\n",
       "|   APL   | AvgPktPerSec |    IAT     | NumForward | BytesEx | BitsPerSec | NumPackets |\n",
       "+---------+--------------+------------+------------+---------+------------+------------+\n",
       "|   0.0   |   0.673102   | 1782790.0  |     6      |    0    |    0.0     |     6      |\n",
       "|   0.0   |   0.124399   | 16100000.0 |     2      |    0    |    0.0     |     2      |\n",
       "|   0.0   |  0.0208823   | 95800000.0 |     2      |    0    |    0.0     |     2      |\n",
       "| 119.714 |   80.6889    |  14458.8   |     4      |   838   |  77276.9   |     7      |\n",
       "|   0.0   |   11111.1    |   180.0    |     2      |    0    |    0.0     |     2      |\n",
       "|   0.0   |   0.665698   | 1802620.0  |     6      |    0    |    0.0     |     6      |\n",
       "|   0.0   |   21052.6    |    95.0    |     1      |    0    |    0.0     |     2      |\n",
       "| 683.211 |    8.5914    |  122862.0  |     7      |  12981  |  46957.9   |     19     |\n",
       "| 897.043 |   10.5363    |  95021.6   |    295     |  764281 |  75612.1   |    852     |\n",
       "| 652.208 |   1.38086    |  755673.0  |     10     |  15653  |  7204.86   |     24     |\n",
       "+---------+--------------+------------+------------+---------+------------+------------+\n",
       "+-----------+----------+---------+-------+\n",
       "| StdDevLen | Duration |   IOPR  | isBot |\n",
       "+-----------+----------+---------+-------+\n",
       "|    0.0    | 8913955  |   0.0   |   1   |\n",
       "|    0.0    | 16077310 |   0.0   |   1   |\n",
       "|    0.0    | 95774697 |   0.0   |   0   |\n",
       "|    49.5   |  86753   |   0.75  |   1   |\n",
       "|    0.0    |   180    |   0.0   |   1   |\n",
       "|    0.0    | 9013099  |   0.0   |   1   |\n",
       "|    0.0    |    95    |   1.0   |   1   |\n",
       "|  54.0489  | 2211514  | 1.71429 |   0   |\n",
       "|  14.2911  | 80863403 | 1.88814 |   1   |\n",
       "|  12.0167  | 17380479 |   1.4   |   1   |\n",
       "+-----------+----------+---------+-------+\n",
       "[356156 rows x 11 columns]\n",
       "Note: Only the head of the SFrame is printed.\n",
       "You can use print_rows(num_rows=m, num_columns=n) to print more rows and columns.>"
      ]
     },
     "execution_count": 2,
     "metadata": {},
     "output_type": "execute_result"
    }
   ],
   "source": [
    "SF = gl.SFrame.read_csv('/home/test-machine/training.csv',verbose=False)\n",
    "print (\"Done reading\")\n",
    "SF.head"
   ]
  },
  {
   "cell_type": "code",
   "execution_count": 3,
   "metadata": {},
   "outputs": [
    {
     "data": {
      "text/plain": [
       "(356156, 11)"
      ]
     },
     "execution_count": 3,
     "metadata": {},
     "output_type": "execute_result"
    }
   ],
   "source": [
    "SF.shape"
   ]
  },
  {
   "cell_type": "code",
   "execution_count": 29,
   "metadata": {},
   "outputs": [
    {
     "data": {
      "text/html": [
       "<pre>Boosted trees classifier:</pre>"
      ],
      "text/plain": [
       "Boosted trees classifier:"
      ]
     },
     "metadata": {},
     "output_type": "display_data"
    },
    {
     "data": {
      "text/html": [
       "<pre>--------------------------------------------------------</pre>"
      ],
      "text/plain": [
       "--------------------------------------------------------"
      ]
     },
     "metadata": {},
     "output_type": "display_data"
    },
    {
     "data": {
      "text/html": [
       "<pre>Number of examples          : 284924</pre>"
      ],
      "text/plain": [
       "Number of examples          : 284924"
      ]
     },
     "metadata": {},
     "output_type": "display_data"
    },
    {
     "data": {
      "text/html": [
       "<pre>Number of classes           : 2</pre>"
      ],
      "text/plain": [
       "Number of classes           : 2"
      ]
     },
     "metadata": {},
     "output_type": "display_data"
    },
    {
     "data": {
      "text/html": [
       "<pre>Number of feature columns   : 10</pre>"
      ],
      "text/plain": [
       "Number of feature columns   : 10"
      ]
     },
     "metadata": {},
     "output_type": "display_data"
    },
    {
     "data": {
      "text/html": [
       "<pre>Number of unpacked features : 10</pre>"
      ],
      "text/plain": [
       "Number of unpacked features : 10"
      ]
     },
     "metadata": {},
     "output_type": "display_data"
    },
    {
     "data": {
      "text/html": [
       "<pre>+-----------+--------------+-------------------+---------------------+-------------------+---------------------+</pre>"
      ],
      "text/plain": [
       "+-----------+--------------+-------------------+---------------------+-------------------+---------------------+"
      ]
     },
     "metadata": {},
     "output_type": "display_data"
    },
    {
     "data": {
      "text/html": [
       "<pre>| Iteration | Elapsed Time | Training-accuracy | Validation-accuracy | Training-log_loss | Validation-log_loss |</pre>"
      ],
      "text/plain": [
       "| Iteration | Elapsed Time | Training-accuracy | Validation-accuracy | Training-log_loss | Validation-log_loss |"
      ]
     },
     "metadata": {},
     "output_type": "display_data"
    },
    {
     "data": {
      "text/html": [
       "<pre>+-----------+--------------+-------------------+---------------------+-------------------+---------------------+</pre>"
      ],
      "text/plain": [
       "+-----------+--------------+-------------------+---------------------+-------------------+---------------------+"
      ]
     },
     "metadata": {},
     "output_type": "display_data"
    },
    {
     "data": {
      "text/html": [
       "<pre>| 1         | 0.315088     | 0.731929          | 0.730950            | 0.608512          | 0.608735            |</pre>"
      ],
      "text/plain": [
       "| 1         | 0.315088     | 0.731929          | 0.730950            | 0.608512          | 0.608735            |"
      ]
     },
     "metadata": {},
     "output_type": "display_data"
    },
    {
     "data": {
      "text/html": [
       "<pre>| 2         | 0.713590     | 0.746725          | 0.746561            | 0.556572          | 0.557388            |</pre>"
      ],
      "text/plain": [
       "| 2         | 0.713590     | 0.746725          | 0.746561            | 0.556572          | 0.557388            |"
      ]
     },
     "metadata": {},
     "output_type": "display_data"
    },
    {
     "data": {
      "text/html": [
       "<pre>| 3         | 1.039544     | 0.751179          | 0.749635            | 0.523821          | 0.524929            |</pre>"
      ],
      "text/plain": [
       "| 3         | 1.039544     | 0.751179          | 0.749635            | 0.523821          | 0.524929            |"
      ]
     },
     "metadata": {},
     "output_type": "display_data"
    },
    {
     "data": {
      "text/html": [
       "<pre>| 4         | 1.369064     | 0.755265          | 0.753566            | 0.498389          | 0.499879            |</pre>"
      ],
      "text/plain": [
       "| 4         | 1.369064     | 0.755265          | 0.753566            | 0.498389          | 0.499879            |"
      ]
     },
     "metadata": {},
     "output_type": "display_data"
    },
    {
     "data": {
      "text/html": [
       "<pre>| 5         | 1.685763     | 0.758143          | 0.756823            | 0.480695          | 0.482063            |</pre>"
      ],
      "text/plain": [
       "| 5         | 1.685763     | 0.758143          | 0.756823            | 0.480695          | 0.482063            |"
      ]
     },
     "metadata": {},
     "output_type": "display_data"
    },
    {
     "data": {
      "text/html": [
       "<pre>| 6         | 2.007386     | 0.770012          | 0.767590            | 0.462767          | 0.464710            |</pre>"
      ],
      "text/plain": [
       "| 6         | 2.007386     | 0.770012          | 0.767590            | 0.462767          | 0.464710            |"
      ]
     },
     "metadata": {},
     "output_type": "display_data"
    },
    {
     "data": {
      "text/html": [
       "<pre>| 10        | 3.429825     | 0.788435          | 0.784970            | 0.426775          | 0.429842            |</pre>"
      ],
      "text/plain": [
       "| 10        | 3.429825     | 0.788435          | 0.784970            | 0.426775          | 0.429842            |"
      ]
     },
     "metadata": {},
     "output_type": "display_data"
    },
    {
     "data": {
      "text/html": [
       "<pre>| 11        | 3.728619     | 0.788337          | 0.784914            | 0.423979          | 0.427034            |</pre>"
      ],
      "text/plain": [
       "| 11        | 3.728619     | 0.788337          | 0.784914            | 0.423979          | 0.427034            |"
      ]
     },
     "metadata": {},
     "output_type": "display_data"
    },
    {
     "data": {
      "text/html": [
       "<pre>| 15        | 5.042960     | 0.796693          | 0.793281            | 0.412058          | 0.415580            |</pre>"
      ],
      "text/plain": [
       "| 15        | 5.042960     | 0.796693          | 0.793281            | 0.412058          | 0.415580            |"
      ]
     },
     "metadata": {},
     "output_type": "display_data"
    },
    {
     "data": {
      "text/html": [
       "<pre>| 20        | 7.058674     | 0.804000          | 0.799893            | 0.392993          | 0.397468            |</pre>"
      ],
      "text/plain": [
       "| 20        | 7.058674     | 0.804000          | 0.799893            | 0.392993          | 0.397468            |"
      ]
     },
     "metadata": {},
     "output_type": "display_data"
    },
    {
     "data": {
      "text/html": [
       "<pre>| 25        | 8.665294     | 0.809798          | 0.804512            | 0.381738          | 0.386876            |</pre>"
      ],
      "text/plain": [
       "| 25        | 8.665294     | 0.809798          | 0.804512            | 0.381738          | 0.386876            |"
      ]
     },
     "metadata": {},
     "output_type": "display_data"
    },
    {
     "data": {
      "text/html": [
       "<pre>| 30        | 10.223415    | 0.812771          | 0.806927            | 0.375215          | 0.380835            |</pre>"
      ],
      "text/plain": [
       "| 30        | 10.223415    | 0.812771          | 0.806927            | 0.375215          | 0.380835            |"
      ]
     },
     "metadata": {},
     "output_type": "display_data"
    },
    {
     "data": {
      "text/html": [
       "<pre>| 35        | 11.799039    | 0.814449          | 0.808569            | 0.370179          | 0.376208            |</pre>"
      ],
      "text/plain": [
       "| 35        | 11.799039    | 0.814449          | 0.808569            | 0.370179          | 0.376208            |"
      ]
     },
     "metadata": {},
     "output_type": "display_data"
    },
    {
     "data": {
      "text/html": [
       "<pre>| 40        | 13.666685    | 0.817741          | 0.812346            | 0.363066          | 0.369672            |</pre>"
      ],
      "text/plain": [
       "| 40        | 13.666685    | 0.817741          | 0.812346            | 0.363066          | 0.369672            |"
      ]
     },
     "metadata": {},
     "output_type": "display_data"
    },
    {
     "data": {
      "text/html": [
       "<pre>| 45        | 15.386231    | 0.819341          | 0.813567            | 0.358413          | 0.365604            |</pre>"
      ],
      "text/plain": [
       "| 45        | 15.386231    | 0.819341          | 0.813567            | 0.358413          | 0.365604            |"
      ]
     },
     "metadata": {},
     "output_type": "display_data"
    },
    {
     "data": {
      "text/html": [
       "<pre>| 50        | 17.083755    | 0.820443          | 0.815280            | 0.355713          | 0.363599            |</pre>"
      ],
      "text/plain": [
       "| 50        | 17.083755    | 0.820443          | 0.815280            | 0.355713          | 0.363599            |"
      ]
     },
     "metadata": {},
     "output_type": "display_data"
    },
    {
     "data": {
      "text/html": [
       "<pre>| 51        | 17.383856    | 0.821580          | 0.815406            | 0.354808          | 0.362785            |</pre>"
      ],
      "text/plain": [
       "| 51        | 17.383856    | 0.821580          | 0.815406            | 0.354808          | 0.362785            |"
      ]
     },
     "metadata": {},
     "output_type": "display_data"
    },
    {
     "data": {
      "text/html": [
       "<pre>| 55        | 18.641398    | 0.824595          | 0.817568            | 0.351225          | 0.359754            |</pre>"
      ],
      "text/plain": [
       "| 55        | 18.641398    | 0.824595          | 0.817568            | 0.351225          | 0.359754            |"
      ]
     },
     "metadata": {},
     "output_type": "display_data"
    },
    {
     "data": {
      "text/html": [
       "<pre>| 60        | 20.265169    | 0.826097          | 0.818860            | 0.346978          | 0.356040            |</pre>"
      ],
      "text/plain": [
       "| 60        | 20.265169    | 0.826097          | 0.818860            | 0.346978          | 0.356040            |"
      ]
     },
     "metadata": {},
     "output_type": "display_data"
    },
    {
     "data": {
      "text/html": [
       "<pre>| 65        | 21.855287    | 0.827947          | 0.820867            | 0.343583          | 0.353485            |</pre>"
      ],
      "text/plain": [
       "| 65        | 21.855287    | 0.827947          | 0.820867            | 0.343583          | 0.353485            |"
      ]
     },
     "metadata": {},
     "output_type": "display_data"
    },
    {
     "data": {
      "text/html": [
       "<pre>| 70        | 23.394170    | 0.830625          | 0.823394            | 0.339524          | 0.349827            |</pre>"
      ],
      "text/plain": [
       "| 70        | 23.394170    | 0.830625          | 0.823394            | 0.339524          | 0.349827            |"
      ]
     },
     "metadata": {},
     "output_type": "display_data"
    },
    {
     "data": {
      "text/html": [
       "<pre>+-----------+--------------+-------------------+---------------------+-------------------+---------------------+</pre>"
      ],
      "text/plain": [
       "+-----------+--------------+-------------------+---------------------+-------------------+---------------------+"
      ]
     },
     "metadata": {},
     "output_type": "display_data"
    },
    {
     "name": "stdout",
     "output_type": "stream",
     "text": [
      "Done 0\n"
     ]
    },
    {
     "data": {
      "text/html": [
       "<pre>Boosted trees classifier:</pre>"
      ],
      "text/plain": [
       "Boosted trees classifier:"
      ]
     },
     "metadata": {},
     "output_type": "display_data"
    },
    {
     "data": {
      "text/html": [
       "<pre>--------------------------------------------------------</pre>"
      ],
      "text/plain": [
       "--------------------------------------------------------"
      ]
     },
     "metadata": {},
     "output_type": "display_data"
    },
    {
     "data": {
      "text/html": [
       "<pre>Number of examples          : 284925</pre>"
      ],
      "text/plain": [
       "Number of examples          : 284925"
      ]
     },
     "metadata": {},
     "output_type": "display_data"
    },
    {
     "data": {
      "text/html": [
       "<pre>Number of classes           : 2</pre>"
      ],
      "text/plain": [
       "Number of classes           : 2"
      ]
     },
     "metadata": {},
     "output_type": "display_data"
    },
    {
     "data": {
      "text/html": [
       "<pre>Number of feature columns   : 10</pre>"
      ],
      "text/plain": [
       "Number of feature columns   : 10"
      ]
     },
     "metadata": {},
     "output_type": "display_data"
    },
    {
     "data": {
      "text/html": [
       "<pre>Number of unpacked features : 10</pre>"
      ],
      "text/plain": [
       "Number of unpacked features : 10"
      ]
     },
     "metadata": {},
     "output_type": "display_data"
    },
    {
     "data": {
      "text/html": [
       "<pre>+-----------+--------------+-------------------+---------------------+-------------------+---------------------+</pre>"
      ],
      "text/plain": [
       "+-----------+--------------+-------------------+---------------------+-------------------+---------------------+"
      ]
     },
     "metadata": {},
     "output_type": "display_data"
    },
    {
     "data": {
      "text/html": [
       "<pre>| Iteration | Elapsed Time | Training-accuracy | Validation-accuracy | Training-log_loss | Validation-log_loss |</pre>"
      ],
      "text/plain": [
       "| Iteration | Elapsed Time | Training-accuracy | Validation-accuracy | Training-log_loss | Validation-log_loss |"
      ]
     },
     "metadata": {},
     "output_type": "display_data"
    },
    {
     "data": {
      "text/html": [
       "<pre>+-----------+--------------+-------------------+---------------------+-------------------+---------------------+</pre>"
      ],
      "text/plain": [
       "+-----------+--------------+-------------------+---------------------+-------------------+---------------------+"
      ]
     },
     "metadata": {},
     "output_type": "display_data"
    },
    {
     "data": {
      "text/html": [
       "<pre>| 1         | 0.323152     | 0.731793          | 0.734708            | 0.608589          | 0.607842            |</pre>"
      ],
      "text/plain": [
       "| 1         | 0.323152     | 0.731793          | 0.734708            | 0.608589          | 0.607842            |"
      ]
     },
     "metadata": {},
     "output_type": "display_data"
    },
    {
     "data": {
      "text/html": [
       "<pre>| 2         | 0.649364     | 0.745270          | 0.748663            | 0.558515          | 0.557547            |</pre>"
      ],
      "text/plain": [
       "| 2         | 0.649364     | 0.745270          | 0.748663            | 0.558515          | 0.557547            |"
      ]
     },
     "metadata": {},
     "output_type": "display_data"
    },
    {
     "data": {
      "text/html": [
       "<pre>| 3         | 0.959911     | 0.750155          | 0.753211            | 0.527459          | 0.526327            |</pre>"
      ],
      "text/plain": [
       "| 3         | 0.959911     | 0.750155          | 0.753211            | 0.527459          | 0.526327            |"
      ]
     },
     "metadata": {},
     "output_type": "display_data"
    },
    {
     "data": {
      "text/html": [
       "<pre>| 4         | 1.277751     | 0.768392          | 0.771125            | 0.498251          | 0.497197            |</pre>"
      ],
      "text/plain": [
       "| 4         | 1.277751     | 0.768392          | 0.771125            | 0.498251          | 0.497197            |"
      ]
     },
     "metadata": {},
     "output_type": "display_data"
    },
    {
     "data": {
      "text/html": [
       "<pre>| 5         | 1.608310     | 0.760119          | 0.762575            | 0.482980          | 0.482166            |</pre>"
      ],
      "text/plain": [
       "| 5         | 1.608310     | 0.760119          | 0.762575            | 0.482980          | 0.482166            |"
      ]
     },
     "metadata": {},
     "output_type": "display_data"
    },
    {
     "data": {
      "text/html": [
       "<pre>| 6         | 1.908039     | 0.765268          | 0.767938            | 0.469510          | 0.468503            |</pre>"
      ],
      "text/plain": [
       "| 6         | 1.908039     | 0.765268          | 0.767938            | 0.469510          | 0.468503            |"
      ]
     },
     "metadata": {},
     "output_type": "display_data"
    },
    {
     "data": {
      "text/html": [
       "<pre>| 10        | 3.077448     | 0.783568          | 0.785641            | 0.442374          | 0.441350            |</pre>"
      ],
      "text/plain": [
       "| 10        | 3.077448     | 0.783568          | 0.785641            | 0.442374          | 0.441350            |"
      ]
     },
     "metadata": {},
     "output_type": "display_data"
    },
    {
     "data": {
      "text/html": [
       "<pre>| 11        | 3.378709     | 0.788443          | 0.789993            | 0.431785          | 0.431018            |</pre>"
      ],
      "text/plain": [
       "| 11        | 3.378709     | 0.788443          | 0.789993            | 0.431785          | 0.431018            |"
      ]
     },
     "metadata": {},
     "output_type": "display_data"
    },
    {
     "data": {
      "text/html": [
       "<pre>| 15        | 4.603638     | 0.800846          | 0.801912            | 0.410624          | 0.410646            |</pre>"
      ],
      "text/plain": [
       "| 15        | 4.603638     | 0.800846          | 0.801912            | 0.410624          | 0.410646            |"
      ]
     },
     "metadata": {},
     "output_type": "display_data"
    },
    {
     "data": {
      "text/html": [
       "<pre>| 20        | 6.082773     | 0.805465          | 0.805829            | 0.396463          | 0.397029            |</pre>"
      ],
      "text/plain": [
       "| 20        | 6.082773     | 0.805465          | 0.805829            | 0.396463          | 0.397029            |"
      ]
     },
     "metadata": {},
     "output_type": "display_data"
    },
    {
     "data": {
      "text/html": [
       "<pre>| 25        | 7.504520     | 0.807093          | 0.806924            | 0.389760          | 0.390769            |</pre>"
      ],
      "text/plain": [
       "| 25        | 7.504520     | 0.807093          | 0.806924            | 0.389760          | 0.390769            |"
      ]
     },
     "metadata": {},
     "output_type": "display_data"
    },
    {
     "data": {
      "text/html": [
       "<pre>| 30        | 9.301414     | 0.812645          | 0.812006            | 0.377144          | 0.378637            |</pre>"
      ],
      "text/plain": [
       "| 30        | 9.301414     | 0.812645          | 0.812006            | 0.377144          | 0.378637            |"
      ]
     },
     "metadata": {},
     "output_type": "display_data"
    },
    {
     "data": {
      "text/html": [
       "<pre>| 35        | 11.089505    | 0.816390          | 0.814224            | 0.369500          | 0.372065            |</pre>"
      ],
      "text/plain": [
       "| 35        | 11.089505    | 0.816390          | 0.814224            | 0.369500          | 0.372065            |"
      ]
     },
     "metadata": {},
     "output_type": "display_data"
    },
    {
     "data": {
      "text/html": [
       "<pre>| 40        | 12.582951    | 0.817847          | 0.814898            | 0.364846          | 0.367871            |</pre>"
      ],
      "text/plain": [
       "| 40        | 12.582951    | 0.817847          | 0.814898            | 0.364846          | 0.367871            |"
      ]
     },
     "metadata": {},
     "output_type": "display_data"
    },
    {
     "data": {
      "text/html": [
       "<pre>| 45        | 14.162726    | 0.819275          | 0.816569            | 0.359385          | 0.363127            |</pre>"
      ],
      "text/plain": [
       "| 45        | 14.162726    | 0.819275          | 0.816569            | 0.359385          | 0.363127            |"
      ]
     },
     "metadata": {},
     "output_type": "display_data"
    },
    {
     "data": {
      "text/html": [
       "<pre>| 50        | 15.617219    | 0.820770          | 0.817481            | 0.355605          | 0.359585            |</pre>"
      ],
      "text/plain": [
       "| 50        | 15.617219    | 0.820770          | 0.817481            | 0.355605          | 0.359585            |"
      ]
     },
     "metadata": {},
     "output_type": "display_data"
    },
    {
     "data": {
      "text/html": [
       "<pre>| 51        | 15.914470    | 0.821718          | 0.818773            | 0.354173          | 0.358133            |</pre>"
      ],
      "text/plain": [
       "| 51        | 15.914470    | 0.821718          | 0.818773            | 0.354173          | 0.358133            |"
      ]
     },
     "metadata": {},
     "output_type": "display_data"
    },
    {
     "data": {
      "text/html": [
       "<pre>| 55        | 17.089329    | 0.823873          | 0.819713            | 0.351091          | 0.355757            |</pre>"
      ],
      "text/plain": [
       "| 55        | 17.089329    | 0.823873          | 0.819713            | 0.351091          | 0.355757            |"
      ]
     },
     "metadata": {},
     "output_type": "display_data"
    },
    {
     "data": {
      "text/html": [
       "<pre>| 60        | 18.580023    | 0.826249          | 0.821566            | 0.347335          | 0.352719            |</pre>"
      ],
      "text/plain": [
       "| 60        | 18.580023    | 0.826249          | 0.821566            | 0.347335          | 0.352719            |"
      ]
     },
     "metadata": {},
     "output_type": "display_data"
    },
    {
     "data": {
      "text/html": [
       "<pre>| 65        | 19.990818    | 0.828109          | 0.823307            | 0.344361          | 0.350273            |</pre>"
      ],
      "text/plain": [
       "| 65        | 19.990818    | 0.828109          | 0.823307            | 0.344361          | 0.350273            |"
      ]
     },
     "metadata": {},
     "output_type": "display_data"
    },
    {
     "data": {
      "text/html": [
       "<pre>| 70        | 21.439772    | 0.830390          | 0.825455            | 0.341415          | 0.347912            |</pre>"
      ],
      "text/plain": [
       "| 70        | 21.439772    | 0.830390          | 0.825455            | 0.341415          | 0.347912            |"
      ]
     },
     "metadata": {},
     "output_type": "display_data"
    },
    {
     "data": {
      "text/html": [
       "<pre>+-----------+--------------+-------------------+---------------------+-------------------+---------------------+</pre>"
      ],
      "text/plain": [
       "+-----------+--------------+-------------------+---------------------+-------------------+---------------------+"
      ]
     },
     "metadata": {},
     "output_type": "display_data"
    },
    {
     "name": "stdout",
     "output_type": "stream",
     "text": [
      "Done 1\n"
     ]
    },
    {
     "data": {
      "text/html": [
       "<pre>Boosted trees classifier:</pre>"
      ],
      "text/plain": [
       "Boosted trees classifier:"
      ]
     },
     "metadata": {},
     "output_type": "display_data"
    },
    {
     "data": {
      "text/html": [
       "<pre>--------------------------------------------------------</pre>"
      ],
      "text/plain": [
       "--------------------------------------------------------"
      ]
     },
     "metadata": {},
     "output_type": "display_data"
    },
    {
     "data": {
      "text/html": [
       "<pre>Number of examples          : 284925</pre>"
      ],
      "text/plain": [
       "Number of examples          : 284925"
      ]
     },
     "metadata": {},
     "output_type": "display_data"
    },
    {
     "data": {
      "text/html": [
       "<pre>Number of classes           : 2</pre>"
      ],
      "text/plain": [
       "Number of classes           : 2"
      ]
     },
     "metadata": {},
     "output_type": "display_data"
    },
    {
     "data": {
      "text/html": [
       "<pre>Number of feature columns   : 10</pre>"
      ],
      "text/plain": [
       "Number of feature columns   : 10"
      ]
     },
     "metadata": {},
     "output_type": "display_data"
    },
    {
     "data": {
      "text/html": [
       "<pre>Number of unpacked features : 10</pre>"
      ],
      "text/plain": [
       "Number of unpacked features : 10"
      ]
     },
     "metadata": {},
     "output_type": "display_data"
    },
    {
     "data": {
      "text/html": [
       "<pre>+-----------+--------------+-------------------+---------------------+-------------------+---------------------+</pre>"
      ],
      "text/plain": [
       "+-----------+--------------+-------------------+---------------------+-------------------+---------------------+"
      ]
     },
     "metadata": {},
     "output_type": "display_data"
    },
    {
     "data": {
      "text/html": [
       "<pre>| Iteration | Elapsed Time | Training-accuracy | Validation-accuracy | Training-log_loss | Validation-log_loss |</pre>"
      ],
      "text/plain": [
       "| Iteration | Elapsed Time | Training-accuracy | Validation-accuracy | Training-log_loss | Validation-log_loss |"
      ]
     },
     "metadata": {},
     "output_type": "display_data"
    },
    {
     "data": {
      "text/html": [
       "<pre>+-----------+--------------+-------------------+---------------------+-------------------+---------------------+</pre>"
      ],
      "text/plain": [
       "+-----------+--------------+-------------------+---------------------+-------------------+---------------------+"
      ]
     },
     "metadata": {},
     "output_type": "display_data"
    },
    {
     "data": {
      "text/html": [
       "<pre>| 1         | 0.322709     | 0.731466          | 0.729388            | 0.609032          | 0.609422            |</pre>"
      ],
      "text/plain": [
       "| 1         | 0.322709     | 0.731466          | 0.729388            | 0.609032          | 0.609422            |"
      ]
     },
     "metadata": {},
     "output_type": "display_data"
    },
    {
     "data": {
      "text/html": [
       "<pre>| 2         | 0.661860     | 0.747084          | 0.743482            | 0.557122          | 0.557907            |</pre>"
      ],
      "text/plain": [
       "| 2         | 0.661860     | 0.747084          | 0.743482            | 0.557122          | 0.557907            |"
      ]
     },
     "metadata": {},
     "output_type": "display_data"
    },
    {
     "data": {
      "text/html": [
       "<pre>| 3         | 0.989682     | 0.748074          | 0.744914            | 0.526006          | 0.527073            |</pre>"
      ],
      "text/plain": [
       "| 3         | 0.989682     | 0.748074          | 0.744914            | 0.526006          | 0.527073            |"
      ]
     },
     "metadata": {},
     "output_type": "display_data"
    },
    {
     "data": {
      "text/html": [
       "<pre>| 4         | 1.315435     | 0.770631          | 0.768387            | 0.493792          | 0.494901            |</pre>"
      ],
      "text/plain": [
       "| 4         | 1.315435     | 0.770631          | 0.768387            | 0.493792          | 0.494901            |"
      ]
     },
     "metadata": {},
     "output_type": "display_data"
    },
    {
     "data": {
      "text/html": [
       "<pre>| 5         | 1.625492     | 0.764780          | 0.762028            | 0.478068          | 0.479404            |</pre>"
      ],
      "text/plain": [
       "| 5         | 1.625492     | 0.764780          | 0.762028            | 0.478068          | 0.479404            |"
      ]
     },
     "metadata": {},
     "output_type": "display_data"
    },
    {
     "data": {
      "text/html": [
       "<pre>| 6         | 1.984957     | 0.771635          | 0.769707            | 0.465821          | 0.466995            |</pre>"
      ],
      "text/plain": [
       "| 6         | 1.984957     | 0.771635          | 0.769707            | 0.465821          | 0.466995            |"
      ]
     },
     "metadata": {},
     "output_type": "display_data"
    },
    {
     "data": {
      "text/html": [
       "<pre>| 10        | 3.199149     | 0.786123          | 0.785122            | 0.429068          | 0.430799            |</pre>"
      ],
      "text/plain": [
       "| 10        | 3.199149     | 0.786123          | 0.785122            | 0.429068          | 0.430799            |"
      ]
     },
     "metadata": {},
     "output_type": "display_data"
    },
    {
     "data": {
      "text/html": [
       "<pre>| 11        | 3.513880     | 0.791128          | 0.789558            | 0.423813          | 0.425644            |</pre>"
      ],
      "text/plain": [
       "| 11        | 3.513880     | 0.791128          | 0.789558            | 0.423813          | 0.425644            |"
      ]
     },
     "metadata": {},
     "output_type": "display_data"
    },
    {
     "data": {
      "text/html": [
       "<pre>| 15        | 4.704183     | 0.795469          | 0.793489            | 0.409108          | 0.411048            |</pre>"
      ],
      "text/plain": [
       "| 15        | 4.704183     | 0.795469          | 0.793489            | 0.409108          | 0.411048            |"
      ]
     },
     "metadata": {},
     "output_type": "display_data"
    },
    {
     "data": {
      "text/html": [
       "<pre>| 20        | 6.328952     | 0.801509          | 0.799287            | 0.397609          | 0.400090            |</pre>"
      ],
      "text/plain": [
       "| 20        | 6.328952     | 0.801509          | 0.799287            | 0.397609          | 0.400090            |"
      ]
     },
     "metadata": {},
     "output_type": "display_data"
    },
    {
     "data": {
      "text/html": [
       "<pre>| 25        | 7.802136     | 0.807318          | 0.804790            | 0.385925          | 0.388897            |</pre>"
      ],
      "text/plain": [
       "| 25        | 7.802136     | 0.807318          | 0.804790            | 0.385925          | 0.388897            |"
      ]
     },
     "metadata": {},
     "output_type": "display_data"
    },
    {
     "data": {
      "text/html": [
       "<pre>| 30        | 9.402143     | 0.809087          | 0.806671            | 0.378859          | 0.382379            |</pre>"
      ],
      "text/plain": [
       "| 30        | 9.402143     | 0.809087          | 0.806671            | 0.378859          | 0.382379            |"
      ]
     },
     "metadata": {},
     "output_type": "display_data"
    },
    {
     "data": {
      "text/html": [
       "<pre>| 35        | 10.831038    | 0.816976          | 0.814379            | 0.368611          | 0.372210            |</pre>"
      ],
      "text/plain": [
       "| 35        | 10.831038    | 0.816976          | 0.814379            | 0.368611          | 0.372210            |"
      ]
     },
     "metadata": {},
     "output_type": "display_data"
    },
    {
     "data": {
      "text/html": [
       "<pre>| 40        | 12.393667    | 0.818973          | 0.814589            | 0.363641          | 0.368052            |</pre>"
      ],
      "text/plain": [
       "| 40        | 12.393667    | 0.818973          | 0.814589            | 0.363641          | 0.368052            |"
      ]
     },
     "metadata": {},
     "output_type": "display_data"
    },
    {
     "data": {
      "text/html": [
       "<pre>| 45        | 13.906361    | 0.820830          | 0.816246            | 0.359749          | 0.364389            |</pre>"
      ],
      "text/plain": [
       "| 45        | 13.906361    | 0.820830          | 0.816246            | 0.359749          | 0.364389            |"
      ]
     },
     "metadata": {},
     "output_type": "display_data"
    },
    {
     "data": {
      "text/html": [
       "<pre>| 50        | 15.532290    | 0.822297          | 0.817790            | 0.355436          | 0.360623            |</pre>"
      ],
      "text/plain": [
       "| 50        | 15.532290    | 0.822297          | 0.817790            | 0.355436          | 0.360623            |"
      ]
     },
     "metadata": {},
     "output_type": "display_data"
    },
    {
     "data": {
      "text/html": [
       "<pre>| 51        | 15.829259    | 0.823090          | 0.818211            | 0.354620          | 0.359936            |</pre>"
      ],
      "text/plain": [
       "| 51        | 15.829259    | 0.823090          | 0.818211            | 0.354620          | 0.359936            |"
      ]
     },
     "metadata": {},
     "output_type": "display_data"
    },
    {
     "data": {
      "text/html": [
       "<pre>| 55        | 16.986384    | 0.825045          | 0.819587            | 0.350316          | 0.356131            |</pre>"
      ],
      "text/plain": [
       "| 55        | 16.986384    | 0.825045          | 0.819587            | 0.350316          | 0.356131            |"
      ]
     },
     "metadata": {},
     "output_type": "display_data"
    },
    {
     "data": {
      "text/html": [
       "<pre>| 60        | 18.418719    | 0.826747          | 0.820668            | 0.347330          | 0.353870            |</pre>"
      ],
      "text/plain": [
       "| 60        | 18.418719    | 0.826747          | 0.820668            | 0.347330          | 0.353870            |"
      ]
     },
     "metadata": {},
     "output_type": "display_data"
    },
    {
     "data": {
      "text/html": [
       "<pre>| 65        | 19.852401    | 0.828492          | 0.822072            | 0.344163          | 0.351199            |</pre>"
      ],
      "text/plain": [
       "| 65        | 19.852401    | 0.828492          | 0.822072            | 0.344163          | 0.351199            |"
      ]
     },
     "metadata": {},
     "output_type": "display_data"
    },
    {
     "data": {
      "text/html": [
       "<pre>| 70        | 21.392945    | 0.831201          | 0.824683            | 0.341084          | 0.348806            |</pre>"
      ],
      "text/plain": [
       "| 70        | 21.392945    | 0.831201          | 0.824683            | 0.341084          | 0.348806            |"
      ]
     },
     "metadata": {},
     "output_type": "display_data"
    },
    {
     "data": {
      "text/html": [
       "<pre>+-----------+--------------+-------------------+---------------------+-------------------+---------------------+</pre>"
      ],
      "text/plain": [
       "+-----------+--------------+-------------------+---------------------+-------------------+---------------------+"
      ]
     },
     "metadata": {},
     "output_type": "display_data"
    },
    {
     "name": "stdout",
     "output_type": "stream",
     "text": [
      "Done 2\n"
     ]
    },
    {
     "data": {
      "text/html": [
       "<pre>Boosted trees classifier:</pre>"
      ],
      "text/plain": [
       "Boosted trees classifier:"
      ]
     },
     "metadata": {},
     "output_type": "display_data"
    },
    {
     "data": {
      "text/html": [
       "<pre>--------------------------------------------------------</pre>"
      ],
      "text/plain": [
       "--------------------------------------------------------"
      ]
     },
     "metadata": {},
     "output_type": "display_data"
    },
    {
     "data": {
      "text/html": [
       "<pre>Number of examples          : 284925</pre>"
      ],
      "text/plain": [
       "Number of examples          : 284925"
      ]
     },
     "metadata": {},
     "output_type": "display_data"
    },
    {
     "data": {
      "text/html": [
       "<pre>Number of classes           : 2</pre>"
      ],
      "text/plain": [
       "Number of classes           : 2"
      ]
     },
     "metadata": {},
     "output_type": "display_data"
    },
    {
     "data": {
      "text/html": [
       "<pre>Number of feature columns   : 10</pre>"
      ],
      "text/plain": [
       "Number of feature columns   : 10"
      ]
     },
     "metadata": {},
     "output_type": "display_data"
    },
    {
     "data": {
      "text/html": [
       "<pre>Number of unpacked features : 10</pre>"
      ],
      "text/plain": [
       "Number of unpacked features : 10"
      ]
     },
     "metadata": {},
     "output_type": "display_data"
    },
    {
     "data": {
      "text/html": [
       "<pre>+-----------+--------------+-------------------+---------------------+-------------------+---------------------+</pre>"
      ],
      "text/plain": [
       "+-----------+--------------+-------------------+---------------------+-------------------+---------------------+"
      ]
     },
     "metadata": {},
     "output_type": "display_data"
    },
    {
     "data": {
      "text/html": [
       "<pre>| Iteration | Elapsed Time | Training-accuracy | Validation-accuracy | Training-log_loss | Validation-log_loss |</pre>"
      ],
      "text/plain": [
       "| Iteration | Elapsed Time | Training-accuracy | Validation-accuracy | Training-log_loss | Validation-log_loss |"
      ]
     },
     "metadata": {},
     "output_type": "display_data"
    },
    {
     "data": {
      "text/html": [
       "<pre>+-----------+--------------+-------------------+---------------------+-------------------+---------------------+</pre>"
      ],
      "text/plain": [
       "+-----------+--------------+-------------------+---------------------+-------------------+---------------------+"
      ]
     },
     "metadata": {},
     "output_type": "display_data"
    },
    {
     "data": {
      "text/html": [
       "<pre>| 1         | 0.328195     | 0.732151          | 0.732644            | 0.608345          | 0.608248            |</pre>"
      ],
      "text/plain": [
       "| 1         | 0.328195     | 0.732151          | 0.732644            | 0.608345          | 0.608248            |"
      ]
     },
     "metadata": {},
     "output_type": "display_data"
    },
    {
     "data": {
      "text/html": [
       "<pre>| 2         | 0.635855     | 0.746863          | 0.747147            | 0.559202          | 0.558992            |</pre>"
      ],
      "text/plain": [
       "| 2         | 0.635855     | 0.746863          | 0.747147            | 0.559202          | 0.558992            |"
      ]
     },
     "metadata": {},
     "output_type": "display_data"
    },
    {
     "data": {
      "text/html": [
       "<pre>| 3         | 0.944275     | 0.752900          | 0.752959            | 0.524819          | 0.524553            |</pre>"
      ],
      "text/plain": [
       "| 3         | 0.944275     | 0.752900          | 0.752959            | 0.524819          | 0.524553            |"
      ]
     },
     "metadata": {},
     "output_type": "display_data"
    },
    {
     "data": {
      "text/html": [
       "<pre>| 4         | 1.263388     | 0.768385          | 0.766955            | 0.495477          | 0.495436            |</pre>"
      ],
      "text/plain": [
       "| 4         | 1.263388     | 0.768385          | 0.766955            | 0.495477          | 0.495436            |"
      ]
     },
     "metadata": {},
     "output_type": "display_data"
    },
    {
     "data": {
      "text/html": [
       "<pre>| 5         | 1.676074     | 0.760091          | 0.759571            | 0.480419          | 0.480500            |</pre>"
      ],
      "text/plain": [
       "| 5         | 1.676074     | 0.760091          | 0.759571            | 0.480419          | 0.480500            |"
      ]
     },
     "metadata": {},
     "output_type": "display_data"
    },
    {
     "data": {
      "text/html": [
       "<pre>| 6         | 1.984974     | 0.773214          | 0.773161            | 0.470348          | 0.470256            |</pre>"
      ],
      "text/plain": [
       "| 6         | 1.984974     | 0.773214          | 0.773161            | 0.470348          | 0.470256            |"
      ]
     },
     "metadata": {},
     "output_type": "display_data"
    },
    {
     "data": {
      "text/html": [
       "<pre>| 10        | 3.281269     | 0.791977          | 0.791285            | 0.427862          | 0.428553            |</pre>"
      ],
      "text/plain": [
       "| 10        | 3.281269     | 0.791977          | 0.791285            | 0.427862          | 0.428553            |"
      ]
     },
     "metadata": {},
     "output_type": "display_data"
    },
    {
     "data": {
      "text/html": [
       "<pre>| 11        | 3.696440     | 0.794458          | 0.793461            | 0.419101          | 0.420298            |</pre>"
      ],
      "text/plain": [
       "| 11        | 3.696440     | 0.794458          | 0.793461            | 0.419101          | 0.420298            |"
      ]
     },
     "metadata": {},
     "output_type": "display_data"
    },
    {
     "data": {
      "text/html": [
       "<pre>| 15        | 5.028440     | 0.799344          | 0.798627            | 0.404164          | 0.405868            |</pre>"
      ],
      "text/plain": [
       "| 15        | 5.028440     | 0.799344          | 0.798627            | 0.404164          | 0.405868            |"
      ]
     },
     "metadata": {},
     "output_type": "display_data"
    },
    {
     "data": {
      "text/html": [
       "<pre>| 20        | 6.531114     | 0.804103          | 0.802558            | 0.391129          | 0.393228            |</pre>"
      ],
      "text/plain": [
       "| 20        | 6.531114     | 0.804103          | 0.802558            | 0.391129          | 0.393228            |"
      ]
     },
     "metadata": {},
     "output_type": "display_data"
    },
    {
     "data": {
      "text/html": [
       "<pre>| 25        | 8.155704     | 0.808627          | 0.806250            | 0.383305          | 0.386010            |</pre>"
      ],
      "text/plain": [
       "| 25        | 8.155704     | 0.808627          | 0.806250            | 0.383305          | 0.386010            |"
      ]
     },
     "metadata": {},
     "output_type": "display_data"
    },
    {
     "data": {
      "text/html": [
       "<pre>| 30        | 10.059182    | 0.812308          | 0.809914            | 0.373832          | 0.377041            |</pre>"
      ],
      "text/plain": [
       "| 30        | 10.059182    | 0.812308          | 0.809914            | 0.373832          | 0.377041            |"
      ]
     },
     "metadata": {},
     "output_type": "display_data"
    },
    {
     "data": {
      "text/html": [
       "<pre>| 35        | 11.642600    | 0.815913          | 0.812961            | 0.367379          | 0.371357            |</pre>"
      ],
      "text/plain": [
       "| 35        | 11.642600    | 0.815913          | 0.812961            | 0.367379          | 0.371357            |"
      ]
     },
     "metadata": {},
     "output_type": "display_data"
    },
    {
     "data": {
      "text/html": [
       "<pre>| 40        | 13.247767    | 0.819110          | 0.815572            | 0.362086          | 0.366841            |</pre>"
      ],
      "text/plain": [
       "| 40        | 13.247767    | 0.819110          | 0.815572            | 0.362086          | 0.366841            |"
      ]
     },
     "metadata": {},
     "output_type": "display_data"
    },
    {
     "data": {
      "text/html": [
       "<pre>| 45        | 15.021975    | 0.820984          | 0.816920            | 0.356714          | 0.362041            |</pre>"
      ],
      "text/plain": [
       "| 45        | 15.021975    | 0.820984          | 0.816920            | 0.356714          | 0.362041            |"
      ]
     },
     "metadata": {},
     "output_type": "display_data"
    },
    {
     "data": {
      "text/html": [
       "<pre>| 50        | 17.278764    | 0.824484          | 0.819643            | 0.352114          | 0.358061            |</pre>"
      ],
      "text/plain": [
       "| 50        | 17.278764    | 0.824484          | 0.819643            | 0.352114          | 0.358061            |"
      ]
     },
     "metadata": {},
     "output_type": "display_data"
    },
    {
     "data": {
      "text/html": [
       "<pre>| 51        | 17.666518    | 0.825182          | 0.820050            | 0.351450          | 0.357700            |</pre>"
      ],
      "text/plain": [
       "| 51        | 17.666518    | 0.825182          | 0.820050            | 0.351450          | 0.357700            |"
      ]
     },
     "metadata": {},
     "output_type": "display_data"
    },
    {
     "data": {
      "text/html": [
       "<pre>| 55        | 19.252113    | 0.826231          | 0.820724            | 0.348947          | 0.355595            |</pre>"
      ],
      "text/plain": [
       "| 55        | 19.252113    | 0.826231          | 0.820724            | 0.348947          | 0.355595            |"
      ]
     },
     "metadata": {},
     "output_type": "display_data"
    },
    {
     "data": {
      "text/html": [
       "<pre>| 60        | 20.861510    | 0.827407          | 0.821988            | 0.345407          | 0.352538            |</pre>"
      ],
      "text/plain": [
       "| 60        | 20.861510    | 0.827407          | 0.821988            | 0.345407          | 0.352538            |"
      ]
     },
     "metadata": {},
     "output_type": "display_data"
    },
    {
     "data": {
      "text/html": [
       "<pre>| 65        | 22.589000    | 0.828685          | 0.823125            | 0.343074          | 0.350724            |</pre>"
      ],
      "text/plain": [
       "| 65        | 22.589000    | 0.828685          | 0.823125            | 0.343074          | 0.350724            |"
      ]
     },
     "metadata": {},
     "output_type": "display_data"
    },
    {
     "data": {
      "text/html": [
       "<pre>| 70        | 24.177568    | 0.830513          | 0.824472            | 0.340355          | 0.348628            |</pre>"
      ],
      "text/plain": [
       "| 70        | 24.177568    | 0.830513          | 0.824472            | 0.340355          | 0.348628            |"
      ]
     },
     "metadata": {},
     "output_type": "display_data"
    },
    {
     "data": {
      "text/html": [
       "<pre>+-----------+--------------+-------------------+---------------------+-------------------+---------------------+</pre>"
      ],
      "text/plain": [
       "+-----------+--------------+-------------------+---------------------+-------------------+---------------------+"
      ]
     },
     "metadata": {},
     "output_type": "display_data"
    },
    {
     "name": "stdout",
     "output_type": "stream",
     "text": [
      "Done 3\n"
     ]
    },
    {
     "data": {
      "text/html": [
       "<pre>Boosted trees classifier:</pre>"
      ],
      "text/plain": [
       "Boosted trees classifier:"
      ]
     },
     "metadata": {},
     "output_type": "display_data"
    },
    {
     "data": {
      "text/html": [
       "<pre>--------------------------------------------------------</pre>"
      ],
      "text/plain": [
       "--------------------------------------------------------"
      ]
     },
     "metadata": {},
     "output_type": "display_data"
    },
    {
     "data": {
      "text/html": [
       "<pre>Number of examples          : 284925</pre>"
      ],
      "text/plain": [
       "Number of examples          : 284925"
      ]
     },
     "metadata": {},
     "output_type": "display_data"
    },
    {
     "data": {
      "text/html": [
       "<pre>Number of classes           : 2</pre>"
      ],
      "text/plain": [
       "Number of classes           : 2"
      ]
     },
     "metadata": {},
     "output_type": "display_data"
    },
    {
     "data": {
      "text/html": [
       "<pre>Number of feature columns   : 10</pre>"
      ],
      "text/plain": [
       "Number of feature columns   : 10"
      ]
     },
     "metadata": {},
     "output_type": "display_data"
    },
    {
     "data": {
      "text/html": [
       "<pre>Number of unpacked features : 10</pre>"
      ],
      "text/plain": [
       "Number of unpacked features : 10"
      ]
     },
     "metadata": {},
     "output_type": "display_data"
    },
    {
     "data": {
      "text/html": [
       "<pre>+-----------+--------------+-------------------+---------------------+-------------------+---------------------+</pre>"
      ],
      "text/plain": [
       "+-----------+--------------+-------------------+---------------------+-------------------+---------------------+"
      ]
     },
     "metadata": {},
     "output_type": "display_data"
    },
    {
     "data": {
      "text/html": [
       "<pre>| Iteration | Elapsed Time | Training-accuracy | Validation-accuracy | Training-log_loss | Validation-log_loss |</pre>"
      ],
      "text/plain": [
       "| Iteration | Elapsed Time | Training-accuracy | Validation-accuracy | Training-log_loss | Validation-log_loss |"
      ]
     },
     "metadata": {},
     "output_type": "display_data"
    },
    {
     "data": {
      "text/html": [
       "<pre>+-----------+--------------+-------------------+---------------------+-------------------+---------------------+</pre>"
      ],
      "text/plain": [
       "+-----------+--------------+-------------------+---------------------+-------------------+---------------------+"
      ]
     },
     "metadata": {},
     "output_type": "display_data"
    },
    {
     "data": {
      "text/html": [
       "<pre>| 1         | 0.321770     | 0.731368          | 0.729233            | 0.608890          | 0.609876            |</pre>"
      ],
      "text/plain": [
       "| 1         | 0.321770     | 0.731368          | 0.729233            | 0.608890          | 0.609876            |"
      ]
     },
     "metadata": {},
     "output_type": "display_data"
    },
    {
     "data": {
      "text/html": [
       "<pre>| 2         | 0.625838     | 0.746677          | 0.745041            | 0.557176          | 0.558714            |</pre>"
      ],
      "text/plain": [
       "| 2         | 0.625838     | 0.746677          | 0.745041            | 0.557176          | 0.558714            |"
      ]
     },
     "metadata": {},
     "output_type": "display_data"
    },
    {
     "data": {
      "text/html": [
       "<pre>| 3         | 0.915475     | 0.750450          | 0.748186            | 0.524536          | 0.526788            |</pre>"
      ],
      "text/plain": [
       "| 3         | 0.915475     | 0.750450          | 0.748186            | 0.524536          | 0.526788            |"
      ]
     },
     "metadata": {},
     "output_type": "display_data"
    },
    {
     "data": {
      "text/html": [
       "<pre>| 4         | 1.207856     | 0.762657          | 0.761157            | 0.494342          | 0.496638            |</pre>"
      ],
      "text/plain": [
       "| 4         | 1.207856     | 0.762657          | 0.761157            | 0.494342          | 0.496638            |"
      ]
     },
     "metadata": {},
     "output_type": "display_data"
    },
    {
     "data": {
      "text/html": [
       "<pre>| 5         | 1.513630     | 0.765475          | 0.764358            | 0.479167          | 0.481538            |</pre>"
      ],
      "text/plain": [
       "| 5         | 1.513630     | 0.765475          | 0.764358            | 0.479167          | 0.481538            |"
      ]
     },
     "metadata": {},
     "output_type": "display_data"
    },
    {
     "data": {
      "text/html": [
       "<pre>| 6         | 1.823170     | 0.768911          | 0.768008            | 0.463095          | 0.465546            |</pre>"
      ],
      "text/plain": [
       "| 6         | 1.823170     | 0.768911          | 0.768008            | 0.463095          | 0.465546            |"
      ]
     },
     "metadata": {},
     "output_type": "display_data"
    },
    {
     "data": {
      "text/html": [
       "<pre>| 10        | 3.027756     | 0.792075          | 0.790049            | 0.426862          | 0.429981            |</pre>"
      ],
      "text/plain": [
       "| 10        | 3.027756     | 0.792075          | 0.790049            | 0.426862          | 0.429981            |"
      ]
     },
     "metadata": {},
     "output_type": "display_data"
    },
    {
     "data": {
      "text/html": [
       "<pre>| 11        | 3.339273     | 0.792731          | 0.790456            | 0.424207          | 0.427524            |</pre>"
      ],
      "text/plain": [
       "| 11        | 3.339273     | 0.792731          | 0.790456            | 0.424207          | 0.427524            |"
      ]
     },
     "metadata": {},
     "output_type": "display_data"
    },
    {
     "data": {
      "text/html": [
       "<pre>| 15        | 4.840937     | 0.798758          | 0.796381            | 0.409919          | 0.413645            |</pre>"
      ],
      "text/plain": [
       "| 15        | 4.840937     | 0.798758          | 0.796381            | 0.409919          | 0.413645            |"
      ]
     },
     "metadata": {},
     "output_type": "display_data"
    },
    {
     "data": {
      "text/html": [
       "<pre>| 20        | 6.825377     | 0.804482          | 0.801968            | 0.397223          | 0.401377            |</pre>"
      ],
      "text/plain": [
       "| 20        | 6.825377     | 0.804482          | 0.801968            | 0.397223          | 0.401377            |"
      ]
     },
     "metadata": {},
     "output_type": "display_data"
    },
    {
     "data": {
      "text/html": [
       "<pre>| 25        | 8.531205     | 0.808150          | 0.805436            | 0.386605          | 0.391041            |</pre>"
      ],
      "text/plain": [
       "| 25        | 8.531205     | 0.808150          | 0.805436            | 0.386605          | 0.391041            |"
      ]
     },
     "metadata": {},
     "output_type": "display_data"
    },
    {
     "data": {
      "text/html": [
       "<pre>| 30        | 10.157288    | 0.811722          | 0.808356            | 0.377347          | 0.382617            |</pre>"
      ],
      "text/plain": [
       "| 30        | 10.157288    | 0.811722          | 0.808356            | 0.377347          | 0.382617            |"
      ]
     },
     "metadata": {},
     "output_type": "display_data"
    },
    {
     "data": {
      "text/html": [
       "<pre>| 35        | 12.153011    | 0.815618          | 0.811838            | 0.369405          | 0.375120            |</pre>"
      ],
      "text/plain": [
       "| 35        | 12.153011    | 0.815618          | 0.811838            | 0.369405          | 0.375120            |"
      ]
     },
     "metadata": {},
     "output_type": "display_data"
    },
    {
     "data": {
      "text/html": [
       "<pre>| 40        | 13.625193    | 0.817780          | 0.813171            | 0.363637          | 0.369889            |</pre>"
      ],
      "text/plain": [
       "| 40        | 13.625193    | 0.817780          | 0.813171            | 0.363637          | 0.369889            |"
      ]
     },
     "metadata": {},
     "output_type": "display_data"
    },
    {
     "data": {
      "text/html": [
       "<pre>| 45        | 15.092763    | 0.819840          | 0.815431            | 0.358846          | 0.365573            |</pre>"
      ],
      "text/plain": [
       "| 45        | 15.092763    | 0.819840          | 0.815431            | 0.358846          | 0.365573            |"
      ]
     },
     "metadata": {},
     "output_type": "display_data"
    },
    {
     "data": {
      "text/html": [
       "<pre>| 50        | 16.545859    | 0.824038          | 0.818155            | 0.353626          | 0.361028            |</pre>"
      ],
      "text/plain": [
       "| 50        | 16.545859    | 0.824038          | 0.818155            | 0.353626          | 0.361028            |"
      ]
     },
     "metadata": {},
     "output_type": "display_data"
    },
    {
     "data": {
      "text/html": [
       "<pre>| 51        | 16.833134    | 0.825136          | 0.818548            | 0.352350          | 0.360137            |</pre>"
      ],
      "text/plain": [
       "| 51        | 16.833134    | 0.825136          | 0.818548            | 0.352350          | 0.360137            |"
      ]
     },
     "metadata": {},
     "output_type": "display_data"
    },
    {
     "data": {
      "text/html": [
       "<pre>| 55        | 18.000001    | 0.826502          | 0.819194            | 0.349843          | 0.358185            |</pre>"
      ],
      "text/plain": [
       "| 55        | 18.000001    | 0.826502          | 0.819194            | 0.349843          | 0.358185            |"
      ]
     },
     "metadata": {},
     "output_type": "display_data"
    },
    {
     "data": {
      "text/html": [
       "<pre>| 60        | 19.471097    | 0.828913          | 0.821314            | 0.345351          | 0.354411            |</pre>"
      ],
      "text/plain": [
       "| 60        | 19.471097    | 0.828913          | 0.821314            | 0.345351          | 0.354411            |"
      ]
     },
     "metadata": {},
     "output_type": "display_data"
    },
    {
     "data": {
      "text/html": [
       "<pre>| 65        | 20.968811    | 0.830127          | 0.822619            | 0.342638          | 0.352168            |</pre>"
      ],
      "text/plain": [
       "| 65        | 20.968811    | 0.830127          | 0.822619            | 0.342638          | 0.352168            |"
      ]
     },
     "metadata": {},
     "output_type": "display_data"
    },
    {
     "data": {
      "text/html": [
       "<pre>| 70        | 22.744017    | 0.831998          | 0.823630            | 0.339640          | 0.349820            |</pre>"
      ],
      "text/plain": [
       "| 70        | 22.744017    | 0.831998          | 0.823630            | 0.339640          | 0.349820            |"
      ]
     },
     "metadata": {},
     "output_type": "display_data"
    },
    {
     "data": {
      "text/html": [
       "<pre>+-----------+--------------+-------------------+---------------------+-------------------+---------------------+</pre>"
      ],
      "text/plain": [
       "+-----------+--------------+-------------------+---------------------+-------------------+---------------------+"
      ]
     },
     "metadata": {},
     "output_type": "display_data"
    },
    {
     "name": "stdout",
     "output_type": "stream",
     "text": [
      "Done 4\n"
     ]
    }
   ],
   "source": [
    "myfeatures = ['APL','AvgPktPerSec','IAT','NumForward','BytesEx','BitsPerSec','NumPackets','StdDevLen','Duration','IOPR']\n",
    "from turicreate_cross_validation.cross_validation import KFold\n",
    "SF = shuffle_sframe(SF)\n",
    "Folds = KFold(SF,5)\n",
    "j=0\n",
    "models = []\n",
    "for train,val in Folds:\n",
    "    model = gl.boosted_trees_classifier.create(train,features=myfeatures,target='isBot',validation_set=val,verbose = True,max_iterations=70)\n",
    "    models.append(model)\n",
    "    print (\"Done\",j)\n",
    "    j=j+1\n",
    "#model = gl.boosted_trees_classifier.create(SF,features=myfeatures,target='isBot',verbose = False)"
   ]
  },
  {
   "cell_type": "code",
   "execution_count": 30,
   "metadata": {},
   "outputs": [
    {
     "data": {
      "text/plain": [
       "<bound method SFrame.head of Columns:\n",
       "\tAPL\tfloat\n",
       "\tAvgPktPerSec\tfloat\n",
       "\tIAT\tfloat\n",
       "\tNumForward\tint\n",
       "\tBytesEx\tint\n",
       "\tBitsPerSec\tfloat\n",
       "\tNumPackets\tint\n",
       "\tStdDevLen\tfloat\n",
       "\tDuration\tint\n",
       "\tIOPR\tfloat\n",
       "\tisBot\tint\n",
       "\n",
       "Rows: 309187\n",
       "\n",
       "Data:\n",
       "+---------+--------------+-----------+------------+---------+------------+------------+\n",
       "|   APL   | AvgPktPerSec |    IAT    | NumForward | BytesEx | BitsPerSec | NumPackets |\n",
       "+---------+--------------+-----------+------------+---------+------------+------------+\n",
       "|   0.0   |   0.210342   | 5150350.0 |     13     |    0    |    0.0     |     13     |\n",
       "|   91.4  |   1416.53    |  743.105  |     10     |   1828  | 1035770.0  |     20     |\n",
       "|  36.75  |   196.078    |  5828.57  |     4      |   294   |  57647.1   |     8      |\n",
       "|  36.75  |   181.818    |  6285.71  |     4      |   294   |  53454.5   |     8      |\n",
       "| 110.438 |   567.346    |  1819.45  |     16     |   3534  |  501250.0  |     32     |\n",
       "|   18.0  |   6015.04    |  221.667  |     2      |    72   |  866165.0  |     4      |\n",
       "|   18.0  |    478.24    |   2788.0  |     2      |    72   |  68866.6   |     4      |\n",
       "|   18.0  |   422.297    |  3157.33  |     2      |    72   |  60810.8   |     4      |\n",
       "| 99.4167 |   1.11007    |  982743.0 |     7      |   1193  |  882.872   |     12     |\n",
       "|  134.75 |   1.37257    |  794792.0 |     7      |   1617  |  1479.63   |     12     |\n",
       "+---------+--------------+-----------+------------+---------+------------+------------+\n",
       "+-----------+----------+----------+-------+\n",
       "| StdDevLen | Duration |   IOPR   | isBot |\n",
       "+-----------+----------+----------+-------+\n",
       "|    0.0    | 61804233 |   0.0    |   0   |\n",
       "|  94.2779  |  14119   |   1.0    |   1   |\n",
       "|  65.9109  |  40800   |   1.0    |   1   |\n",
       "|  65.9109  |  44000   |   1.0    |   1   |\n",
       "|  94.8713  |  56403   |   1.0    |   1   |\n",
       "|  50.9117  |   665    |   1.0    |   1   |\n",
       "|  50.9117  |   8364   |   1.0    |   1   |\n",
       "|  50.9117  |   9472   |   1.0    |   1   |\n",
       "|  142.819  | 10810175 | 0.714286 |   1   |\n",
       "|  136.573  | 8742717  | 0.714286 |   1   |\n",
       "+-----------+----------+----------+-------+\n",
       "[309187 rows x 11 columns]\n",
       "Note: Only the head of the SFrame is printed.\n",
       "You can use print_rows(num_rows=m, num_columns=n) to print more rows and columns.>"
      ]
     },
     "execution_count": 30,
     "metadata": {},
     "output_type": "execute_result"
    }
   ],
   "source": [
    "Test = gl.SFrame.read_csv('/home/test-machine/testing.csv',verbose=False)\n",
    "Test.head"
   ]
  },
  {
   "cell_type": "code",
   "execution_count": 31,
   "metadata": {},
   "outputs": [
    {
     "name": "stdout",
     "output_type": "stream",
     "text": [
      "end-time  1527282958.8862953\n",
      "start_timee  1527282958.256629\n",
      "end-time - start_time  2.036522649497475e-06\n",
      "end-time  1527282959.5072873\n",
      "start_timee  1527282958.8865008\n",
      "end-time - start_time  2.0078024899220797e-06\n",
      "end-time  1527282960.117074\n",
      "start_timee  1527282959.507485\n",
      "end-time - start_time  1.9715870974007097e-06\n",
      "end-time  1527282960.710794\n",
      "start_timee  1527282960.117273\n",
      "end-time - start_time  1.919617835631781e-06\n",
      "end-time  1527282961.3105114\n",
      "start_timee  1527282960.7109873\n",
      "end-time - start_time  1.9390337276427587e-06\n",
      "+--------------+-----------------+--------+\n",
      "| target_label | predicted_label | count  |\n",
      "+--------------+-----------------+--------+\n",
      "|      1       |        1        | 123733 |\n",
      "|      0       |        1        | 30885  |\n",
      "|      0       |        0        | 84961  |\n",
      "|      1       |        0        | 69608  |\n",
      "+--------------+-----------------+--------+\n",
      "[4 rows x 3 columns]\n",
      "\n"
     ]
    }
   ],
   "source": [
    "import time\n",
    "pred = []\n",
    "import time\n",
    "for model in models:\n",
    "    start_time = time.time()\n",
    "    temp = list(model.predict(Test))\n",
    "    end_time = time.time()\n",
    "    print ('end-time ',end_time)\n",
    "    print ('start_timee ',start_time)\n",
    "    print ('end-time - start_time ',(end_time - start_time)/309187)\n",
    "    pred.append(temp)\n",
    "    \n",
    "final = []\n",
    "for i in range(len(Test)):\n",
    "    count = 0\n",
    "    for j in range(5):\n",
    "        if pred[j][i] ==1:\n",
    "            count += 1\n",
    "    if count>2:\n",
    "        final.append(1)\n",
    "    else:\n",
    "        final.append(0)\n",
    "\n",
    "print (gl.toolkits.evaluation.confusion_matrix(Test['isBot'],gl.SArray(final)))"
   ]
  },
  {
   "cell_type": "code",
   "execution_count": 32,
   "metadata": {},
   "outputs": [
    {
     "name": "stdout",
     "output_type": "stream",
     "text": [
      "0.6749766322646166\n"
     ]
    }
   ],
   "source": [
    "print (gl.toolkits.evaluation.accuracy(Test['isBot'],gl.SArray(final)))"
   ]
  },
  {
   "cell_type": "code",
   "execution_count": 33,
   "metadata": {},
   "outputs": [
    {
     "name": "stdout",
     "output_type": "stream",
     "text": [
      "0.8002496475184002\n"
     ]
    }
   ],
   "source": [
    "print (gl.toolkits.evaluation.precision(Test['isBot'],gl.SArray(final)))"
   ]
  },
  {
   "cell_type": "code",
   "execution_count": null,
   "metadata": {},
   "outputs": [],
   "source": []
  },
  {
   "cell_type": "code",
   "execution_count": null,
   "metadata": {},
   "outputs": [],
   "source": []
  },
  {
   "cell_type": "code",
   "execution_count": null,
   "metadata": {},
   "outputs": [],
   "source": []
  }
 ],
 "metadata": {
  "kernelspec": {
   "display_name": "Python 3",
   "language": "python",
   "name": "python3"
  },
  "language_info": {
   "codemirror_mode": {
    "name": "ipython",
    "version": 3
   },
   "file_extension": ".py",
   "mimetype": "text/x-python",
   "name": "python",
   "nbconvert_exporter": "python",
   "pygments_lexer": "ipython3",
   "version": "3.6.5"
  }
 },
 "nbformat": 4,
 "nbformat_minor": 2
}
