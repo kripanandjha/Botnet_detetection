{
 "cells": [
  {
   "cell_type": "code",
   "execution_count": 1,
   "metadata": {},
   "outputs": [],
   "source": [
    "import numpy as np\n",
    "import pandas as pd\n",
    "import sklearn.model_selection\n",
    "from sklearn.model_selection import KFold"
   ]
  },
  {
   "cell_type": "code",
   "execution_count": 2,
   "metadata": {},
   "outputs": [
    {
     "data": {
      "text/html": [
       "<div>\n",
       "<style scoped>\n",
       "    .dataframe tbody tr th:only-of-type {\n",
       "        vertical-align: middle;\n",
       "    }\n",
       "\n",
       "    .dataframe tbody tr th {\n",
       "        vertical-align: top;\n",
       "    }\n",
       "\n",
       "    .dataframe thead th {\n",
       "        text-align: right;\n",
       "    }\n",
       "</style>\n",
       "<table border=\"1\" class=\"dataframe\">\n",
       "  <thead>\n",
       "    <tr style=\"text-align: right;\">\n",
       "      <th></th>\n",
       "      <th>APL</th>\n",
       "      <th>AvgPktPerSec</th>\n",
       "      <th>IAT</th>\n",
       "      <th>NumForward</th>\n",
       "      <th>BytesEx</th>\n",
       "      <th>BitsPerSec</th>\n",
       "      <th>NumPackets</th>\n",
       "      <th>StdDevLen</th>\n",
       "      <th>Duration</th>\n",
       "      <th>IOPR</th>\n",
       "      <th>isBot</th>\n",
       "    </tr>\n",
       "  </thead>\n",
       "  <tbody>\n",
       "    <tr>\n",
       "      <th>count</th>\n",
       "      <td>356156.000000</td>\n",
       "      <td>3.561560e+05</td>\n",
       "      <td>3.561560e+05</td>\n",
       "      <td>356156.000000</td>\n",
       "      <td>3.561560e+05</td>\n",
       "      <td>3.561560e+05</td>\n",
       "      <td>356156.000000</td>\n",
       "      <td>356156.000000</td>\n",
       "      <td>3.561560e+05</td>\n",
       "      <td>356156.000000</td>\n",
       "      <td>356156.000000</td>\n",
       "    </tr>\n",
       "    <tr>\n",
       "      <th>mean</th>\n",
       "      <td>126.303021</td>\n",
       "      <td>1.857459e+04</td>\n",
       "      <td>4.157275e+06</td>\n",
       "      <td>11.394142</td>\n",
       "      <td>1.288425e+04</td>\n",
       "      <td>2.372350e+06</td>\n",
       "      <td>26.087299</td>\n",
       "      <td>22.675727</td>\n",
       "      <td>1.138906e+07</td>\n",
       "      <td>0.670665</td>\n",
       "      <td>0.607245</td>\n",
       "    </tr>\n",
       "    <tr>\n",
       "      <th>std</th>\n",
       "      <td>220.298208</td>\n",
       "      <td>1.092119e+05</td>\n",
       "      <td>4.019257e+07</td>\n",
       "      <td>135.034150</td>\n",
       "      <td>2.623137e+05</td>\n",
       "      <td>4.009150e+07</td>\n",
       "      <td>358.542367</td>\n",
       "      <td>74.843656</td>\n",
       "      <td>2.684556e+07</td>\n",
       "      <td>0.740330</td>\n",
       "      <td>0.488364</td>\n",
       "    </tr>\n",
       "    <tr>\n",
       "      <th>min</th>\n",
       "      <td>0.000000</td>\n",
       "      <td>-4.510000e-05</td>\n",
       "      <td>-2.220000e+10</td>\n",
       "      <td>1.000000</td>\n",
       "      <td>0.000000e+00</td>\n",
       "      <td>0.000000e+00</td>\n",
       "      <td>2.000000</td>\n",
       "      <td>0.000000</td>\n",
       "      <td>-3.000000e+00</td>\n",
       "      <td>0.000000</td>\n",
       "      <td>0.000000</td>\n",
       "    </tr>\n",
       "    <tr>\n",
       "      <th>25%</th>\n",
       "      <td>0.000000</td>\n",
       "      <td>6.929253e-01</td>\n",
       "      <td>1.007800e+04</td>\n",
       "      <td>2.000000</td>\n",
       "      <td>0.000000e+00</td>\n",
       "      <td>0.000000e+00</td>\n",
       "      <td>2.000000</td>\n",
       "      <td>0.000000</td>\n",
       "      <td>1.374225e+04</td>\n",
       "      <td>0.000000</td>\n",
       "      <td>0.000000</td>\n",
       "    </tr>\n",
       "    <tr>\n",
       "      <th>50%</th>\n",
       "      <td>19.000000</td>\n",
       "      <td>1.245335e+01</td>\n",
       "      <td>1.236720e+05</td>\n",
       "      <td>3.000000</td>\n",
       "      <td>7.600000e+01</td>\n",
       "      <td>1.246165e+02</td>\n",
       "      <td>3.000000</td>\n",
       "      <td>0.000000</td>\n",
       "      <td>4.931940e+05</td>\n",
       "      <td>0.500000</td>\n",
       "      <td>1.000000</td>\n",
       "    </tr>\n",
       "    <tr>\n",
       "      <th>75%</th>\n",
       "      <td>131.000000</td>\n",
       "      <td>1.867060e+02</td>\n",
       "      <td>1.782490e+06</td>\n",
       "      <td>6.000000</td>\n",
       "      <td>6.540000e+02</td>\n",
       "      <td>2.165235e+04</td>\n",
       "      <td>7.000000</td>\n",
       "      <td>21.000000</td>\n",
       "      <td>9.011137e+06</td>\n",
       "      <td>1.000000</td>\n",
       "      <td>1.000000</td>\n",
       "    </tr>\n",
       "    <tr>\n",
       "      <th>max</th>\n",
       "      <td>1455.000000</td>\n",
       "      <td>2.000000e+06</td>\n",
       "      <td>1.200000e+08</td>\n",
       "      <td>15016.000000</td>\n",
       "      <td>4.090536e+07</td>\n",
       "      <td>2.312000e+09</td>\n",
       "      <td>44710.000000</td>\n",
       "      <td>1397.840000</td>\n",
       "      <td>1.200000e+08</td>\n",
       "      <td>75.000000</td>\n",
       "      <td>1.000000</td>\n",
       "    </tr>\n",
       "  </tbody>\n",
       "</table>\n",
       "</div>"
      ],
      "text/plain": [
       "                 APL  AvgPktPerSec           IAT     NumForward       BytesEx  \\\n",
       "count  356156.000000  3.561560e+05  3.561560e+05  356156.000000  3.561560e+05   \n",
       "mean      126.303021  1.857459e+04  4.157275e+06      11.394142  1.288425e+04   \n",
       "std       220.298208  1.092119e+05  4.019257e+07     135.034150  2.623137e+05   \n",
       "min         0.000000 -4.510000e-05 -2.220000e+10       1.000000  0.000000e+00   \n",
       "25%         0.000000  6.929253e-01  1.007800e+04       2.000000  0.000000e+00   \n",
       "50%        19.000000  1.245335e+01  1.236720e+05       3.000000  7.600000e+01   \n",
       "75%       131.000000  1.867060e+02  1.782490e+06       6.000000  6.540000e+02   \n",
       "max      1455.000000  2.000000e+06  1.200000e+08   15016.000000  4.090536e+07   \n",
       "\n",
       "         BitsPerSec     NumPackets      StdDevLen      Duration  \\\n",
       "count  3.561560e+05  356156.000000  356156.000000  3.561560e+05   \n",
       "mean   2.372350e+06      26.087299      22.675727  1.138906e+07   \n",
       "std    4.009150e+07     358.542367      74.843656  2.684556e+07   \n",
       "min    0.000000e+00       2.000000       0.000000 -3.000000e+00   \n",
       "25%    0.000000e+00       2.000000       0.000000  1.374225e+04   \n",
       "50%    1.246165e+02       3.000000       0.000000  4.931940e+05   \n",
       "75%    2.165235e+04       7.000000      21.000000  9.011137e+06   \n",
       "max    2.312000e+09   44710.000000    1397.840000  1.200000e+08   \n",
       "\n",
       "                IOPR          isBot  \n",
       "count  356156.000000  356156.000000  \n",
       "mean        0.670665       0.607245  \n",
       "std         0.740330       0.488364  \n",
       "min         0.000000       0.000000  \n",
       "25%         0.000000       0.000000  \n",
       "50%         0.500000       1.000000  \n",
       "75%         1.000000       1.000000  \n",
       "max        75.000000       1.000000  "
      ]
     },
     "execution_count": 2,
     "metadata": {},
     "output_type": "execute_result"
    }
   ],
   "source": [
    "dataset = pd.read_csv('/home/test-machine/training.csv')\n",
    "dataset.describe()"
   ]
  },
  {
   "cell_type": "code",
   "execution_count": 3,
   "metadata": {},
   "outputs": [],
   "source": [
    "features = dataset[['APL','AvgPktPerSec','IAT','NumForward','BytesEx','BitsPerSec','NumPackets','StdDevLen','Duration','IOPR']]\n",
    "labels = np.asarray(dataset.isBot)"
   ]
  },
  {
   "cell_type": "code",
   "execution_count": 4,
   "metadata": {},
   "outputs": [],
   "source": [
    "from sklearn.preprocessing import LabelEncoder\n",
    "le = LabelEncoder()\n",
    "le.fit(labels)\n",
    "\n",
    "# apply encoding to labels\n",
    "labels = le.transform(labels)"
   ]
  },
  {
   "cell_type": "code",
   "execution_count": 5,
   "metadata": {},
   "outputs": [],
   "source": [
    "from sklearn.model_selection import KFold\n",
    "kf = KFold(n_splits=5,shuffle=True)"
   ]
  },
  {
   "cell_type": "code",
   "execution_count": 6,
   "metadata": {},
   "outputs": [
    {
     "name": "stdout",
     "output_type": "stream",
     "text": [
      "(array([     0,      1,      2, ..., 356151, 356152, 356154]), array([     8,     15,     21, ..., 356142, 356153, 356155]))\n"
     ]
    }
   ],
   "source": [
    "result1 = next(kf.split(features), None)\n",
    "print (result1)\n",
    "labels1 = labels[result1[0]]\n",
    "train1 = features.iloc[result1[0]]"
   ]
  },
  {
   "cell_type": "code",
   "execution_count": 7,
   "metadata": {},
   "outputs": [
    {
     "name": "stdout",
     "output_type": "stream",
     "text": [
      "(array([     0,      1,      2, ..., 356152, 356153, 356154]), array([     3,      4,     24, ..., 356147, 356150, 356155]))\n"
     ]
    }
   ],
   "source": [
    "result1 = next(kf.split(features), None)\n",
    "print (result1)\n",
    "labels2 = labels[result1[0]]\n",
    "train2 = features.iloc[result1[0]]"
   ]
  },
  {
   "cell_type": "code",
   "execution_count": 8,
   "metadata": {},
   "outputs": [
    {
     "name": "stdout",
     "output_type": "stream",
     "text": [
      "(array([     0,      1,      2, ..., 356152, 356153, 356155]), array([    12,     14,     15, ..., 356136, 356147, 356154]))\n"
     ]
    }
   ],
   "source": [
    "result1 = next(kf.split(features), None)\n",
    "print (result1)\n",
    "labels3 = labels[result1[0]]\n",
    "train3 = features.iloc[result1[0]]"
   ]
  },
  {
   "cell_type": "code",
   "execution_count": 9,
   "metadata": {},
   "outputs": [
    {
     "name": "stdout",
     "output_type": "stream",
     "text": [
      "(array([     1,      2,      4, ..., 356152, 356153, 356155]), array([     0,      3,     10, ..., 356146, 356151, 356154]))\n"
     ]
    }
   ],
   "source": [
    "result1 = next(kf.split(features), None)\n",
    "print (result1)\n",
    "labels4 = labels[result1[0]]\n",
    "train4 = features.iloc[result1[0]]"
   ]
  },
  {
   "cell_type": "code",
   "execution_count": 10,
   "metadata": {},
   "outputs": [
    {
     "name": "stdout",
     "output_type": "stream",
     "text": [
      "(array([     1,      3,      6, ..., 356153, 356154, 356155]), array([     0,      2,      4, ..., 356138, 356139, 356141]))\n"
     ]
    }
   ],
   "source": [
    "result1 = next(kf.split(features), None)\n",
    "print (result1)\n",
    "labels5 = labels[result1[0]]\n",
    "train5 = features.iloc[result1[0]]"
   ]
  },
  {
   "cell_type": "code",
   "execution_count": 11,
   "metadata": {},
   "outputs": [],
   "source": [
    "from sklearn.model_selection import train_test_split, GridSearchCV\n",
    "from sklearn.svm import SVC\n",
    "from sklearn import ensemble\n",
    "from sklearn.metrics import mean_squared_error\n",
    "from sklearn.ensemble import RandomForestClassifier"
   ]
  },
  {
   "cell_type": "code",
   "execution_count": 12,
   "metadata": {},
   "outputs": [
    {
     "data": {
      "text/plain": [
       "RandomForestClassifier(bootstrap=True, class_weight=None, criterion='gini',\n",
       "            max_depth=None, max_features='auto', max_leaf_nodes=None,\n",
       "            min_impurity_decrease=0.0, min_impurity_split=None,\n",
       "            min_samples_leaf=1, min_samples_split=2,\n",
       "            min_weight_fraction_leaf=0.0, n_estimators=10, n_jobs=1,\n",
       "            oob_score=False, random_state=0, verbose=0, warm_start=False)"
      ]
     },
     "execution_count": 12,
     "metadata": {},
     "output_type": "execute_result"
    }
   ],
   "source": [
    "clf1 = RandomForestClassifier(n_estimators=10, max_depth=None,min_samples_split=2, random_state=0)\n",
    "clf1.fit(train1, labels1)"
   ]
  },
  {
   "cell_type": "code",
   "execution_count": 13,
   "metadata": {},
   "outputs": [
    {
     "data": {
      "text/plain": [
       "RandomForestClassifier(bootstrap=True, class_weight=None, criterion='gini',\n",
       "            max_depth=None, max_features='auto', max_leaf_nodes=None,\n",
       "            min_impurity_decrease=0.0, min_impurity_split=None,\n",
       "            min_samples_leaf=1, min_samples_split=2,\n",
       "            min_weight_fraction_leaf=0.0, n_estimators=10, n_jobs=1,\n",
       "            oob_score=False, random_state=0, verbose=0, warm_start=False)"
      ]
     },
     "execution_count": 13,
     "metadata": {},
     "output_type": "execute_result"
    }
   ],
   "source": [
    "clf2 = RandomForestClassifier(n_estimators=10, max_depth=None,min_samples_split=2, random_state=0)\n",
    "clf2.fit(train2, labels2)"
   ]
  },
  {
   "cell_type": "code",
   "execution_count": 14,
   "metadata": {},
   "outputs": [
    {
     "data": {
      "text/plain": [
       "RandomForestClassifier(bootstrap=True, class_weight=None, criterion='gini',\n",
       "            max_depth=None, max_features='auto', max_leaf_nodes=None,\n",
       "            min_impurity_decrease=0.0, min_impurity_split=None,\n",
       "            min_samples_leaf=1, min_samples_split=2,\n",
       "            min_weight_fraction_leaf=0.0, n_estimators=10, n_jobs=1,\n",
       "            oob_score=False, random_state=0, verbose=0, warm_start=False)"
      ]
     },
     "execution_count": 14,
     "metadata": {},
     "output_type": "execute_result"
    }
   ],
   "source": [
    "clf3 = RandomForestClassifier(n_estimators=10, max_depth=None,min_samples_split=2, random_state=0)\n",
    "clf3.fit(train3, labels3)"
   ]
  },
  {
   "cell_type": "code",
   "execution_count": 15,
   "metadata": {},
   "outputs": [
    {
     "data": {
      "text/plain": [
       "RandomForestClassifier(bootstrap=True, class_weight=None, criterion='gini',\n",
       "            max_depth=None, max_features='auto', max_leaf_nodes=None,\n",
       "            min_impurity_decrease=0.0, min_impurity_split=None,\n",
       "            min_samples_leaf=1, min_samples_split=2,\n",
       "            min_weight_fraction_leaf=0.0, n_estimators=10, n_jobs=1,\n",
       "            oob_score=False, random_state=0, verbose=0, warm_start=False)"
      ]
     },
     "execution_count": 15,
     "metadata": {},
     "output_type": "execute_result"
    }
   ],
   "source": [
    "clf4 = RandomForestClassifier(n_estimators=10, max_depth=None,min_samples_split=2, random_state=0)\n",
    "clf4.fit(train4, labels4)"
   ]
  },
  {
   "cell_type": "code",
   "execution_count": 16,
   "metadata": {},
   "outputs": [
    {
     "data": {
      "text/plain": [
       "RandomForestClassifier(bootstrap=True, class_weight=None, criterion='gini',\n",
       "            max_depth=None, max_features='auto', max_leaf_nodes=None,\n",
       "            min_impurity_decrease=0.0, min_impurity_split=None,\n",
       "            min_samples_leaf=1, min_samples_split=2,\n",
       "            min_weight_fraction_leaf=0.0, n_estimators=10, n_jobs=1,\n",
       "            oob_score=False, random_state=0, verbose=0, warm_start=False)"
      ]
     },
     "execution_count": 16,
     "metadata": {},
     "output_type": "execute_result"
    }
   ],
   "source": [
    "clf5 = RandomForestClassifier(n_estimators=10, max_depth=None,min_samples_split=2, random_state=0)\n",
    "clf5.fit(train5, labels5)"
   ]
  },
  {
   "cell_type": "code",
   "execution_count": 17,
   "metadata": {},
   "outputs": [
    {
     "data": {
      "text/html": [
       "<div>\n",
       "<style scoped>\n",
       "    .dataframe tbody tr th:only-of-type {\n",
       "        vertical-align: middle;\n",
       "    }\n",
       "\n",
       "    .dataframe tbody tr th {\n",
       "        vertical-align: top;\n",
       "    }\n",
       "\n",
       "    .dataframe thead th {\n",
       "        text-align: right;\n",
       "    }\n",
       "</style>\n",
       "<table border=\"1\" class=\"dataframe\">\n",
       "  <thead>\n",
       "    <tr style=\"text-align: right;\">\n",
       "      <th></th>\n",
       "      <th>APL</th>\n",
       "      <th>AvgPktPerSec</th>\n",
       "      <th>IAT</th>\n",
       "      <th>NumForward</th>\n",
       "      <th>BytesEx</th>\n",
       "      <th>BitsPerSec</th>\n",
       "      <th>NumPackets</th>\n",
       "      <th>StdDevLen</th>\n",
       "      <th>Duration</th>\n",
       "      <th>IOPR</th>\n",
       "      <th>isBot</th>\n",
       "    </tr>\n",
       "  </thead>\n",
       "  <tbody>\n",
       "    <tr>\n",
       "      <th>count</th>\n",
       "      <td>309187.000000</td>\n",
       "      <td>3.091870e+05</td>\n",
       "      <td>3.091870e+05</td>\n",
       "      <td>309187.000000</td>\n",
       "      <td>3.091870e+05</td>\n",
       "      <td>3.091870e+05</td>\n",
       "      <td>309187.000000</td>\n",
       "      <td>309187.000000</td>\n",
       "      <td>3.091870e+05</td>\n",
       "      <td>309187.000000</td>\n",
       "      <td>309187.000000</td>\n",
       "    </tr>\n",
       "    <tr>\n",
       "      <th>mean</th>\n",
       "      <td>56.756410</td>\n",
       "      <td>1.811844e+04</td>\n",
       "      <td>-4.119085e+07</td>\n",
       "      <td>9.093312</td>\n",
       "      <td>5.828903e+03</td>\n",
       "      <td>6.099850e+05</td>\n",
       "      <td>15.842497</td>\n",
       "      <td>19.468980</td>\n",
       "      <td>1.599731e+07</td>\n",
       "      <td>0.651805</td>\n",
       "      <td>0.625321</td>\n",
       "    </tr>\n",
       "    <tr>\n",
       "      <th>std</th>\n",
       "      <td>133.963459</td>\n",
       "      <td>9.937677e+04</td>\n",
       "      <td>4.061827e+09</td>\n",
       "      <td>436.040674</td>\n",
       "      <td>3.991983e+05</td>\n",
       "      <td>1.063099e+07</td>\n",
       "      <td>648.409639</td>\n",
       "      <td>72.480734</td>\n",
       "      <td>3.426382e+07</td>\n",
       "      <td>0.676882</td>\n",
       "      <td>0.484041</td>\n",
       "    </tr>\n",
       "    <tr>\n",
       "      <th>min</th>\n",
       "      <td>0.000000</td>\n",
       "      <td>-2.800050e+00</td>\n",
       "      <td>-1.820000e+12</td>\n",
       "      <td>1.000000</td>\n",
       "      <td>0.000000e+00</td>\n",
       "      <td>-2.479040e+04</td>\n",
       "      <td>2.000000</td>\n",
       "      <td>0.000000</td>\n",
       "      <td>-7.947514e+08</td>\n",
       "      <td>0.000000</td>\n",
       "      <td>0.000000</td>\n",
       "    </tr>\n",
       "    <tr>\n",
       "      <th>25%</th>\n",
       "      <td>0.000000</td>\n",
       "      <td>6.657120e-01</td>\n",
       "      <td>3.204250e+03</td>\n",
       "      <td>1.000000</td>\n",
       "      <td>0.000000e+00</td>\n",
       "      <td>0.000000e+00</td>\n",
       "      <td>2.000000</td>\n",
       "      <td>0.000000</td>\n",
       "      <td>4.000000e+03</td>\n",
       "      <td>0.000000</td>\n",
       "      <td>0.000000</td>\n",
       "    </tr>\n",
       "    <tr>\n",
       "      <th>50%</th>\n",
       "      <td>13.600000</td>\n",
       "      <td>1.434940e+01</td>\n",
       "      <td>1.001330e+05</td>\n",
       "      <td>3.000000</td>\n",
       "      <td>6.000000e+01</td>\n",
       "      <td>3.600510e+01</td>\n",
       "      <td>3.000000</td>\n",
       "      <td>0.000000</td>\n",
       "      <td>3.211740e+05</td>\n",
       "      <td>0.764706</td>\n",
       "      <td>1.000000</td>\n",
       "    </tr>\n",
       "    <tr>\n",
       "      <th>75%</th>\n",
       "      <td>52.000000</td>\n",
       "      <td>5.000000e+02</td>\n",
       "      <td>1.802610e+06</td>\n",
       "      <td>6.000000</td>\n",
       "      <td>1.810000e+02</td>\n",
       "      <td>1.612905e+04</td>\n",
       "      <td>8.000000</td>\n",
       "      <td>0.000000</td>\n",
       "      <td>9.000888e+06</td>\n",
       "      <td>1.000000</td>\n",
       "      <td>1.000000</td>\n",
       "    </tr>\n",
       "    <tr>\n",
       "      <th>max</th>\n",
       "      <td>2199.540000</td>\n",
       "      <td>2.000000e+06</td>\n",
       "      <td>1.200000e+08</td>\n",
       "      <td>178670.000000</td>\n",
       "      <td>1.420908e+08</td>\n",
       "      <td>1.440000e+09</td>\n",
       "      <td>203772.000000</td>\n",
       "      <td>3451.770000</td>\n",
       "      <td>1.200000e+08</td>\n",
       "      <td>115.000000</td>\n",
       "      <td>1.000000</td>\n",
       "    </tr>\n",
       "  </tbody>\n",
       "</table>\n",
       "</div>"
      ],
      "text/plain": [
       "                 APL  AvgPktPerSec           IAT     NumForward       BytesEx  \\\n",
       "count  309187.000000  3.091870e+05  3.091870e+05  309187.000000  3.091870e+05   \n",
       "mean       56.756410  1.811844e+04 -4.119085e+07       9.093312  5.828903e+03   \n",
       "std       133.963459  9.937677e+04  4.061827e+09     436.040674  3.991983e+05   \n",
       "min         0.000000 -2.800050e+00 -1.820000e+12       1.000000  0.000000e+00   \n",
       "25%         0.000000  6.657120e-01  3.204250e+03       1.000000  0.000000e+00   \n",
       "50%        13.600000  1.434940e+01  1.001330e+05       3.000000  6.000000e+01   \n",
       "75%        52.000000  5.000000e+02  1.802610e+06       6.000000  1.810000e+02   \n",
       "max      2199.540000  2.000000e+06  1.200000e+08  178670.000000  1.420908e+08   \n",
       "\n",
       "         BitsPerSec     NumPackets      StdDevLen      Duration  \\\n",
       "count  3.091870e+05  309187.000000  309187.000000  3.091870e+05   \n",
       "mean   6.099850e+05      15.842497      19.468980  1.599731e+07   \n",
       "std    1.063099e+07     648.409639      72.480734  3.426382e+07   \n",
       "min   -2.479040e+04       2.000000       0.000000 -7.947514e+08   \n",
       "25%    0.000000e+00       2.000000       0.000000  4.000000e+03   \n",
       "50%    3.600510e+01       3.000000       0.000000  3.211740e+05   \n",
       "75%    1.612905e+04       8.000000       0.000000  9.000888e+06   \n",
       "max    1.440000e+09  203772.000000    3451.770000  1.200000e+08   \n",
       "\n",
       "                IOPR          isBot  \n",
       "count  309187.000000  309187.000000  \n",
       "mean        0.651805       0.625321  \n",
       "std         0.676882       0.484041  \n",
       "min         0.000000       0.000000  \n",
       "25%         0.000000       0.000000  \n",
       "50%         0.764706       1.000000  \n",
       "75%         1.000000       1.000000  \n",
       "max       115.000000       1.000000  "
      ]
     },
     "execution_count": 17,
     "metadata": {},
     "output_type": "execute_result"
    }
   ],
   "source": [
    "dataset1 = pd.read_csv('/home/test-machine/testing.csv')\n",
    "dataset1.describe()"
   ]
  },
  {
   "cell_type": "code",
   "execution_count": 18,
   "metadata": {},
   "outputs": [],
   "source": [
    "features11 = dataset1[['APL','AvgPktPerSec','IAT','NumForward','BytesEx','BitsPerSec','NumPackets','StdDevLen','Duration','IOPR']]\n",
    "labels11 = np.asarray(dataset1.isBot)\n",
    "le1 = LabelEncoder()\n",
    "\n",
    "le1.fit(labels11)\n",
    "\n",
    "# apply encoding to labels\n",
    "labels11 = le.transform(labels11)"
   ]
  },
  {
   "cell_type": "code",
   "execution_count": 19,
   "metadata": {},
   "outputs": [
    {
     "data": {
      "text/plain": [
       "(309187,)"
      ]
     },
     "execution_count": 19,
     "metadata": {},
     "output_type": "execute_result"
    }
   ],
   "source": [
    "labels11.shape"
   ]
  },
  {
   "cell_type": "code",
   "execution_count": 20,
   "metadata": {},
   "outputs": [
    {
     "name": "stdout",
     "output_type": "stream",
     "text": [
      "end-time  1527629159.0367293\n",
      "start_timee  1527629158.421575\n",
      "end-time - start_time  1.989586452074058e-06\n"
     ]
    }
   ],
   "source": [
    "import time\n",
    "start_time = time.time()\n",
    "final_labels11 = clf1.predict(features11)\n",
    "end_time = time.time()\n",
    "print ('end-time ',end_time)\n",
    "print ('start_timee ',start_time)\n",
    "print ('end-time - start_time ',(end_time - start_time)/309187)"
   ]
  },
  {
   "cell_type": "code",
   "execution_count": 21,
   "metadata": {},
   "outputs": [
    {
     "name": "stdout",
     "output_type": "stream",
     "text": [
      "end-time  1527629161.1170826\n",
      "start_timee  1527629160.5101435\n",
      "end-time - start_time  1.963016159726377e-06\n"
     ]
    }
   ],
   "source": [
    "start_time = time.time()\n",
    "final_labels21 = clf2.predict(features11)\n",
    "end_time = time.time()\n",
    "print ('end-time ',end_time)\n",
    "print ('start_timee ',start_time)\n",
    "print ('end-time - start_time ',(end_time - start_time)/309187)"
   ]
  },
  {
   "cell_type": "code",
   "execution_count": 22,
   "metadata": {},
   "outputs": [
    {
     "name": "stdout",
     "output_type": "stream",
     "text": [
      "end-time  1527629164.9565518\n",
      "start_timee  1527629164.3674662\n",
      "end-time - start_time  1.905272792576845e-06\n"
     ]
    }
   ],
   "source": [
    "start_time = time.time()\n",
    "final_labels31 = clf3.predict(features11)\n",
    "end_time = time.time()\n",
    "print ('end-time ',end_time)\n",
    "print ('start_timee ',start_time)\n",
    "print ('end-time - start_time ',(end_time - start_time)/309187)"
   ]
  },
  {
   "cell_type": "code",
   "execution_count": 23,
   "metadata": {},
   "outputs": [
    {
     "name": "stdout",
     "output_type": "stream",
     "text": [
      "end-time  1527629166.5280023\n",
      "start_timee  1527629165.9181857\n",
      "end-time - start_time  1.972322740634296e-06\n"
     ]
    }
   ],
   "source": [
    "start_time = time.time()\n",
    "final_labels41 = clf4.predict(features11)\n",
    "end_time = time.time()\n",
    "print ('end-time ',end_time)\n",
    "print ('start_timee ',start_time)\n",
    "print ('end-time - start_time ',(end_time - start_time)/309187)"
   ]
  },
  {
   "cell_type": "code",
   "execution_count": 24,
   "metadata": {},
   "outputs": [
    {
     "name": "stdout",
     "output_type": "stream",
     "text": [
      "end-time  1527629169.4755735\n",
      "start_timee  1527629168.8497925\n",
      "end-time - start_time  2.0239565675954575e-06\n"
     ]
    }
   ],
   "source": [
    "start_time = time.time()\n",
    "final_labels51 = clf5.predict(features11)\n",
    "end_time = time.time()\n",
    "print ('end-time ',end_time)\n",
    "print ('start_timee ',start_time)\n",
    "print ('end-time - start_time ',(end_time - start_time)/309187)"
   ]
  },
  {
   "cell_type": "code",
   "execution_count": 25,
   "metadata": {},
   "outputs": [],
   "source": [
    "final_labelss = []\n",
    "final_labelss.append(final_labels11)\n",
    "final_labelss.append(final_labels21)\n",
    "final_labelss.append(final_labels31)\n",
    "final_labelss.append(final_labels41)\n",
    "final_labelss.append(final_labels51)"
   ]
  },
  {
   "cell_type": "code",
   "execution_count": 26,
   "metadata": {},
   "outputs": [],
   "source": [
    "final = []\n",
    "for i in range(len(labels11)):\n",
    "    count = 0\n",
    "    for j in range(5):\n",
    "        if final_labelss[j][i] ==1:\n",
    "            count += 1\n",
    "    if count>2:\n",
    "        final.append(1)\n",
    "    else:\n",
    "        final.append(0)"
   ]
  },
  {
   "cell_type": "code",
   "execution_count": 27,
   "metadata": {},
   "outputs": [
    {
     "data": {
      "text/plain": [
       "array([[ 80852,  34994],\n",
       "       [106870,  86471]])"
      ]
     },
     "execution_count": 27,
     "metadata": {},
     "output_type": "execute_result"
    }
   ],
   "source": [
    "from sklearn.metrics import confusion_matrix\n",
    "confusion_matrix(labels11, final)"
   ]
  },
  {
   "cell_type": "code",
   "execution_count": 28,
   "metadata": {},
   "outputs": [
    {
     "name": "stdout",
     "output_type": "stream",
     "text": [
      "             precision    recall  f1-score   support\n",
      "\n",
      "          0       0.43      0.70      0.53    115846\n",
      "          1       0.71      0.45      0.55    193341\n",
      "\n",
      "avg / total       0.61      0.54      0.54    309187\n",
      "\n"
     ]
    }
   ],
   "source": [
    "from sklearn.metrics import classification_report\n",
    "print (classification_report(labels11,final))"
   ]
  },
  {
   "cell_type": "code",
   "execution_count": 29,
   "metadata": {},
   "outputs": [
    {
     "name": "stdout",
     "output_type": "stream",
     "text": [
      "0.5411708771714205\n"
     ]
    }
   ],
   "source": [
    "from sklearn.metrics import accuracy_score\n",
    "print (accuracy_score(labels11,final))"
   ]
  },
  {
   "cell_type": "code",
   "execution_count": null,
   "metadata": {},
   "outputs": [],
   "source": []
  }
 ],
 "metadata": {
  "kernelspec": {
   "display_name": "Python 3",
   "language": "python",
   "name": "python3"
  },
  "language_info": {
   "codemirror_mode": {
    "name": "ipython",
    "version": 3
   },
   "file_extension": ".py",
   "mimetype": "text/x-python",
   "name": "python",
   "nbconvert_exporter": "python",
   "pygments_lexer": "ipython3",
   "version": "3.6.5"
  }
 },
 "nbformat": 4,
 "nbformat_minor": 2
}
