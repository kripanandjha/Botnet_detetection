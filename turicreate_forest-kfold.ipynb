{
 "cells": [
  {
   "cell_type": "code",
   "execution_count": 2,
   "metadata": {},
   "outputs": [
    {
     "name": "stderr",
     "output_type": "stream",
     "text": [
      "/usr/local/lib/python3.6/dist-packages/tensorflow/python/framework/ops.py:875: DeprecationWarning: builtin type EagerTensor has no __module__ attribute\n",
      "  EagerTensor = c_api.TFE_Py_InitEagerTensor(_EagerTensorBase)\n",
      "/usr/local/lib/python3.6/dist-packages/tensorflow/python/util/tf_inspect.py:45: DeprecationWarning: inspect.getargspec() is deprecated, use inspect.signature() or inspect.getfullargspec()\n",
      "  if d.decorator_argspec is not None), _inspect.getargspec(target))\n"
     ]
    }
   ],
   "source": [
    "import turicreate as gl\n",
    "import tensorflow as tf\n",
    "import matplotlib.pyplot as plt\n",
    "from turicreate_cross_validation.cross_validation import shuffle_sframe, StratifiedKFold, cross_val_score"
   ]
  },
  {
   "cell_type": "code",
   "execution_count": 3,
   "metadata": {},
   "outputs": [
    {
     "name": "stdout",
     "output_type": "stream",
     "text": [
      "Done reading\n"
     ]
    },
    {
     "data": {
      "text/plain": [
       "<bound method SFrame.head of Columns:\n",
       "\tAPL\tfloat\n",
       "\tAvgPktPerSec\tfloat\n",
       "\tIAT\tfloat\n",
       "\tNumForward\tint\n",
       "\tBytesEx\tint\n",
       "\tBitsPerSec\tfloat\n",
       "\tNumPackets\tint\n",
       "\tStdDevLen\tfloat\n",
       "\tDuration\tint\n",
       "\tIOPR\tfloat\n",
       "\tisBot\tint\n",
       "\n",
       "Rows: 356156\n",
       "\n",
       "Data:\n",
       "+---------+--------------+------------+------------+---------+------------+------------+\n",
       "|   APL   | AvgPktPerSec |    IAT     | NumForward | BytesEx | BitsPerSec | NumPackets |\n",
       "+---------+--------------+------------+------------+---------+------------+------------+\n",
       "|   0.0   |   0.673102   | 1782790.0  |     6      |    0    |    0.0     |     6      |\n",
       "|   0.0   |   0.124399   | 16100000.0 |     2      |    0    |    0.0     |     2      |\n",
       "|   0.0   |  0.0208823   | 95800000.0 |     2      |    0    |    0.0     |     2      |\n",
       "| 119.714 |   80.6889    |  14458.8   |     4      |   838   |  77276.9   |     7      |\n",
       "|   0.0   |   11111.1    |   180.0    |     2      |    0    |    0.0     |     2      |\n",
       "|   0.0   |   0.665698   | 1802620.0  |     6      |    0    |    0.0     |     6      |\n",
       "|   0.0   |   21052.6    |    95.0    |     1      |    0    |    0.0     |     2      |\n",
       "| 683.211 |    8.5914    |  122862.0  |     7      |  12981  |  46957.9   |     19     |\n",
       "| 897.043 |   10.5363    |  95021.6   |    295     |  764281 |  75612.1   |    852     |\n",
       "| 652.208 |   1.38086    |  755673.0  |     10     |  15653  |  7204.86   |     24     |\n",
       "+---------+--------------+------------+------------+---------+------------+------------+\n",
       "+-----------+----------+---------+-------+\n",
       "| StdDevLen | Duration |   IOPR  | isBot |\n",
       "+-----------+----------+---------+-------+\n",
       "|    0.0    | 8913955  |   0.0   |   1   |\n",
       "|    0.0    | 16077310 |   0.0   |   1   |\n",
       "|    0.0    | 95774697 |   0.0   |   0   |\n",
       "|    49.5   |  86753   |   0.75  |   1   |\n",
       "|    0.0    |   180    |   0.0   |   1   |\n",
       "|    0.0    | 9013099  |   0.0   |   1   |\n",
       "|    0.0    |    95    |   1.0   |   1   |\n",
       "|  54.0489  | 2211514  | 1.71429 |   0   |\n",
       "|  14.2911  | 80863403 | 1.88814 |   1   |\n",
       "|  12.0167  | 17380479 |   1.4   |   1   |\n",
       "+-----------+----------+---------+-------+\n",
       "[356156 rows x 11 columns]\n",
       "Note: Only the head of the SFrame is printed.\n",
       "You can use print_rows(num_rows=m, num_columns=n) to print more rows and columns.>"
      ]
     },
     "execution_count": 3,
     "metadata": {},
     "output_type": "execute_result"
    }
   ],
   "source": [
    "SF = gl.SFrame.read_csv('/home/test-machine/training.csv',verbose=False)\n",
    "print (\"Done reading\")\n",
    "SF.head"
   ]
  },
  {
   "cell_type": "code",
   "execution_count": 4,
   "metadata": {},
   "outputs": [
    {
     "data": {
      "text/plain": [
       "(356156, 11)"
      ]
     },
     "execution_count": 4,
     "metadata": {},
     "output_type": "execute_result"
    }
   ],
   "source": [
    "SF.shape"
   ]
  },
  {
   "cell_type": "code",
   "execution_count": 5,
   "metadata": {},
   "outputs": [
    {
     "data": {
      "text/html": [
       "<pre>Random forest classifier:</pre>"
      ],
      "text/plain": [
       "Random forest classifier:"
      ]
     },
     "metadata": {},
     "output_type": "display_data"
    },
    {
     "data": {
      "text/html": [
       "<pre>--------------------------------------------------------</pre>"
      ],
      "text/plain": [
       "--------------------------------------------------------"
      ]
     },
     "metadata": {},
     "output_type": "display_data"
    },
    {
     "data": {
      "text/html": [
       "<pre>Number of examples          : 284924</pre>"
      ],
      "text/plain": [
       "Number of examples          : 284924"
      ]
     },
     "metadata": {},
     "output_type": "display_data"
    },
    {
     "data": {
      "text/html": [
       "<pre>Number of classes           : 2</pre>"
      ],
      "text/plain": [
       "Number of classes           : 2"
      ]
     },
     "metadata": {},
     "output_type": "display_data"
    },
    {
     "data": {
      "text/html": [
       "<pre>Number of feature columns   : 10</pre>"
      ],
      "text/plain": [
       "Number of feature columns   : 10"
      ]
     },
     "metadata": {},
     "output_type": "display_data"
    },
    {
     "data": {
      "text/html": [
       "<pre>Number of unpacked features : 10</pre>"
      ],
      "text/plain": [
       "Number of unpacked features : 10"
      ]
     },
     "metadata": {},
     "output_type": "display_data"
    },
    {
     "data": {
      "text/html": [
       "<pre>+-----------+--------------+-------------------+---------------------+-------------------+---------------------+</pre>"
      ],
      "text/plain": [
       "+-----------+--------------+-------------------+---------------------+-------------------+---------------------+"
      ]
     },
     "metadata": {},
     "output_type": "display_data"
    },
    {
     "data": {
      "text/html": [
       "<pre>| Iteration | Elapsed Time | Training-accuracy | Validation-accuracy | Training-log_loss | Validation-log_loss |</pre>"
      ],
      "text/plain": [
       "| Iteration | Elapsed Time | Training-accuracy | Validation-accuracy | Training-log_loss | Validation-log_loss |"
      ]
     },
     "metadata": {},
     "output_type": "display_data"
    },
    {
     "data": {
      "text/html": [
       "<pre>+-----------+--------------+-------------------+---------------------+-------------------+---------------------+</pre>"
      ],
      "text/plain": [
       "+-----------+--------------+-------------------+---------------------+-------------------+---------------------+"
      ]
     },
     "metadata": {},
     "output_type": "display_data"
    },
    {
     "data": {
      "text/html": [
       "<pre>| 1         | 0.360285     | 0.725274          | 0.726822            | 0.513831          | 0.512566            |</pre>"
      ],
      "text/plain": [
       "| 1         | 0.360285     | 0.725274          | 0.726822            | 0.513831          | 0.512566            |"
      ]
     },
     "metadata": {},
     "output_type": "display_data"
    },
    {
     "data": {
      "text/html": [
       "<pre>| 2         | 0.659763     | 0.736684          | 0.736804            | 0.507824          | 0.506898            |</pre>"
      ],
      "text/plain": [
       "| 2         | 0.659763     | 0.736684          | 0.736804            | 0.507824          | 0.506898            |"
      ]
     },
     "metadata": {},
     "output_type": "display_data"
    },
    {
     "data": {
      "text/html": [
       "<pre>| 3         | 0.979515     | 0.738962          | 0.739710            | 0.504583          | 0.503552            |</pre>"
      ],
      "text/plain": [
       "| 3         | 0.979515     | 0.738962          | 0.739710            | 0.504583          | 0.503552            |"
      ]
     },
     "metadata": {},
     "output_type": "display_data"
    },
    {
     "data": {
      "text/html": [
       "<pre>| 4         | 1.284494     | 0.737965          | 0.738811            | 0.504317          | 0.503096            |</pre>"
      ],
      "text/plain": [
       "| 4         | 1.284494     | 0.737965          | 0.738811            | 0.504317          | 0.503096            |"
      ]
     },
     "metadata": {},
     "output_type": "display_data"
    },
    {
     "data": {
      "text/html": [
       "<pre>| 5         | 1.578532     | 0.739990          | 0.740636            | 0.504598          | 0.503414            |</pre>"
      ],
      "text/plain": [
       "| 5         | 1.578532     | 0.739990          | 0.740636            | 0.504598          | 0.503414            |"
      ]
     },
     "metadata": {},
     "output_type": "display_data"
    },
    {
     "data": {
      "text/html": [
       "<pre>| 6         | 1.898912     | 0.739018          | 0.739906            | 0.504816          | 0.503656            |</pre>"
      ],
      "text/plain": [
       "| 6         | 1.898912     | 0.739018          | 0.739906            | 0.504816          | 0.503656            |"
      ]
     },
     "metadata": {},
     "output_type": "display_data"
    },
    {
     "data": {
      "text/html": [
       "<pre>| 10        | 3.151118     | 0.738155          | 0.739443            | 0.502850          | 0.501646            |</pre>"
      ],
      "text/plain": [
       "| 10        | 3.151118     | 0.738155          | 0.739443            | 0.502850          | 0.501646            |"
      ]
     },
     "metadata": {},
     "output_type": "display_data"
    },
    {
     "data": {
      "text/html": [
       "<pre>| 11        | 3.462631     | 0.739615          | 0.741450            | 0.502703          | 0.501503            |</pre>"
      ],
      "text/plain": [
       "| 11        | 3.462631     | 0.739615          | 0.741450            | 0.502703          | 0.501503            |"
      ]
     },
     "metadata": {},
     "output_type": "display_data"
    },
    {
     "data": {
      "text/html": [
       "<pre>| 15        | 4.646393     | 0.741054          | 0.742223            | 0.502040          | 0.500835            |</pre>"
      ],
      "text/plain": [
       "| 15        | 4.646393     | 0.741054          | 0.742223            | 0.502040          | 0.500835            |"
      ]
     },
     "metadata": {},
     "output_type": "display_data"
    },
    {
     "data": {
      "text/html": [
       "<pre>| 20        | 6.114288     | 0.745771          | 0.747838            | 0.502145          | 0.500927            |</pre>"
      ],
      "text/plain": [
       "| 20        | 6.114288     | 0.745771          | 0.747838            | 0.502145          | 0.500927            |"
      ]
     },
     "metadata": {},
     "output_type": "display_data"
    },
    {
     "data": {
      "text/html": [
       "<pre>| 25        | 7.830255     | 0.740805          | 0.742054            | 0.502403          | 0.501148            |</pre>"
      ],
      "text/plain": [
       "| 25        | 7.830255     | 0.740805          | 0.742054            | 0.502403          | 0.501148            |"
      ]
     },
     "metadata": {},
     "output_type": "display_data"
    },
    {
     "data": {
      "text/html": [
       "<pre>| 30        | 9.585666     | 0.741099          | 0.742840            | 0.501733          | 0.500458            |</pre>"
      ],
      "text/plain": [
       "| 30        | 9.585666     | 0.741099          | 0.742840            | 0.501733          | 0.500458            |"
      ]
     },
     "metadata": {},
     "output_type": "display_data"
    },
    {
     "data": {
      "text/html": [
       "<pre>| 35        | 11.100726    | 0.740359          | 0.741872            | 0.501907          | 0.500574            |</pre>"
      ],
      "text/plain": [
       "| 35        | 11.100726    | 0.740359          | 0.741872            | 0.501907          | 0.500574            |"
      ]
     },
     "metadata": {},
     "output_type": "display_data"
    },
    {
     "data": {
      "text/html": [
       "<pre>| 40        | 12.857972    | 0.744936          | 0.746603            | 0.501697          | 0.500337            |</pre>"
      ],
      "text/plain": [
       "| 40        | 12.857972    | 0.744936          | 0.746603            | 0.501697          | 0.500337            |"
      ]
     },
     "metadata": {},
     "output_type": "display_data"
    },
    {
     "data": {
      "text/html": [
       "<pre>| 45        | 14.369822    | 0.742359          | 0.743458            | 0.502231          | 0.500852            |</pre>"
      ],
      "text/plain": [
       "| 45        | 14.369822    | 0.742359          | 0.743458            | 0.502231          | 0.500852            |"
      ]
     },
     "metadata": {},
     "output_type": "display_data"
    },
    {
     "data": {
      "text/html": [
       "<pre>| 50        | 16.295446    | 0.745985          | 0.746926            | 0.502438          | 0.501048            |</pre>"
      ],
      "text/plain": [
       "| 50        | 16.295446    | 0.745985          | 0.746926            | 0.502438          | 0.501048            |"
      ]
     },
     "metadata": {},
     "output_type": "display_data"
    },
    {
     "data": {
      "text/html": [
       "<pre>| 51        | 16.589186    | 0.743956          | 0.745353            | 0.502221          | 0.500841            |</pre>"
      ],
      "text/plain": [
       "| 51        | 16.589186    | 0.743956          | 0.745353            | 0.502221          | 0.500841            |"
      ]
     },
     "metadata": {},
     "output_type": "display_data"
    },
    {
     "data": {
      "text/html": [
       "<pre>| 55        | 17.757266    | 0.742100          | 0.743865            | 0.502273          | 0.500906            |</pre>"
      ],
      "text/plain": [
       "| 55        | 17.757266    | 0.742100          | 0.743865            | 0.502273          | 0.500906            |"
      ]
     },
     "metadata": {},
     "output_type": "display_data"
    },
    {
     "data": {
      "text/html": [
       "<pre>| 60        | 19.230242    | 0.742489          | 0.744160            | 0.502261          | 0.500877            |</pre>"
      ],
      "text/plain": [
       "| 60        | 19.230242    | 0.742489          | 0.744160            | 0.502261          | 0.500877            |"
      ]
     },
     "metadata": {},
     "output_type": "display_data"
    },
    {
     "data": {
      "text/html": [
       "<pre>| 65        | 20.712555    | 0.742107          | 0.743669            | 0.502437          | 0.501046            |</pre>"
      ],
      "text/plain": [
       "| 65        | 20.712555    | 0.742107          | 0.743669            | 0.502437          | 0.501046            |"
      ]
     },
     "metadata": {},
     "output_type": "display_data"
    },
    {
     "data": {
      "text/html": [
       "<pre>| 70        | 22.212065    | 0.740854          | 0.742391            | 0.501923          | 0.500549            |</pre>"
      ],
      "text/plain": [
       "| 70        | 22.212065    | 0.740854          | 0.742391            | 0.501923          | 0.500549            |"
      ]
     },
     "metadata": {},
     "output_type": "display_data"
    },
    {
     "data": {
      "text/html": [
       "<pre>| 75        | 24.183476    | 0.741008          | 0.742826            | 0.501957          | 0.500599            |</pre>"
      ],
      "text/plain": [
       "| 75        | 24.183476    | 0.741008          | 0.742826            | 0.501957          | 0.500599            |"
      ]
     },
     "metadata": {},
     "output_type": "display_data"
    },
    {
     "data": {
      "text/html": [
       "<pre>| 80        | 26.163180    | 0.740798          | 0.742377            | 0.502321          | 0.500987            |</pre>"
      ],
      "text/plain": [
       "| 80        | 26.163180    | 0.740798          | 0.742377            | 0.502321          | 0.500987            |"
      ]
     },
     "metadata": {},
     "output_type": "display_data"
    },
    {
     "data": {
      "text/html": [
       "<pre>| 85        | 27.975465    | 0.740984          | 0.742517            | 0.502165          | 0.500834            |</pre>"
      ],
      "text/plain": [
       "| 85        | 27.975465    | 0.740984          | 0.742517            | 0.502165          | 0.500834            |"
      ]
     },
     "metadata": {},
     "output_type": "display_data"
    },
    {
     "data": {
      "text/html": [
       "<pre>| 90        | 29.678730    | 0.740590          | 0.742293            | 0.502309          | 0.500970            |</pre>"
      ],
      "text/plain": [
       "| 90        | 29.678730    | 0.740590          | 0.742293            | 0.502309          | 0.500970            |"
      ]
     },
     "metadata": {},
     "output_type": "display_data"
    },
    {
     "data": {
      "text/html": [
       "<pre>| 95        | 31.322963    | 0.740471          | 0.742251            | 0.502379          | 0.501037            |</pre>"
      ],
      "text/plain": [
       "| 95        | 31.322963    | 0.740471          | 0.742251            | 0.502379          | 0.501037            |"
      ]
     },
     "metadata": {},
     "output_type": "display_data"
    },
    {
     "data": {
      "text/html": [
       "<pre>| 100       | 32.886020    | 0.740443          | 0.742209            | 0.502331          | 0.500980            |</pre>"
      ],
      "text/plain": [
       "| 100       | 32.886020    | 0.740443          | 0.742209            | 0.502331          | 0.500980            |"
      ]
     },
     "metadata": {},
     "output_type": "display_data"
    },
    {
     "data": {
      "text/html": [
       "<pre>+-----------+--------------+-------------------+---------------------+-------------------+---------------------+</pre>"
      ],
      "text/plain": [
       "+-----------+--------------+-------------------+---------------------+-------------------+---------------------+"
      ]
     },
     "metadata": {},
     "output_type": "display_data"
    },
    {
     "name": "stdout",
     "output_type": "stream",
     "text": [
      "Done 0\n"
     ]
    },
    {
     "data": {
      "text/html": [
       "<pre>Random forest classifier:</pre>"
      ],
      "text/plain": [
       "Random forest classifier:"
      ]
     },
     "metadata": {},
     "output_type": "display_data"
    },
    {
     "data": {
      "text/html": [
       "<pre>--------------------------------------------------------</pre>"
      ],
      "text/plain": [
       "--------------------------------------------------------"
      ]
     },
     "metadata": {},
     "output_type": "display_data"
    },
    {
     "data": {
      "text/html": [
       "<pre>Number of examples          : 284925</pre>"
      ],
      "text/plain": [
       "Number of examples          : 284925"
      ]
     },
     "metadata": {},
     "output_type": "display_data"
    },
    {
     "data": {
      "text/html": [
       "<pre>Number of classes           : 2</pre>"
      ],
      "text/plain": [
       "Number of classes           : 2"
      ]
     },
     "metadata": {},
     "output_type": "display_data"
    },
    {
     "data": {
      "text/html": [
       "<pre>Number of feature columns   : 10</pre>"
      ],
      "text/plain": [
       "Number of feature columns   : 10"
      ]
     },
     "metadata": {},
     "output_type": "display_data"
    },
    {
     "data": {
      "text/html": [
       "<pre>Number of unpacked features : 10</pre>"
      ],
      "text/plain": [
       "Number of unpacked features : 10"
      ]
     },
     "metadata": {},
     "output_type": "display_data"
    },
    {
     "data": {
      "text/html": [
       "<pre>+-----------+--------------+-------------------+---------------------+-------------------+---------------------+</pre>"
      ],
      "text/plain": [
       "+-----------+--------------+-------------------+---------------------+-------------------+---------------------+"
      ]
     },
     "metadata": {},
     "output_type": "display_data"
    },
    {
     "data": {
      "text/html": [
       "<pre>| Iteration | Elapsed Time | Training-accuracy | Validation-accuracy | Training-log_loss | Validation-log_loss |</pre>"
      ],
      "text/plain": [
       "| Iteration | Elapsed Time | Training-accuracy | Validation-accuracy | Training-log_loss | Validation-log_loss |"
      ]
     },
     "metadata": {},
     "output_type": "display_data"
    },
    {
     "data": {
      "text/html": [
       "<pre>+-----------+--------------+-------------------+---------------------+-------------------+---------------------+</pre>"
      ],
      "text/plain": [
       "+-----------+--------------+-------------------+---------------------+-------------------+---------------------+"
      ]
     },
     "metadata": {},
     "output_type": "display_data"
    },
    {
     "data": {
      "text/html": [
       "<pre>| 1         | 0.296799     | 0.729613          | 0.730244            | 0.506084          | 0.505152            |</pre>"
      ],
      "text/plain": [
       "| 1         | 0.296799     | 0.729613          | 0.730244            | 0.506084          | 0.505152            |"
      ]
     },
     "metadata": {},
     "output_type": "display_data"
    },
    {
     "data": {
      "text/html": [
       "<pre>| 2         | 0.633562     | 0.733635          | 0.735059            | 0.512516          | 0.511499            |</pre>"
      ],
      "text/plain": [
       "| 2         | 0.633562     | 0.733635          | 0.735059            | 0.512516          | 0.511499            |"
      ]
     },
     "metadata": {},
     "output_type": "display_data"
    },
    {
     "data": {
      "text/html": [
       "<pre>| 3         | 0.918110     | 0.734786          | 0.736000            | 0.509927          | 0.508604            |</pre>"
      ],
      "text/plain": [
       "| 3         | 0.918110     | 0.734786          | 0.736000            | 0.509927          | 0.508604            |"
      ]
     },
     "metadata": {},
     "output_type": "display_data"
    },
    {
     "data": {
      "text/html": [
       "<pre>| 4         | 1.340815     | 0.740356          | 0.740534            | 0.506288          | 0.505069            |</pre>"
      ],
      "text/plain": [
       "| 4         | 1.340815     | 0.740356          | 0.740534            | 0.506288          | 0.505069            |"
      ]
     },
     "metadata": {},
     "output_type": "display_data"
    },
    {
     "data": {
      "text/html": [
       "<pre>| 5         | 1.643129     | 0.748744          | 0.748873            | 0.505289          | 0.504172            |</pre>"
      ],
      "text/plain": [
       "| 5         | 1.643129     | 0.748744          | 0.748873            | 0.505289          | 0.504172            |"
      ]
     },
     "metadata": {},
     "output_type": "display_data"
    },
    {
     "data": {
      "text/html": [
       "<pre>| 6         | 1.946509     | 0.747695          | 0.748424            | 0.505566          | 0.504535            |</pre>"
      ],
      "text/plain": [
       "| 6         | 1.946509     | 0.747695          | 0.748424            | 0.505566          | 0.504535            |"
      ]
     },
     "metadata": {},
     "output_type": "display_data"
    },
    {
     "data": {
      "text/html": [
       "<pre>| 10        | 3.284977     | 0.742831          | 0.742823            | 0.503817          | 0.502583            |</pre>"
      ],
      "text/plain": [
       "| 10        | 3.284977     | 0.742831          | 0.742823            | 0.503817          | 0.502583            |"
      ]
     },
     "metadata": {},
     "output_type": "display_data"
    },
    {
     "data": {
      "text/html": [
       "<pre>| 11        | 3.551753     | 0.742385          | 0.742837            | 0.503615          | 0.502361            |</pre>"
      ],
      "text/plain": [
       "| 11        | 3.551753     | 0.742385          | 0.742837            | 0.503615          | 0.502361            |"
      ]
     },
     "metadata": {},
     "output_type": "display_data"
    },
    {
     "data": {
      "text/html": [
       "<pre>| 15        | 4.797225     | 0.741206          | 0.742093            | 0.502335          | 0.500894            |</pre>"
      ],
      "text/plain": [
       "| 15        | 4.797225     | 0.741206          | 0.742093            | 0.502335          | 0.500894            |"
      ]
     },
     "metadata": {},
     "output_type": "display_data"
    },
    {
     "data": {
      "text/html": [
       "<pre>| 20        | 6.441993     | 0.742795          | 0.743412            | 0.502460          | 0.501073            |</pre>"
      ],
      "text/plain": [
       "| 20        | 6.441993     | 0.742795          | 0.743412            | 0.502460          | 0.501073            |"
      ]
     },
     "metadata": {},
     "output_type": "display_data"
    },
    {
     "data": {
      "text/html": [
       "<pre>| 25        | 8.125055     | 0.740500          | 0.741559            | 0.502841          | 0.501467            |</pre>"
      ],
      "text/plain": [
       "| 25        | 8.125055     | 0.740500          | 0.741559            | 0.502841          | 0.501467            |"
      ]
     },
     "metadata": {},
     "output_type": "display_data"
    },
    {
     "data": {
      "text/html": [
       "<pre>| 30        | 9.685364     | 0.740935          | 0.741629            | 0.502972          | 0.501635            |</pre>"
      ],
      "text/plain": [
       "| 30        | 9.685364     | 0.740935          | 0.741629            | 0.502972          | 0.501635            |"
      ]
     },
     "metadata": {},
     "output_type": "display_data"
    },
    {
     "data": {
      "text/html": [
       "<pre>| 35        | 11.317987    | 0.740704          | 0.741391            | 0.502519          | 0.501160            |</pre>"
      ],
      "text/plain": [
       "| 35        | 11.317987    | 0.740704          | 0.741391            | 0.502519          | 0.501160            |"
      ]
     },
     "metadata": {},
     "output_type": "display_data"
    },
    {
     "data": {
      "text/html": [
       "<pre>| 40        | 12.793463    | 0.740704          | 0.741517            | 0.502209          | 0.500787            |</pre>"
      ],
      "text/plain": [
       "| 40        | 12.793463    | 0.740704          | 0.741517            | 0.502209          | 0.500787            |"
      ]
     },
     "metadata": {},
     "output_type": "display_data"
    },
    {
     "data": {
      "text/html": [
       "<pre>| 45        | 14.436577    | 0.740669          | 0.741405            | 0.502610          | 0.501170            |</pre>"
      ],
      "text/plain": [
       "| 45        | 14.436577    | 0.740669          | 0.741405            | 0.502610          | 0.501170            |"
      ]
     },
     "metadata": {},
     "output_type": "display_data"
    },
    {
     "data": {
      "text/html": [
       "<pre>| 50        | 16.031972    | 0.740658          | 0.741419            | 0.502596          | 0.501201            |</pre>"
      ],
      "text/plain": [
       "| 50        | 16.031972    | 0.740658          | 0.741419            | 0.502596          | 0.501201            |"
      ]
     },
     "metadata": {},
     "output_type": "display_data"
    },
    {
     "data": {
      "text/html": [
       "<pre>| 51        | 16.334118    | 0.740806          | 0.741517            | 0.502692          | 0.501319            |</pre>"
      ],
      "text/plain": [
       "| 51        | 16.334118    | 0.740806          | 0.741517            | 0.502692          | 0.501319            |"
      ]
     },
     "metadata": {},
     "output_type": "display_data"
    },
    {
     "data": {
      "text/html": [
       "<pre>| 55        | 17.506706    | 0.740423          | 0.741264            | 0.502509          | 0.501087            |</pre>"
      ],
      "text/plain": [
       "| 55        | 17.506706    | 0.740423          | 0.741264            | 0.502509          | 0.501087            |"
      ]
     },
     "metadata": {},
     "output_type": "display_data"
    },
    {
     "data": {
      "text/html": [
       "<pre>| 60        | 18.948369    | 0.740970          | 0.741882            | 0.502096          | 0.500714            |</pre>"
      ],
      "text/plain": [
       "| 60        | 18.948369    | 0.740970          | 0.741882            | 0.502096          | 0.500714            |"
      ]
     },
     "metadata": {},
     "output_type": "display_data"
    },
    {
     "data": {
      "text/html": [
       "<pre>| 65        | 20.496633    | 0.740784          | 0.741615            | 0.502124          | 0.500772            |</pre>"
      ],
      "text/plain": [
       "| 65        | 20.496633    | 0.740784          | 0.741615            | 0.502124          | 0.500772            |"
      ]
     },
     "metadata": {},
     "output_type": "display_data"
    },
    {
     "data": {
      "text/html": [
       "<pre>| 70        | 22.110979    | 0.740781          | 0.741405            | 0.502468          | 0.501106            |</pre>"
      ],
      "text/plain": [
       "| 70        | 22.110979    | 0.740781          | 0.741405            | 0.502468          | 0.501106            |"
      ]
     },
     "metadata": {},
     "output_type": "display_data"
    },
    {
     "data": {
      "text/html": [
       "<pre>| 75        | 23.754426    | 0.740735          | 0.741559            | 0.502204          | 0.500828            |</pre>"
      ],
      "text/plain": [
       "| 75        | 23.754426    | 0.740735          | 0.741559            | 0.502204          | 0.500828            |"
      ]
     },
     "metadata": {},
     "output_type": "display_data"
    },
    {
     "data": {
      "text/html": [
       "<pre>| 80        | 25.407383    | 0.740648          | 0.741461            | 0.502134          | 0.500759            |</pre>"
      ],
      "text/plain": [
       "| 80        | 25.407383    | 0.740648          | 0.741461            | 0.502134          | 0.500759            |"
      ]
     },
     "metadata": {},
     "output_type": "display_data"
    },
    {
     "data": {
      "text/html": [
       "<pre>| 85        | 26.955690    | 0.740834          | 0.741643            | 0.502290          | 0.500928            |</pre>"
      ],
      "text/plain": [
       "| 85        | 26.955690    | 0.740834          | 0.741643            | 0.502290          | 0.500928            |"
      ]
     },
     "metadata": {},
     "output_type": "display_data"
    },
    {
     "data": {
      "text/html": [
       "<pre>| 90        | 28.592383    | 0.740669          | 0.741419            | 0.502357          | 0.501023            |</pre>"
      ],
      "text/plain": [
       "| 90        | 28.592383    | 0.740669          | 0.741419            | 0.502357          | 0.501023            |"
      ]
     },
     "metadata": {},
     "output_type": "display_data"
    },
    {
     "data": {
      "text/html": [
       "<pre>| 95        | 30.182272    | 0.740683          | 0.741433            | 0.502450          | 0.501117            |</pre>"
      ],
      "text/plain": [
       "| 95        | 30.182272    | 0.740683          | 0.741433            | 0.502450          | 0.501117            |"
      ]
     },
     "metadata": {},
     "output_type": "display_data"
    },
    {
     "data": {
      "text/html": [
       "<pre>| 100       | 31.829429    | 0.740753          | 0.741573            | 0.502546          | 0.501201            |</pre>"
      ],
      "text/plain": [
       "| 100       | 31.829429    | 0.740753          | 0.741573            | 0.502546          | 0.501201            |"
      ]
     },
     "metadata": {},
     "output_type": "display_data"
    },
    {
     "data": {
      "text/html": [
       "<pre>+-----------+--------------+-------------------+---------------------+-------------------+---------------------+</pre>"
      ],
      "text/plain": [
       "+-----------+--------------+-------------------+---------------------+-------------------+---------------------+"
      ]
     },
     "metadata": {},
     "output_type": "display_data"
    },
    {
     "name": "stdout",
     "output_type": "stream",
     "text": [
      "Done 1\n"
     ]
    },
    {
     "data": {
      "text/html": [
       "<pre>Random forest classifier:</pre>"
      ],
      "text/plain": [
       "Random forest classifier:"
      ]
     },
     "metadata": {},
     "output_type": "display_data"
    },
    {
     "data": {
      "text/html": [
       "<pre>--------------------------------------------------------</pre>"
      ],
      "text/plain": [
       "--------------------------------------------------------"
      ]
     },
     "metadata": {},
     "output_type": "display_data"
    },
    {
     "data": {
      "text/html": [
       "<pre>Number of examples          : 284925</pre>"
      ],
      "text/plain": [
       "Number of examples          : 284925"
      ]
     },
     "metadata": {},
     "output_type": "display_data"
    },
    {
     "data": {
      "text/html": [
       "<pre>Number of classes           : 2</pre>"
      ],
      "text/plain": [
       "Number of classes           : 2"
      ]
     },
     "metadata": {},
     "output_type": "display_data"
    },
    {
     "data": {
      "text/html": [
       "<pre>Number of feature columns   : 10</pre>"
      ],
      "text/plain": [
       "Number of feature columns   : 10"
      ]
     },
     "metadata": {},
     "output_type": "display_data"
    },
    {
     "data": {
      "text/html": [
       "<pre>Number of unpacked features : 10</pre>"
      ],
      "text/plain": [
       "Number of unpacked features : 10"
      ]
     },
     "metadata": {},
     "output_type": "display_data"
    },
    {
     "data": {
      "text/html": [
       "<pre>+-----------+--------------+-------------------+---------------------+-------------------+---------------------+</pre>"
      ],
      "text/plain": [
       "+-----------+--------------+-------------------+---------------------+-------------------+---------------------+"
      ]
     },
     "metadata": {},
     "output_type": "display_data"
    },
    {
     "data": {
      "text/html": [
       "<pre>| Iteration | Elapsed Time | Training-accuracy | Validation-accuracy | Training-log_loss | Validation-log_loss |</pre>"
      ],
      "text/plain": [
       "| Iteration | Elapsed Time | Training-accuracy | Validation-accuracy | Training-log_loss | Validation-log_loss |"
      ]
     },
     "metadata": {},
     "output_type": "display_data"
    },
    {
     "data": {
      "text/html": [
       "<pre>+-----------+--------------+-------------------+---------------------+-------------------+---------------------+</pre>"
      ],
      "text/plain": [
       "+-----------+--------------+-------------------+---------------------+-------------------+---------------------+"
      ]
     },
     "metadata": {},
     "output_type": "display_data"
    },
    {
     "data": {
      "text/html": [
       "<pre>| 1         | 0.370888     | 0.732014          | 0.728798            | 0.510990          | 0.513003            |</pre>"
      ],
      "text/plain": [
       "| 1         | 0.370888     | 0.732014          | 0.728798            | 0.510990          | 0.513003            |"
      ]
     },
     "metadata": {},
     "output_type": "display_data"
    },
    {
     "data": {
      "text/html": [
       "<pre>| 2         | 0.660264     | 0.745551          | 0.740941            | 0.507092          | 0.509787            |</pre>"
      ],
      "text/plain": [
       "| 2         | 0.660264     | 0.745551          | 0.740941            | 0.507092          | 0.509787            |"
      ]
     },
     "metadata": {},
     "output_type": "display_data"
    },
    {
     "data": {
      "text/html": [
       "<pre>| 3         | 0.987679     | 0.737699          | 0.734371            | 0.507895          | 0.510535            |</pre>"
      ],
      "text/plain": [
       "| 3         | 0.987679     | 0.737699          | 0.734371            | 0.507895          | 0.510535            |"
      ]
     },
     "metadata": {},
     "output_type": "display_data"
    },
    {
     "data": {
      "text/html": [
       "<pre>| 4         | 1.321752     | 0.740374          | 0.736898            | 0.507426          | 0.509941            |</pre>"
      ],
      "text/plain": [
       "| 4         | 1.321752     | 0.740374          | 0.736898            | 0.507426          | 0.509941            |"
      ]
     },
     "metadata": {},
     "output_type": "display_data"
    },
    {
     "data": {
      "text/html": [
       "<pre>| 5         | 1.636204     | 0.736699          | 0.733501            | 0.507183          | 0.509879            |</pre>"
      ],
      "text/plain": [
       "| 5         | 1.636204     | 0.736699          | 0.733501            | 0.507183          | 0.509879            |"
      ]
     },
     "metadata": {},
     "output_type": "display_data"
    },
    {
     "data": {
      "text/html": [
       "<pre>| 6         | 1.904078     | 0.739159          | 0.736140            | 0.507134          | 0.509985            |</pre>"
      ],
      "text/plain": [
       "| 6         | 1.904078     | 0.739159          | 0.736140            | 0.507134          | 0.509985            |"
      ]
     },
     "metadata": {},
     "output_type": "display_data"
    },
    {
     "data": {
      "text/html": [
       "<pre>| 10        | 3.138493     | 0.741736          | 0.738709            | 0.504282          | 0.507110            |</pre>"
      ],
      "text/plain": [
       "| 10        | 3.138493     | 0.741736          | 0.738709            | 0.504282          | 0.507110            |"
      ]
     },
     "metadata": {},
     "output_type": "display_data"
    },
    {
     "data": {
      "text/html": [
       "<pre>| 11        | 3.438084     | 0.741697          | 0.738443            | 0.504125          | 0.506947            |</pre>"
      ],
      "text/plain": [
       "| 11        | 3.438084     | 0.741697          | 0.738443            | 0.504125          | 0.506947            |"
      ]
     },
     "metadata": {},
     "output_type": "display_data"
    },
    {
     "data": {
      "text/html": [
       "<pre>| 15        | 4.600089     | 0.741743          | 0.738976            | 0.502743          | 0.505499            |</pre>"
      ],
      "text/plain": [
       "| 15        | 4.600089     | 0.741743          | 0.738976            | 0.502743          | 0.505499            |"
      ]
     },
     "metadata": {},
     "output_type": "display_data"
    },
    {
     "data": {
      "text/html": [
       "<pre>| 20        | 6.030135     | 0.741272          | 0.738204            | 0.503082          | 0.505902            |</pre>"
      ],
      "text/plain": [
       "| 20        | 6.030135     | 0.741272          | 0.738204            | 0.503082          | 0.505902            |"
      ]
     },
     "metadata": {},
     "output_type": "display_data"
    },
    {
     "data": {
      "text/html": [
       "<pre>| 25        | 7.487787     | 0.743862          | 0.740605            | 0.502526          | 0.505366            |</pre>"
      ],
      "text/plain": [
       "| 25        | 7.487787     | 0.743862          | 0.740605            | 0.502526          | 0.505366            |"
      ]
     },
     "metadata": {},
     "output_type": "display_data"
    },
    {
     "data": {
      "text/html": [
       "<pre>| 30        | 8.945673     | 0.744122          | 0.741096            | 0.501893          | 0.504772            |</pre>"
      ],
      "text/plain": [
       "| 30        | 8.945673     | 0.744122          | 0.741096            | 0.501893          | 0.504772            |"
      ]
     },
     "metadata": {},
     "output_type": "display_data"
    },
    {
     "data": {
      "text/html": [
       "<pre>| 35        | 10.417174    | 0.745143          | 0.741714            | 0.501621          | 0.504514            |</pre>"
      ],
      "text/plain": [
       "| 35        | 10.417174    | 0.745143          | 0.741714            | 0.501621          | 0.504514            |"
      ]
     },
     "metadata": {},
     "output_type": "display_data"
    },
    {
     "data": {
      "text/html": [
       "<pre>| 40        | 11.874054    | 0.745414          | 0.742065            | 0.501614          | 0.504493            |</pre>"
      ],
      "text/plain": [
       "| 40        | 11.874054    | 0.745414          | 0.742065            | 0.501614          | 0.504493            |"
      ]
     },
     "metadata": {},
     "output_type": "display_data"
    },
    {
     "data": {
      "text/html": [
       "<pre>| 45        | 13.285871    | 0.743526          | 0.739692            | 0.501727          | 0.504621            |</pre>"
      ],
      "text/plain": [
       "| 45        | 13.285871    | 0.743526          | 0.739692            | 0.501727          | 0.504621            |"
      ]
     },
     "metadata": {},
     "output_type": "display_data"
    },
    {
     "data": {
      "text/html": [
       "<pre>| 50        | 14.740043    | 0.743824          | 0.740127            | 0.501447          | 0.504300            |</pre>"
      ],
      "text/plain": [
       "| 50        | 14.740043    | 0.743824          | 0.740127            | 0.501447          | 0.504300            |"
      ]
     },
     "metadata": {},
     "output_type": "display_data"
    },
    {
     "data": {
      "text/html": [
       "<pre>| 51        | 15.024228    | 0.745530          | 0.742135            | 0.501151          | 0.503991            |</pre>"
      ],
      "text/plain": [
       "| 51        | 15.024228    | 0.745530          | 0.742135            | 0.501151          | 0.503991            |"
      ]
     },
     "metadata": {},
     "output_type": "display_data"
    },
    {
     "data": {
      "text/html": [
       "<pre>| 55        | 16.167206    | 0.745421          | 0.741854            | 0.500790          | 0.503586            |</pre>"
      ],
      "text/plain": [
       "| 55        | 16.167206    | 0.745421          | 0.741854            | 0.500790          | 0.503586            |"
      ]
     },
     "metadata": {},
     "output_type": "display_data"
    },
    {
     "data": {
      "text/html": [
       "<pre>| 60        | 17.625298    | 0.743343          | 0.739397            | 0.500735          | 0.503591            |</pre>"
      ],
      "text/plain": [
       "| 60        | 17.625298    | 0.743343          | 0.739397            | 0.500735          | 0.503591            |"
      ]
     },
     "metadata": {},
     "output_type": "display_data"
    },
    {
     "data": {
      "text/html": [
       "<pre>| 65        | 19.076436    | 0.745796          | 0.742177            | 0.500640          | 0.503456            |</pre>"
      ],
      "text/plain": [
       "| 65        | 19.076436    | 0.745796          | 0.742177            | 0.500640          | 0.503456            |"
      ]
     },
     "metadata": {},
     "output_type": "display_data"
    },
    {
     "data": {
      "text/html": [
       "<pre>| 70        | 20.530650    | 0.741837          | 0.738611            | 0.500491          | 0.503271            |</pre>"
      ],
      "text/plain": [
       "| 70        | 20.530650    | 0.741837          | 0.738611            | 0.500491          | 0.503271            |"
      ]
     },
     "metadata": {},
     "output_type": "display_data"
    },
    {
     "data": {
      "text/html": [
       "<pre>| 75        | 21.983959    | 0.741455          | 0.738597            | 0.500665          | 0.503452            |</pre>"
      ],
      "text/plain": [
       "| 75        | 21.983959    | 0.741455          | 0.738597            | 0.500665          | 0.503452            |"
      ]
     },
     "metadata": {},
     "output_type": "display_data"
    },
    {
     "data": {
      "text/html": [
       "<pre>| 80        | 23.429052    | 0.741371          | 0.738457            | 0.500448          | 0.503230            |</pre>"
      ],
      "text/plain": [
       "| 80        | 23.429052    | 0.741371          | 0.738457            | 0.500448          | 0.503230            |"
      ]
     },
     "metadata": {},
     "output_type": "display_data"
    },
    {
     "data": {
      "text/html": [
       "<pre>| 85        | 24.869616    | 0.741413          | 0.738457            | 0.500540          | 0.503312            |</pre>"
      ],
      "text/plain": [
       "| 85        | 24.869616    | 0.741413          | 0.738457            | 0.500540          | 0.503312            |"
      ]
     },
     "metadata": {},
     "output_type": "display_data"
    },
    {
     "data": {
      "text/html": [
       "<pre>| 90        | 26.321098    | 0.741342          | 0.738485            | 0.500678          | 0.503428            |</pre>"
      ],
      "text/plain": [
       "| 90        | 26.321098    | 0.741342          | 0.738485            | 0.500678          | 0.503428            |"
      ]
     },
     "metadata": {},
     "output_type": "display_data"
    },
    {
     "data": {
      "text/html": [
       "<pre>| 95        | 27.798060    | 0.741216          | 0.738288            | 0.500617          | 0.503365            |</pre>"
      ],
      "text/plain": [
       "| 95        | 27.798060    | 0.741216          | 0.738288            | 0.500617          | 0.503365            |"
      ]
     },
     "metadata": {},
     "output_type": "display_data"
    },
    {
     "data": {
      "text/html": [
       "<pre>| 100       | 29.266574    | 0.741353          | 0.738358            | 0.500772          | 0.503547            |</pre>"
      ],
      "text/plain": [
       "| 100       | 29.266574    | 0.741353          | 0.738358            | 0.500772          | 0.503547            |"
      ]
     },
     "metadata": {},
     "output_type": "display_data"
    },
    {
     "data": {
      "text/html": [
       "<pre>+-----------+--------------+-------------------+---------------------+-------------------+---------------------+</pre>"
      ],
      "text/plain": [
       "+-----------+--------------+-------------------+---------------------+-------------------+---------------------+"
      ]
     },
     "metadata": {},
     "output_type": "display_data"
    },
    {
     "name": "stdout",
     "output_type": "stream",
     "text": [
      "Done 2\n"
     ]
    },
    {
     "data": {
      "text/html": [
       "<pre>Random forest classifier:</pre>"
      ],
      "text/plain": [
       "Random forest classifier:"
      ]
     },
     "metadata": {},
     "output_type": "display_data"
    },
    {
     "data": {
      "text/html": [
       "<pre>--------------------------------------------------------</pre>"
      ],
      "text/plain": [
       "--------------------------------------------------------"
      ]
     },
     "metadata": {},
     "output_type": "display_data"
    },
    {
     "data": {
      "text/html": [
       "<pre>Number of examples          : 284925</pre>"
      ],
      "text/plain": [
       "Number of examples          : 284925"
      ]
     },
     "metadata": {},
     "output_type": "display_data"
    },
    {
     "data": {
      "text/html": [
       "<pre>Number of classes           : 2</pre>"
      ],
      "text/plain": [
       "Number of classes           : 2"
      ]
     },
     "metadata": {},
     "output_type": "display_data"
    },
    {
     "data": {
      "text/html": [
       "<pre>Number of feature columns   : 10</pre>"
      ],
      "text/plain": [
       "Number of feature columns   : 10"
      ]
     },
     "metadata": {},
     "output_type": "display_data"
    },
    {
     "data": {
      "text/html": [
       "<pre>Number of unpacked features : 10</pre>"
      ],
      "text/plain": [
       "Number of unpacked features : 10"
      ]
     },
     "metadata": {},
     "output_type": "display_data"
    },
    {
     "data": {
      "text/html": [
       "<pre>+-----------+--------------+-------------------+---------------------+-------------------+---------------------+</pre>"
      ],
      "text/plain": [
       "+-----------+--------------+-------------------+---------------------+-------------------+---------------------+"
      ]
     },
     "metadata": {},
     "output_type": "display_data"
    },
    {
     "data": {
      "text/html": [
       "<pre>| Iteration | Elapsed Time | Training-accuracy | Validation-accuracy | Training-log_loss | Validation-log_loss |</pre>"
      ],
      "text/plain": [
       "| Iteration | Elapsed Time | Training-accuracy | Validation-accuracy | Training-log_loss | Validation-log_loss |"
      ]
     },
     "metadata": {},
     "output_type": "display_data"
    },
    {
     "data": {
      "text/html": [
       "<pre>+-----------+--------------+-------------------+---------------------+-------------------+---------------------+</pre>"
      ],
      "text/plain": [
       "+-----------+--------------+-------------------+---------------------+-------------------+---------------------+"
      ]
     },
     "metadata": {},
     "output_type": "display_data"
    },
    {
     "data": {
      "text/html": [
       "<pre>| 1         | 0.327538     | 0.741574          | 0.741657            | 0.504646          | 0.504840            |</pre>"
      ],
      "text/plain": [
       "| 1         | 0.327538     | 0.741574          | 0.741657            | 0.504646          | 0.504840            |"
      ]
     },
     "metadata": {},
     "output_type": "display_data"
    },
    {
     "data": {
      "text/html": [
       "<pre>| 2         | 0.634337     | 0.746884          | 0.745701            | 0.497967          | 0.498071            |</pre>"
      ],
      "text/plain": [
       "| 2         | 0.634337     | 0.746884          | 0.745701            | 0.497967          | 0.498071            |"
      ]
     },
     "metadata": {},
     "output_type": "display_data"
    },
    {
     "data": {
      "text/html": [
       "<pre>| 3         | 0.921648     | 0.750868          | 0.749435            | 0.496922          | 0.497339            |</pre>"
      ],
      "text/plain": [
       "| 3         | 0.921648     | 0.750868          | 0.749435            | 0.496922          | 0.497339            |"
      ]
     },
     "metadata": {},
     "output_type": "display_data"
    },
    {
     "data": {
      "text/html": [
       "<pre>| 4         | 1.218845     | 0.742441          | 0.742458            | 0.498439          | 0.498634            |</pre>"
      ],
      "text/plain": [
       "| 4         | 1.218845     | 0.742441          | 0.742458            | 0.498439          | 0.498634            |"
      ]
     },
     "metadata": {},
     "output_type": "display_data"
    },
    {
     "data": {
      "text/html": [
       "<pre>| 5         | 1.516876     | 0.742027          | 0.742191            | 0.498926          | 0.499212            |</pre>"
      ],
      "text/plain": [
       "| 5         | 1.516876     | 0.742027          | 0.742191            | 0.498926          | 0.499212            |"
      ]
     },
     "metadata": {},
     "output_type": "display_data"
    },
    {
     "data": {
      "text/html": [
       "<pre>| 6         | 1.800305     | 0.742624          | 0.742837            | 0.499892          | 0.500058            |</pre>"
      ],
      "text/plain": [
       "| 6         | 1.800305     | 0.742624          | 0.742837            | 0.499892          | 0.500058            |"
      ]
     },
     "metadata": {},
     "output_type": "display_data"
    },
    {
     "data": {
      "text/html": [
       "<pre>| 10        | 2.946189     | 0.749355          | 0.749000            | 0.500036          | 0.500458            |</pre>"
      ],
      "text/plain": [
       "| 10        | 2.946189     | 0.749355          | 0.749000            | 0.500036          | 0.500458            |"
      ]
     },
     "metadata": {},
     "output_type": "display_data"
    },
    {
     "data": {
      "text/html": [
       "<pre>| 11        | 3.252246     | 0.749327          | 0.749014            | 0.500337          | 0.500661            |</pre>"
      ],
      "text/plain": [
       "| 11        | 3.252246     | 0.749327          | 0.749014            | 0.500337          | 0.500661            |"
      ]
     },
     "metadata": {},
     "output_type": "display_data"
    },
    {
     "data": {
      "text/html": [
       "<pre>| 15        | 4.420721     | 0.749169          | 0.748930            | 0.499575          | 0.500036            |</pre>"
      ],
      "text/plain": [
       "| 15        | 4.420721     | 0.749169          | 0.748930            | 0.499575          | 0.500036            |"
      ]
     },
     "metadata": {},
     "output_type": "display_data"
    },
    {
     "data": {
      "text/html": [
       "<pre>| 20        | 5.875079     | 0.749639          | 0.749421            | 0.500434          | 0.500834            |</pre>"
      ],
      "text/plain": [
       "| 20        | 5.875079     | 0.749639          | 0.749421            | 0.500434          | 0.500834            |"
      ]
     },
     "metadata": {},
     "output_type": "display_data"
    },
    {
     "data": {
      "text/html": [
       "<pre>| 25        | 7.322970     | 0.749288          | 0.749196            | 0.500993          | 0.501370            |</pre>"
      ],
      "text/plain": [
       "| 25        | 7.322970     | 0.749288          | 0.749196            | 0.500993          | 0.501370            |"
      ]
     },
     "metadata": {},
     "output_type": "display_data"
    },
    {
     "data": {
      "text/html": [
       "<pre>| 30        | 8.761503     | 0.747860          | 0.747849            | 0.501235          | 0.501557            |</pre>"
      ],
      "text/plain": [
       "| 30        | 8.761503     | 0.747860          | 0.747849            | 0.501235          | 0.501557            |"
      ]
     },
     "metadata": {},
     "output_type": "display_data"
    },
    {
     "data": {
      "text/html": [
       "<pre>| 35        | 10.192134    | 0.743013          | 0.743033            | 0.501580          | 0.501918            |</pre>"
      ],
      "text/plain": [
       "| 35        | 10.192134    | 0.743013          | 0.743033            | 0.501580          | 0.501918            |"
      ]
     },
     "metadata": {},
     "output_type": "display_data"
    },
    {
     "data": {
      "text/html": [
       "<pre>| 40        | 11.637247    | 0.744964          | 0.745434            | 0.501054          | 0.501415            |</pre>"
      ],
      "text/plain": [
       "| 40        | 11.637247    | 0.744964          | 0.745434            | 0.501054          | 0.501415            |"
      ]
     },
     "metadata": {},
     "output_type": "display_data"
    },
    {
     "data": {
      "text/html": [
       "<pre>| 45        | 13.107053    | 0.745421          | 0.745616            | 0.501584          | 0.501945            |</pre>"
      ],
      "text/plain": [
       "| 45        | 13.107053    | 0.745421          | 0.745616            | 0.501584          | 0.501945            |"
      ]
     },
     "metadata": {},
     "output_type": "display_data"
    },
    {
     "data": {
      "text/html": [
       "<pre>| 50        | 14.556078    | 0.749183          | 0.748972            | 0.501735          | 0.502089            |</pre>"
      ],
      "text/plain": [
       "| 50        | 14.556078    | 0.749183          | 0.748972            | 0.501735          | 0.502089            |"
      ]
     },
     "metadata": {},
     "output_type": "display_data"
    },
    {
     "data": {
      "text/html": [
       "<pre>| 51        | 14.850473    | 0.749825          | 0.749800            | 0.501482          | 0.501853            |</pre>"
      ],
      "text/plain": [
       "| 51        | 14.850473    | 0.749825          | 0.749800            | 0.501482          | 0.501853            |"
      ]
     },
     "metadata": {},
     "output_type": "display_data"
    },
    {
     "data": {
      "text/html": [
       "<pre>| 55        | 15.989245    | 0.749945          | 0.749856            | 0.501418          | 0.501819            |</pre>"
      ],
      "text/plain": [
       "| 55        | 15.989245    | 0.749945          | 0.749856            | 0.501418          | 0.501819            |"
      ]
     },
     "metadata": {},
     "output_type": "display_data"
    },
    {
     "data": {
      "text/html": [
       "<pre>| 60        | 17.417115    | 0.749541          | 0.749575            | 0.501070          | 0.501479            |</pre>"
      ],
      "text/plain": [
       "| 60        | 17.417115    | 0.749541          | 0.749575            | 0.501070          | 0.501479            |"
      ]
     },
     "metadata": {},
     "output_type": "display_data"
    },
    {
     "data": {
      "text/html": [
       "<pre>| 65        | 18.867451    | 0.746042          | 0.745546            | 0.501337          | 0.501730            |</pre>"
      ],
      "text/plain": [
       "| 65        | 18.867451    | 0.746042          | 0.745546            | 0.501337          | 0.501730            |"
      ]
     },
     "metadata": {},
     "output_type": "display_data"
    },
    {
     "data": {
      "text/html": [
       "<pre>| 70        | 20.307729    | 0.750573          | 0.750600            | 0.501413          | 0.501779            |</pre>"
      ],
      "text/plain": [
       "| 70        | 20.307729    | 0.750573          | 0.750600            | 0.501413          | 0.501779            |"
      ]
     },
     "metadata": {},
     "output_type": "display_data"
    },
    {
     "data": {
      "text/html": [
       "<pre>| 75        | 21.740881    | 0.749931          | 0.750053            | 0.501101          | 0.501473            |</pre>"
      ],
      "text/plain": [
       "| 75        | 21.740881    | 0.749931          | 0.750053            | 0.501101          | 0.501473            |"
      ]
     },
     "metadata": {},
     "output_type": "display_data"
    },
    {
     "data": {
      "text/html": [
       "<pre>| 80        | 23.206785    | 0.750078          | 0.750221            | 0.501116          | 0.501491            |</pre>"
      ],
      "text/plain": [
       "| 80        | 23.206785    | 0.750078          | 0.750221            | 0.501116          | 0.501491            |"
      ]
     },
     "metadata": {},
     "output_type": "display_data"
    },
    {
     "data": {
      "text/html": [
       "<pre>| 85        | 24.632793    | 0.750166          | 0.750418            | 0.501289          | 0.501658            |</pre>"
      ],
      "text/plain": [
       "| 85        | 24.632793    | 0.750166          | 0.750418            | 0.501289          | 0.501658            |"
      ]
     },
     "metadata": {},
     "output_type": "display_data"
    },
    {
     "data": {
      "text/html": [
       "<pre>| 90        | 26.098137    | 0.750313          | 0.750572            | 0.501475          | 0.501827            |</pre>"
      ],
      "text/plain": [
       "| 90        | 26.098137    | 0.750313          | 0.750572            | 0.501475          | 0.501827            |"
      ]
     },
     "metadata": {},
     "output_type": "display_data"
    },
    {
     "data": {
      "text/html": [
       "<pre>| 95        | 27.539938    | 0.750738          | 0.751049            | 0.501653          | 0.501992            |</pre>"
      ],
      "text/plain": [
       "| 95        | 27.539938    | 0.750738          | 0.751049            | 0.501653          | 0.501992            |"
      ]
     },
     "metadata": {},
     "output_type": "display_data"
    },
    {
     "data": {
      "text/html": [
       "<pre>| 100       | 28.984451    | 0.746481          | 0.746304            | 0.501789          | 0.502122            |</pre>"
      ],
      "text/plain": [
       "| 100       | 28.984451    | 0.746481          | 0.746304            | 0.501789          | 0.502122            |"
      ]
     },
     "metadata": {},
     "output_type": "display_data"
    },
    {
     "data": {
      "text/html": [
       "<pre>+-----------+--------------+-------------------+---------------------+-------------------+---------------------+</pre>"
      ],
      "text/plain": [
       "+-----------+--------------+-------------------+---------------------+-------------------+---------------------+"
      ]
     },
     "metadata": {},
     "output_type": "display_data"
    },
    {
     "name": "stdout",
     "output_type": "stream",
     "text": [
      "Done 3\n"
     ]
    },
    {
     "data": {
      "text/html": [
       "<pre>Random forest classifier:</pre>"
      ],
      "text/plain": [
       "Random forest classifier:"
      ]
     },
     "metadata": {},
     "output_type": "display_data"
    },
    {
     "data": {
      "text/html": [
       "<pre>--------------------------------------------------------</pre>"
      ],
      "text/plain": [
       "--------------------------------------------------------"
      ]
     },
     "metadata": {},
     "output_type": "display_data"
    },
    {
     "data": {
      "text/html": [
       "<pre>Number of examples          : 284925</pre>"
      ],
      "text/plain": [
       "Number of examples          : 284925"
      ]
     },
     "metadata": {},
     "output_type": "display_data"
    },
    {
     "data": {
      "text/html": [
       "<pre>Number of classes           : 2</pre>"
      ],
      "text/plain": [
       "Number of classes           : 2"
      ]
     },
     "metadata": {},
     "output_type": "display_data"
    },
    {
     "data": {
      "text/html": [
       "<pre>Number of feature columns   : 10</pre>"
      ],
      "text/plain": [
       "Number of feature columns   : 10"
      ]
     },
     "metadata": {},
     "output_type": "display_data"
    },
    {
     "data": {
      "text/html": [
       "<pre>Number of unpacked features : 10</pre>"
      ],
      "text/plain": [
       "Number of unpacked features : 10"
      ]
     },
     "metadata": {},
     "output_type": "display_data"
    },
    {
     "data": {
      "text/html": [
       "<pre>+-----------+--------------+-------------------+---------------------+-------------------+---------------------+</pre>"
      ],
      "text/plain": [
       "+-----------+--------------+-------------------+---------------------+-------------------+---------------------+"
      ]
     },
     "metadata": {},
     "output_type": "display_data"
    },
    {
     "data": {
      "text/html": [
       "<pre>| Iteration | Elapsed Time | Training-accuracy | Validation-accuracy | Training-log_loss | Validation-log_loss |</pre>"
      ],
      "text/plain": [
       "| Iteration | Elapsed Time | Training-accuracy | Validation-accuracy | Training-log_loss | Validation-log_loss |"
      ]
     },
     "metadata": {},
     "output_type": "display_data"
    },
    {
     "data": {
      "text/html": [
       "<pre>+-----------+--------------+-------------------+---------------------+-------------------+---------------------+</pre>"
      ],
      "text/plain": [
       "+-----------+--------------+-------------------+---------------------+-------------------+---------------------+"
      ]
     },
     "metadata": {},
     "output_type": "display_data"
    },
    {
     "data": {
      "text/html": [
       "<pre>| 1         | 0.324412     | 0.721853          | 0.721512            | 0.520837          | 0.522484            |</pre>"
      ],
      "text/plain": [
       "| 1         | 0.324412     | 0.721853          | 0.721512            | 0.520837          | 0.522484            |"
      ]
     },
     "metadata": {},
     "output_type": "display_data"
    },
    {
     "data": {
      "text/html": [
       "<pre>| 2         | 0.612538     | 0.745775          | 0.745111            | 0.516143          | 0.518220            |</pre>"
      ],
      "text/plain": [
       "| 2         | 0.612538     | 0.745775          | 0.745111            | 0.516143          | 0.518220            |"
      ]
     },
     "metadata": {},
     "output_type": "display_data"
    },
    {
     "data": {
      "text/html": [
       "<pre>| 3         | 0.921841     | 0.740233          | 0.739257            | 0.513197          | 0.515097            |</pre>"
      ],
      "text/plain": [
       "| 3         | 0.921841     | 0.740233          | 0.739257            | 0.513197          | 0.515097            |"
      ]
     },
     "metadata": {},
     "output_type": "display_data"
    },
    {
     "data": {
      "text/html": [
       "<pre>| 4         | 1.229582     | 0.740598          | 0.739734            | 0.510255          | 0.512073            |</pre>"
      ],
      "text/plain": [
       "| 4         | 1.229582     | 0.740598          | 0.739734            | 0.510255          | 0.512073            |"
      ]
     },
     "metadata": {},
     "output_type": "display_data"
    },
    {
     "data": {
      "text/html": [
       "<pre>| 5         | 1.515265     | 0.744596          | 0.744086            | 0.505292          | 0.507230            |</pre>"
      ],
      "text/plain": [
       "| 5         | 1.515265     | 0.744596          | 0.744086            | 0.505292          | 0.507230            |"
      ]
     },
     "metadata": {},
     "output_type": "display_data"
    },
    {
     "data": {
      "text/html": [
       "<pre>| 6         | 1.812813     | 0.749966          | 0.748930            | 0.507620          | 0.509682            |</pre>"
      ],
      "text/plain": [
       "| 6         | 1.812813     | 0.749966          | 0.748930            | 0.507620          | 0.509682            |"
      ]
     },
     "metadata": {},
     "output_type": "display_data"
    },
    {
     "data": {
      "text/html": [
       "<pre>| 10        | 2.982904     | 0.745315          | 0.744044            | 0.506004          | 0.508126            |</pre>"
      ],
      "text/plain": [
       "| 10        | 2.982904     | 0.745315          | 0.744044            | 0.506004          | 0.508126            |"
      ]
     },
     "metadata": {},
     "output_type": "display_data"
    },
    {
     "data": {
      "text/html": [
       "<pre>| 11        | 3.279217     | 0.740812          | 0.739243            | 0.506665          | 0.508837            |</pre>"
      ],
      "text/plain": [
       "| 11        | 3.279217     | 0.740812          | 0.739243            | 0.506665          | 0.508837            |"
      ]
     },
     "metadata": {},
     "output_type": "display_data"
    },
    {
     "data": {
      "text/html": [
       "<pre>| 15        | 4.430181     | 0.744522          | 0.743230            | 0.504654          | 0.506745            |</pre>"
      ],
      "text/plain": [
       "| 15        | 4.430181     | 0.744522          | 0.743230            | 0.504654          | 0.506745            |"
      ]
     },
     "metadata": {},
     "output_type": "display_data"
    },
    {
     "data": {
      "text/html": [
       "<pre>| 20        | 5.892458     | 0.744420          | 0.743160            | 0.503563          | 0.505671            |</pre>"
      ],
      "text/plain": [
       "| 20        | 5.892458     | 0.744420          | 0.743160            | 0.503563          | 0.505671            |"
      ]
     },
     "metadata": {},
     "output_type": "display_data"
    },
    {
     "data": {
      "text/html": [
       "<pre>| 25        | 7.328234     | 0.743831          | 0.742556            | 0.503652          | 0.505804            |</pre>"
      ],
      "text/plain": [
       "| 25        | 7.328234     | 0.743831          | 0.742556            | 0.503652          | 0.505804            |"
      ]
     },
     "metadata": {},
     "output_type": "display_data"
    },
    {
     "data": {
      "text/html": [
       "<pre>| 30        | 8.769106     | 0.745649          | 0.744198            | 0.502482          | 0.504641            |</pre>"
      ],
      "text/plain": [
       "| 30        | 8.769106     | 0.745649          | 0.744198            | 0.502482          | 0.504641            |"
      ]
     },
     "metadata": {},
     "output_type": "display_data"
    },
    {
     "data": {
      "text/html": [
       "<pre>| 35        | 10.215613    | 0.744764          | 0.743581            | 0.502693          | 0.504814            |</pre>"
      ],
      "text/plain": [
       "| 35        | 10.215613    | 0.744764          | 0.743581            | 0.502693          | 0.504814            |"
      ]
     },
     "metadata": {},
     "output_type": "display_data"
    },
    {
     "data": {
      "text/html": [
       "<pre>| 40        | 11.655358    | 0.745112          | 0.743805            | 0.502286          | 0.504405            |</pre>"
      ],
      "text/plain": [
       "| 40        | 11.655358    | 0.745112          | 0.743805            | 0.502286          | 0.504405            |"
      ]
     },
     "metadata": {},
     "output_type": "display_data"
    },
    {
     "data": {
      "text/html": [
       "<pre>| 45        | 13.117693    | 0.745073          | 0.743398            | 0.501716          | 0.503890            |</pre>"
      ],
      "text/plain": [
       "| 45        | 13.117693    | 0.745073          | 0.743398            | 0.501716          | 0.503890            |"
      ]
     },
     "metadata": {},
     "output_type": "display_data"
    },
    {
     "data": {
      "text/html": [
       "<pre>| 50        | 14.554547    | 0.744663          | 0.743146            | 0.501904          | 0.504082            |</pre>"
      ],
      "text/plain": [
       "| 50        | 14.554547    | 0.744663          | 0.743146            | 0.501904          | 0.504082            |"
      ]
     },
     "metadata": {},
     "output_type": "display_data"
    },
    {
     "data": {
      "text/html": [
       "<pre>| 51        | 14.852113    | 0.744740          | 0.743117            | 0.501934          | 0.504112            |</pre>"
      ],
      "text/plain": [
       "| 51        | 14.852113    | 0.744740          | 0.743117            | 0.501934          | 0.504112            |"
      ]
     },
     "metadata": {},
     "output_type": "display_data"
    },
    {
     "data": {
      "text/html": [
       "<pre>| 55        | 16.024264    | 0.744915          | 0.743581            | 0.502140          | 0.504293            |</pre>"
      ],
      "text/plain": [
       "| 55        | 16.024264    | 0.744915          | 0.743581            | 0.502140          | 0.504293            |"
      ]
     },
     "metadata": {},
     "output_type": "display_data"
    },
    {
     "data": {
      "text/html": [
       "<pre>| 60        | 17.482209    | 0.745961          | 0.744563            | 0.502182          | 0.504331            |</pre>"
      ],
      "text/plain": [
       "| 60        | 17.482209    | 0.745961          | 0.744563            | 0.502182          | 0.504331            |"
      ]
     },
     "metadata": {},
     "output_type": "display_data"
    },
    {
     "data": {
      "text/html": [
       "<pre>| 65        | 18.936868    | 0.741616          | 0.740268            | 0.502237          | 0.504379            |</pre>"
      ],
      "text/plain": [
       "| 65        | 18.936868    | 0.741616          | 0.740268            | 0.502237          | 0.504379            |"
      ]
     },
     "metadata": {},
     "output_type": "display_data"
    },
    {
     "data": {
      "text/html": [
       "<pre>| 70        | 20.356743    | 0.740662          | 0.739397            | 0.502454          | 0.504605            |</pre>"
      ],
      "text/plain": [
       "| 70        | 20.356743    | 0.740662          | 0.739397            | 0.502454          | 0.504605            |"
      ]
     },
     "metadata": {},
     "output_type": "display_data"
    },
    {
     "data": {
      "text/html": [
       "<pre>| 75        | 21.865912    | 0.740612          | 0.739271            | 0.502680          | 0.504833            |</pre>"
      ],
      "text/plain": [
       "| 75        | 21.865912    | 0.740612          | 0.739271            | 0.502680          | 0.504833            |"
      ]
     },
     "metadata": {},
     "output_type": "display_data"
    },
    {
     "data": {
      "text/html": [
       "<pre>| 80        | 23.332937    | 0.740626          | 0.739215            | 0.502625          | 0.504787            |</pre>"
      ],
      "text/plain": [
       "| 80        | 23.332937    | 0.740626          | 0.739215            | 0.502625          | 0.504787            |"
      ]
     },
     "metadata": {},
     "output_type": "display_data"
    },
    {
     "data": {
      "text/html": [
       "<pre>| 85        | 24.770424    | 0.740500          | 0.739060            | 0.502583          | 0.504743            |</pre>"
      ],
      "text/plain": [
       "| 85        | 24.770424    | 0.740500          | 0.739060            | 0.502583          | 0.504743            |"
      ]
     },
     "metadata": {},
     "output_type": "display_data"
    },
    {
     "data": {
      "text/html": [
       "<pre>| 90        | 26.217506    | 0.740297          | 0.738934            | 0.502285          | 0.504464            |</pre>"
      ],
      "text/plain": [
       "| 90        | 26.217506    | 0.740297          | 0.738934            | 0.502285          | 0.504464            |"
      ]
     },
     "metadata": {},
     "output_type": "display_data"
    },
    {
     "data": {
      "text/html": [
       "<pre>| 95        | 27.667867    | 0.740240          | 0.738765            | 0.502406          | 0.504595            |</pre>"
      ],
      "text/plain": [
       "| 95        | 27.667867    | 0.740240          | 0.738765            | 0.502406          | 0.504595            |"
      ]
     },
     "metadata": {},
     "output_type": "display_data"
    },
    {
     "data": {
      "text/html": [
       "<pre>| 100       | 29.129323    | 0.740525          | 0.739187            | 0.502444          | 0.504624            |</pre>"
      ],
      "text/plain": [
       "| 100       | 29.129323    | 0.740525          | 0.739187            | 0.502444          | 0.504624            |"
      ]
     },
     "metadata": {},
     "output_type": "display_data"
    },
    {
     "data": {
      "text/html": [
       "<pre>+-----------+--------------+-------------------+---------------------+-------------------+---------------------+</pre>"
      ],
      "text/plain": [
       "+-----------+--------------+-------------------+---------------------+-------------------+---------------------+"
      ]
     },
     "metadata": {},
     "output_type": "display_data"
    },
    {
     "name": "stdout",
     "output_type": "stream",
     "text": [
      "Done 4\n"
     ]
    }
   ],
   "source": [
    "myfeatures = ['APL','AvgPktPerSec','IAT','NumForward','BytesEx','BitsPerSec','NumPackets','StdDevLen','Duration','IOPR']\n",
    "from turicreate_cross_validation.cross_validation import KFold\n",
    "SF = shuffle_sframe(SF)\n",
    "Folds = KFold(SF,5)\n",
    "j=0\n",
    "models = []\n",
    "for train,val in Folds:\n",
    "    model = gl.random_forest_classifier.create(train,features=myfeatures,target='isBot',validation_set=val,verbose = True,max_iterations=100)\n",
    "    models.append(model)\n",
    "    print (\"Done\",j)\n",
    "    j=j+1\n",
    "#model = gl.random_forest_classifier.create(SF,features=myfeatures,target='isBot',verbose = False)"
   ]
  },
  {
   "cell_type": "code",
   "execution_count": 6,
   "metadata": {},
   "outputs": [
    {
     "data": {
      "text/plain": [
       "<bound method SFrame.head of Columns:\n",
       "\tAPL\tfloat\n",
       "\tAvgPktPerSec\tfloat\n",
       "\tIAT\tfloat\n",
       "\tNumForward\tint\n",
       "\tBytesEx\tint\n",
       "\tBitsPerSec\tfloat\n",
       "\tNumPackets\tint\n",
       "\tStdDevLen\tfloat\n",
       "\tDuration\tint\n",
       "\tIOPR\tfloat\n",
       "\tisBot\tint\n",
       "\n",
       "Rows: 309187\n",
       "\n",
       "Data:\n",
       "+---------+--------------+-----------+------------+---------+------------+------------+\n",
       "|   APL   | AvgPktPerSec |    IAT    | NumForward | BytesEx | BitsPerSec | NumPackets |\n",
       "+---------+--------------+-----------+------------+---------+------------+------------+\n",
       "|   0.0   |   0.210342   | 5150350.0 |     13     |    0    |    0.0     |     13     |\n",
       "|   91.4  |   1416.53    |  743.105  |     10     |   1828  | 1035770.0  |     20     |\n",
       "|  36.75  |   196.078    |  5828.57  |     4      |   294   |  57647.1   |     8      |\n",
       "|  36.75  |   181.818    |  6285.71  |     4      |   294   |  53454.5   |     8      |\n",
       "| 110.438 |   567.346    |  1819.45  |     16     |   3534  |  501250.0  |     32     |\n",
       "|   18.0  |   6015.04    |  221.667  |     2      |    72   |  866165.0  |     4      |\n",
       "|   18.0  |    478.24    |   2788.0  |     2      |    72   |  68866.6   |     4      |\n",
       "|   18.0  |   422.297    |  3157.33  |     2      |    72   |  60810.8   |     4      |\n",
       "| 99.4167 |   1.11007    |  982743.0 |     7      |   1193  |  882.872   |     12     |\n",
       "|  134.75 |   1.37257    |  794792.0 |     7      |   1617  |  1479.63   |     12     |\n",
       "+---------+--------------+-----------+------------+---------+------------+------------+\n",
       "+-----------+----------+----------+-------+\n",
       "| StdDevLen | Duration |   IOPR   | isBot |\n",
       "+-----------+----------+----------+-------+\n",
       "|    0.0    | 61804233 |   0.0    |   0   |\n",
       "|  94.2779  |  14119   |   1.0    |   1   |\n",
       "|  65.9109  |  40800   |   1.0    |   1   |\n",
       "|  65.9109  |  44000   |   1.0    |   1   |\n",
       "|  94.8713  |  56403   |   1.0    |   1   |\n",
       "|  50.9117  |   665    |   1.0    |   1   |\n",
       "|  50.9117  |   8364   |   1.0    |   1   |\n",
       "|  50.9117  |   9472   |   1.0    |   1   |\n",
       "|  142.819  | 10810175 | 0.714286 |   1   |\n",
       "|  136.573  | 8742717  | 0.714286 |   1   |\n",
       "+-----------+----------+----------+-------+\n",
       "[309187 rows x 11 columns]\n",
       "Note: Only the head of the SFrame is printed.\n",
       "You can use print_rows(num_rows=m, num_columns=n) to print more rows and columns.>"
      ]
     },
     "execution_count": 6,
     "metadata": {},
     "output_type": "execute_result"
    }
   ],
   "source": [
    "Test = gl.SFrame.read_csv('/home/test-machine/testing.csv',verbose=False)\n",
    "Test.head"
   ]
  },
  {
   "cell_type": "code",
   "execution_count": 10,
   "metadata": {},
   "outputs": [
    {
     "name": "stdout",
     "output_type": "stream",
     "text": [
      "end-time  1527291388.0993166\n",
      "start_timee  1527291387.2873857\n",
      "end-time - start_time  2.6260188651259094e-06\n",
      "end-time  1527291388.8863351\n",
      "start_timee  1527291388.0995076\n",
      "end-time - start_time  2.5448274482416854e-06\n",
      "end-time  1527291389.7235246\n",
      "start_timee  1527291388.8865743\n",
      "end-time - start_time  2.7069388497059173e-06\n",
      "end-time  1527291390.5014296\n",
      "start_timee  1527291389.72371\n",
      "end-time - start_time  2.5153693320892017e-06\n",
      "end-time  1527291391.3633847\n",
      "start_timee  1527291390.501621\n",
      "end-time - start_time  2.7871925913573938e-06\n",
      "+--------------+-----------------+--------+\n",
      "| target_label | predicted_label | count  |\n",
      "+--------------+-----------------+--------+\n",
      "|      1       |        1        | 145528 |\n",
      "|      0       |        1        | 59735  |\n",
      "|      0       |        0        | 56111  |\n",
      "|      1       |        0        | 47813  |\n",
      "+--------------+-----------------+--------+\n",
      "[4 rows x 3 columns]\n",
      "\n"
     ]
    }
   ],
   "source": [
    "import time\n",
    "pred = []\n",
    "import time\n",
    "for model in models:\n",
    "    start_time = time.time()\n",
    "    temp = list(model.predict(Test))\n",
    "    end_time = time.time()\n",
    "    print ('end-time ',end_time)\n",
    "    print ('start_timee ',start_time)\n",
    "    print ('end-time - start_time ',(end_time - start_time)/309187)\n",
    "    pred.append(temp)\n",
    "    \n",
    "final = []\n",
    "for i in range(len(Test)):\n",
    "    count = 0\n",
    "    for j in range(5):\n",
    "        if pred[j][i] ==1:\n",
    "            count += 1\n",
    "    if count>2:\n",
    "        final.append(1)\n",
    "    else:\n",
    "        final.append(0)\n",
    "print (gl.toolkits.evaluation.confusion_matrix(Test['isBot'],gl.SArray(final)))"
   ]
  },
  {
   "cell_type": "code",
   "execution_count": 11,
   "metadata": {},
   "outputs": [
    {
     "name": "stdout",
     "output_type": "stream",
     "text": [
      "0.6521587259490211\n"
     ]
    }
   ],
   "source": [
    "print (gl.toolkits.evaluation.accuracy(Test['isBot'],gl.SArray(final)))"
   ]
  },
  {
   "cell_type": "code",
   "execution_count": 12,
   "metadata": {},
   "outputs": [
    {
     "name": "stdout",
     "output_type": "stream",
     "text": [
      "0.7089831094741867\n"
     ]
    }
   ],
   "source": [
    "print (gl.toolkits.evaluation.precision(Test['isBot'],gl.SArray(final)))"
   ]
  }
 ],
 "metadata": {
  "kernelspec": {
   "display_name": "Python 3",
   "language": "python",
   "name": "python3"
  },
  "language_info": {
   "codemirror_mode": {
    "name": "ipython",
    "version": 3
   },
   "file_extension": ".py",
   "mimetype": "text/x-python",
   "name": "python",
   "nbconvert_exporter": "python",
   "pygments_lexer": "ipython3",
   "version": "3.6.5"
  }
 },
 "nbformat": 4,
 "nbformat_minor": 2
}
