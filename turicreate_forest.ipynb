{
 "cells": [
  {
   "cell_type": "code",
   "execution_count": 1,
   "metadata": {},
   "outputs": [
    {
     "name": "stderr",
     "output_type": "stream",
     "text": [
      "/usr/lib/python3/dist-packages/h5py/__init__.py:36: FutureWarning: Conversion of the second argument of issubdtype from `float` to `np.floating` is deprecated. In future, it will be treated as `np.float64 == np.dtype(float).type`.\n",
      "  from ._conv import register_converters as _register_converters\n",
      "/usr/local/lib/python3.6/dist-packages/tensorflow/python/framework/ops.py:875: DeprecationWarning: builtin type EagerTensor has no __module__ attribute\n",
      "  EagerTensor = c_api.TFE_Py_InitEagerTensor(_EagerTensorBase)\n",
      "/usr/local/lib/python3.6/dist-packages/tensorflow/python/util/tf_inspect.py:45: DeprecationWarning: inspect.getargspec() is deprecated, use inspect.signature() or inspect.getfullargspec()\n",
      "  if d.decorator_argspec is not None), _inspect.getargspec(target))\n"
     ]
    }
   ],
   "source": [
    "import turicreate as gl\n",
    "import tensorflow as tf\n",
    "import matplotlib.pyplot as plt\n",
    "from turicreate_cross_validation.cross_validation import shuffle_sframe, StratifiedKFold, cross_val_score"
   ]
  },
  {
   "cell_type": "code",
   "execution_count": 2,
   "metadata": {},
   "outputs": [
    {
     "name": "stdout",
     "output_type": "stream",
     "text": [
      "Done reading\n"
     ]
    },
    {
     "data": {
      "text/plain": [
       "<bound method SFrame.head of Columns:\n",
       "\tAPL\tfloat\n",
       "\tAvgPktPerSec\tfloat\n",
       "\tIAT\tfloat\n",
       "\tNumForward\tint\n",
       "\tBytesEx\tint\n",
       "\tBitsPerSec\tfloat\n",
       "\tNumPackets\tint\n",
       "\tStdDevLen\tfloat\n",
       "\tDuration\tint\n",
       "\tIOPR\tfloat\n",
       "\tisBot\tint\n",
       "\n",
       "Rows: 356156\n",
       "\n",
       "Data:\n",
       "+---------+--------------+------------+------------+---------+------------+------------+\n",
       "|   APL   | AvgPktPerSec |    IAT     | NumForward | BytesEx | BitsPerSec | NumPackets |\n",
       "+---------+--------------+------------+------------+---------+------------+------------+\n",
       "|   0.0   |   0.673102   | 1782790.0  |     6      |    0    |    0.0     |     6      |\n",
       "|   0.0   |   0.124399   | 16100000.0 |     2      |    0    |    0.0     |     2      |\n",
       "|   0.0   |  0.0208823   | 95800000.0 |     2      |    0    |    0.0     |     2      |\n",
       "| 119.714 |   80.6889    |  14458.8   |     4      |   838   |  77276.9   |     7      |\n",
       "|   0.0   |   11111.1    |   180.0    |     2      |    0    |    0.0     |     2      |\n",
       "|   0.0   |   0.665698   | 1802620.0  |     6      |    0    |    0.0     |     6      |\n",
       "|   0.0   |   21052.6    |    95.0    |     1      |    0    |    0.0     |     2      |\n",
       "| 683.211 |    8.5914    |  122862.0  |     7      |  12981  |  46957.9   |     19     |\n",
       "| 897.043 |   10.5363    |  95021.6   |    295     |  764281 |  75612.1   |    852     |\n",
       "| 652.208 |   1.38086    |  755673.0  |     10     |  15653  |  7204.86   |     24     |\n",
       "+---------+--------------+------------+------------+---------+------------+------------+\n",
       "+-----------+----------+---------+-------+\n",
       "| StdDevLen | Duration |   IOPR  | isBot |\n",
       "+-----------+----------+---------+-------+\n",
       "|    0.0    | 8913955  |   0.0   |   1   |\n",
       "|    0.0    | 16077310 |   0.0   |   1   |\n",
       "|    0.0    | 95774697 |   0.0   |   0   |\n",
       "|    49.5   |  86753   |   0.75  |   1   |\n",
       "|    0.0    |   180    |   0.0   |   1   |\n",
       "|    0.0    | 9013099  |   0.0   |   1   |\n",
       "|    0.0    |    95    |   1.0   |   1   |\n",
       "|  54.0489  | 2211514  | 1.71429 |   0   |\n",
       "|  14.2911  | 80863403 | 1.88814 |   1   |\n",
       "|  12.0167  | 17380479 |   1.4   |   1   |\n",
       "+-----------+----------+---------+-------+\n",
       "[356156 rows x 11 columns]\n",
       "Note: Only the head of the SFrame is printed.\n",
       "You can use print_rows(num_rows=m, num_columns=n) to print more rows and columns.>"
      ]
     },
     "execution_count": 2,
     "metadata": {},
     "output_type": "execute_result"
    }
   ],
   "source": [
    "SF = gl.SFrame.read_csv('/home/test-machine/training.csv',verbose=False)\n",
    "print (\"Done reading\")\n",
    "SF.head"
   ]
  },
  {
   "cell_type": "code",
   "execution_count": 3,
   "metadata": {},
   "outputs": [
    {
     "data": {
      "text/plain": [
       "(356156, 11)"
      ]
     },
     "execution_count": 3,
     "metadata": {},
     "output_type": "execute_result"
    }
   ],
   "source": [
    "SF.shape"
   ]
  },
  {
   "cell_type": "code",
   "execution_count": 17,
   "metadata": {},
   "outputs": [],
   "source": [
    "myfeatures = ['APL','AvgPktPerSec','IAT','NumForward','BytesEx','BitsPerSec','NumPackets','StdDevLen','Duration','IOPR']\n",
    "\n",
    "model = gl.random_forest_classifier.create(SF,features=myfeatures,target='isBot',verbose = False)"
   ]
  },
  {
   "cell_type": "code",
   "execution_count": 18,
   "metadata": {},
   "outputs": [
    {
     "data": {
      "text/plain": [
       "<bound method SFrame.head of Columns:\n",
       "\tAPL\tfloat\n",
       "\tAvgPktPerSec\tfloat\n",
       "\tIAT\tfloat\n",
       "\tNumForward\tint\n",
       "\tBytesEx\tint\n",
       "\tBitsPerSec\tfloat\n",
       "\tNumPackets\tint\n",
       "\tStdDevLen\tfloat\n",
       "\tDuration\tint\n",
       "\tIOPR\tfloat\n",
       "\tisBot\tint\n",
       "\n",
       "Rows: 309187\n",
       "\n",
       "Data:\n",
       "+---------+--------------+-----------+------------+---------+------------+------------+\n",
       "|   APL   | AvgPktPerSec |    IAT    | NumForward | BytesEx | BitsPerSec | NumPackets |\n",
       "+---------+--------------+-----------+------------+---------+------------+------------+\n",
       "|   0.0   |   0.210342   | 5150350.0 |     13     |    0    |    0.0     |     13     |\n",
       "|   91.4  |   1416.53    |  743.105  |     10     |   1828  | 1035770.0  |     20     |\n",
       "|  36.75  |   196.078    |  5828.57  |     4      |   294   |  57647.1   |     8      |\n",
       "|  36.75  |   181.818    |  6285.71  |     4      |   294   |  53454.5   |     8      |\n",
       "| 110.438 |   567.346    |  1819.45  |     16     |   3534  |  501250.0  |     32     |\n",
       "|   18.0  |   6015.04    |  221.667  |     2      |    72   |  866165.0  |     4      |\n",
       "|   18.0  |    478.24    |   2788.0  |     2      |    72   |  68866.6   |     4      |\n",
       "|   18.0  |   422.297    |  3157.33  |     2      |    72   |  60810.8   |     4      |\n",
       "| 99.4167 |   1.11007    |  982743.0 |     7      |   1193  |  882.872   |     12     |\n",
       "|  134.75 |   1.37257    |  794792.0 |     7      |   1617  |  1479.63   |     12     |\n",
       "+---------+--------------+-----------+------------+---------+------------+------------+\n",
       "+-----------+----------+----------+-------+\n",
       "| StdDevLen | Duration |   IOPR   | isBot |\n",
       "+-----------+----------+----------+-------+\n",
       "|    0.0    | 61804233 |   0.0    |   0   |\n",
       "|  94.2779  |  14119   |   1.0    |   1   |\n",
       "|  65.9109  |  40800   |   1.0    |   1   |\n",
       "|  65.9109  |  44000   |   1.0    |   1   |\n",
       "|  94.8713  |  56403   |   1.0    |   1   |\n",
       "|  50.9117  |   665    |   1.0    |   1   |\n",
       "|  50.9117  |   8364   |   1.0    |   1   |\n",
       "|  50.9117  |   9472   |   1.0    |   1   |\n",
       "|  142.819  | 10810175 | 0.714286 |   1   |\n",
       "|  136.573  | 8742717  | 0.714286 |   1   |\n",
       "+-----------+----------+----------+-------+\n",
       "[309187 rows x 11 columns]\n",
       "Note: Only the head of the SFrame is printed.\n",
       "You can use print_rows(num_rows=m, num_columns=n) to print more rows and columns.>"
      ]
     },
     "execution_count": 18,
     "metadata": {},
     "output_type": "execute_result"
    }
   ],
   "source": [
    "Test = gl.SFrame.read_csv('/home/test-machine/testing.csv',verbose=False)\n",
    "Test.head"
   ]
  },
  {
   "cell_type": "code",
   "execution_count": 23,
   "metadata": {},
   "outputs": [
    {
     "name": "stdout",
     "output_type": "stream",
     "text": [
      "end-time  1527117934.5770438\n",
      "start_timee  1527117934.224791\n",
      "end-time - start_time  1.1392869745057166e-06\n",
      "+--------------+-----------------+--------+\n",
      "| target_label | predicted_label | count  |\n",
      "+--------------+-----------------+--------+\n",
      "|      1       |        1        | 142720 |\n",
      "|      0       |        1        | 46181  |\n",
      "|      0       |        0        | 69665  |\n",
      "|      1       |        0        | 50621  |\n",
      "+--------------+-----------------+--------+\n",
      "[4 rows x 3 columns]\n",
      "\n"
     ]
    }
   ],
   "source": [
    "import time\n",
    "start_time = time.time()\n",
    "temp = list(model.predict(Test))\n",
    "end_time = time.time()\n",
    "print ('end-time ',end_time)\n",
    "print ('start_timee ',start_time)\n",
    "print ('end-time - start_time ',(end_time - start_time)/309187)\n",
    "print (gl.toolkits.evaluation.confusion_matrix(Test['isBot'],gl.SArray(temp)))"
   ]
  },
  {
   "cell_type": "code",
   "execution_count": 24,
   "metadata": {},
   "outputs": [
    {
     "name": "stdout",
     "output_type": "stream",
     "text": [
      "0.6869143916141365\n"
     ]
    }
   ],
   "source": [
    "print (gl.toolkits.evaluation.accuracy(Test['isBot'],gl.SArray(temp)))"
   ]
  },
  {
   "cell_type": "code",
   "execution_count": 25,
   "metadata": {},
   "outputs": [
    {
     "name": "stdout",
     "output_type": "stream",
     "text": [
      "0.7555280279087988\n"
     ]
    }
   ],
   "source": [
    "print (gl.toolkits.evaluation.precision(Test['isBot'],gl.SArray(temp)))"
   ]
  },
  {
   "cell_type": "code",
   "execution_count": null,
   "metadata": {},
   "outputs": [],
   "source": []
  }
 ],
 "metadata": {
  "kernelspec": {
   "display_name": "Python 3",
   "language": "python",
   "name": "python3"
  },
  "language_info": {
   "codemirror_mode": {
    "name": "ipython",
    "version": 3
   },
   "file_extension": ".py",
   "mimetype": "text/x-python",
   "name": "python",
   "nbconvert_exporter": "python",
   "pygments_lexer": "ipython3",
   "version": "3.6.5"
  }
 },
 "nbformat": 4,
 "nbformat_minor": 2
}
